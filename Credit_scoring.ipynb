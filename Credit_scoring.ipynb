{
 "cells": [
  {
   "cell_type": "markdown",
   "metadata": {},
   "source": [
    "# TP 1 : Classification de cellules tumorales\n",
    "\n",
    "L'objectif de ce TP est de mettre en application les méthodes de classification vues en cours (Naive Bayes, SVM, LDA, QDA) et de les comparer sur un problème de classification de cellules tumorales. \n",
    "\n",
    "## Description des données\n",
    "\n",
    "Le jeu de données \"Breast cancer Wisconsin (Diagnostic) Data Set\" (data.csv) contient les informations de 31 features quantitatives sur 569 échantillons provenant de cellules tumorales; la dernière information est un label binaire indiquant si la tumeur est bénigne (\"B\") ou maligne (\"M\"). Une description des données est disponibles sur le site UCI Machine Learning Repository (https://archive.ics.uci.edu/ml/datasets/Breast+Cancer+Wisconsin+%28Diagnostic%29). L'objectif est de construire un classifieur permettant de prédire la malignité de la cellule (présence d'un cancer) à partir des 31 features quantitatives. Le jeu de données comporte les colonnes (features) suivantes :\n",
    "\n",
    "\n",
    "*Identifiant et label*\n",
    "- id : identifiant unique (integer)\n",
    "- diagnosis : (M = maligne, B = benigne)\n",
    "\n",
    "*Mesures quantitatives calculées à partir d'une image médicale de cellules tumorales*\n",
    "- radius : distance moyenne du noyau cellulaire à la membrane \n",
    "- texture : moyenne des valeurs de la nuance de gris dans l'image originale\n",
    "- perimeter : périmètre moyen des cellules dans l'image\n",
    "- area : surface moyenne des cellules dans l'image\n",
    "- smoothness : moyenne de la variation locale dans la taille du rayon (radius)\n",
    "- compactness : perimeter^2 / area - 1.0\n",
    "- concavity : sévérité des parties concaves du contour\n",
    "- concave points : nombre de parties concaves du contour\n",
    "- symmetry\n",
    "- fractal dimension : \"coastline approximation\" - 1\n",
    "\n",
    "Avec chacune de ces 10 mesures (faites trois fois pour chaque image), on construit 3 features : la moyenne (mean), de l'écart type (se) et la plus grande valeur (worst). Au final, on a pour chaque cellule son ID, le diagnostic, et 30 features quantitatives construites à partir des 10 mesures.\n"
   ]
  },
  {
   "cell_type": "markdown",
   "metadata": {},
   "source": [
    "## Importation des librairies"
   ]
  },
  {
   "cell_type": "code",
   "execution_count": 1,
   "metadata": {},
   "outputs": [],
   "source": [
    "import numpy as np\n",
    "import matplotlib.pyplot as plt\n",
    "from matplotlib.colors import ListedColormap\n",
    "%matplotlib inline\n",
    "import pandas as pd\n",
    "import seaborn as sns"
   ]
  },
  {
   "cell_type": "markdown",
   "metadata": {},
   "source": [
    "## 1 - Exploration rapide des données\n",
    "\n",
    "#### 1) Chargez les données, affichez leur taille, un extrait des données et un résumé statistique"
   ]
  },
  {
   "cell_type": "markdown",
   "metadata": {},
   "source": [
    " On charge les données avec `read_csv` de la librairie `pandas` , on différencie bien la séparation de la décimal, et on indique qu'il y a 32 colonnes."
   ]
  },
  {
   "cell_type": "code",
   "execution_count": 2,
   "metadata": {},
   "outputs": [],
   "source": [
    "df = pd.read_csv(\n",
    "    \"data.csv\",\n",
    "    sep=',',\n",
    "    decimal='.',\n",
    "    usecols=range(32)\n",
    ")"
   ]
  },
  {
   "cell_type": "markdown",
   "metadata": {},
   "source": [
    "On affiche la dimension du jeu de données qu'on a:\n",
    "\n",
    "Nous avons 569 individus et 32 features, dont 30 features quantitatives, `id` pour l'id du patient et la target `diagnosis`"
   ]
  },
  {
   "cell_type": "code",
   "execution_count": 3,
   "metadata": {},
   "outputs": [
    {
     "name": "stdout",
     "output_type": "stream",
     "text": [
      "Taille du tableau de données :  (569, 32)\n"
     ]
    }
   ],
   "source": [
    "print(\"Taille du tableau de données : \",df.shape)"
   ]
  },
  {
   "cell_type": "markdown",
   "metadata": {},
   "source": [
    "On affiche un extrait des données, pour les 5 premiers individus, afin de voir à quoi ressemble notre jeu de données."
   ]
  },
  {
   "cell_type": "code",
   "execution_count": 4,
   "metadata": {},
   "outputs": [
    {
     "data": {
      "text/html": [
       "<div>\n",
       "<style scoped>\n",
       "    .dataframe tbody tr th:only-of-type {\n",
       "        vertical-align: middle;\n",
       "    }\n",
       "\n",
       "    .dataframe tbody tr th {\n",
       "        vertical-align: top;\n",
       "    }\n",
       "\n",
       "    .dataframe thead th {\n",
       "        text-align: right;\n",
       "    }\n",
       "</style>\n",
       "<table border=\"1\" class=\"dataframe\">\n",
       "  <thead>\n",
       "    <tr style=\"text-align: right;\">\n",
       "      <th></th>\n",
       "      <th>id</th>\n",
       "      <th>diagnosis</th>\n",
       "      <th>radius_mean</th>\n",
       "      <th>texture_mean</th>\n",
       "      <th>perimeter_mean</th>\n",
       "      <th>area_mean</th>\n",
       "      <th>smoothness_mean</th>\n",
       "      <th>compactness_mean</th>\n",
       "      <th>concavity_mean</th>\n",
       "      <th>concave points_mean</th>\n",
       "      <th>...</th>\n",
       "      <th>radius_worst</th>\n",
       "      <th>texture_worst</th>\n",
       "      <th>perimeter_worst</th>\n",
       "      <th>area_worst</th>\n",
       "      <th>smoothness_worst</th>\n",
       "      <th>compactness_worst</th>\n",
       "      <th>concavity_worst</th>\n",
       "      <th>concave points_worst</th>\n",
       "      <th>symmetry_worst</th>\n",
       "      <th>fractal_dimension_worst</th>\n",
       "    </tr>\n",
       "  </thead>\n",
       "  <tbody>\n",
       "    <tr>\n",
       "      <th>0</th>\n",
       "      <td>842302</td>\n",
       "      <td>M</td>\n",
       "      <td>17.99</td>\n",
       "      <td>10.38</td>\n",
       "      <td>122.80</td>\n",
       "      <td>1001.0</td>\n",
       "      <td>0.11840</td>\n",
       "      <td>0.27760</td>\n",
       "      <td>0.3001</td>\n",
       "      <td>0.14710</td>\n",
       "      <td>...</td>\n",
       "      <td>25.38</td>\n",
       "      <td>17.33</td>\n",
       "      <td>184.60</td>\n",
       "      <td>2019.0</td>\n",
       "      <td>0.1622</td>\n",
       "      <td>0.6656</td>\n",
       "      <td>0.7119</td>\n",
       "      <td>0.2654</td>\n",
       "      <td>0.4601</td>\n",
       "      <td>0.11890</td>\n",
       "    </tr>\n",
       "    <tr>\n",
       "      <th>1</th>\n",
       "      <td>842517</td>\n",
       "      <td>M</td>\n",
       "      <td>20.57</td>\n",
       "      <td>17.77</td>\n",
       "      <td>132.90</td>\n",
       "      <td>1326.0</td>\n",
       "      <td>0.08474</td>\n",
       "      <td>0.07864</td>\n",
       "      <td>0.0869</td>\n",
       "      <td>0.07017</td>\n",
       "      <td>...</td>\n",
       "      <td>24.99</td>\n",
       "      <td>23.41</td>\n",
       "      <td>158.80</td>\n",
       "      <td>1956.0</td>\n",
       "      <td>0.1238</td>\n",
       "      <td>0.1866</td>\n",
       "      <td>0.2416</td>\n",
       "      <td>0.1860</td>\n",
       "      <td>0.2750</td>\n",
       "      <td>0.08902</td>\n",
       "    </tr>\n",
       "    <tr>\n",
       "      <th>2</th>\n",
       "      <td>84300903</td>\n",
       "      <td>M</td>\n",
       "      <td>19.69</td>\n",
       "      <td>21.25</td>\n",
       "      <td>130.00</td>\n",
       "      <td>1203.0</td>\n",
       "      <td>0.10960</td>\n",
       "      <td>0.15990</td>\n",
       "      <td>0.1974</td>\n",
       "      <td>0.12790</td>\n",
       "      <td>...</td>\n",
       "      <td>23.57</td>\n",
       "      <td>25.53</td>\n",
       "      <td>152.50</td>\n",
       "      <td>1709.0</td>\n",
       "      <td>0.1444</td>\n",
       "      <td>0.4245</td>\n",
       "      <td>0.4504</td>\n",
       "      <td>0.2430</td>\n",
       "      <td>0.3613</td>\n",
       "      <td>0.08758</td>\n",
       "    </tr>\n",
       "    <tr>\n",
       "      <th>3</th>\n",
       "      <td>84348301</td>\n",
       "      <td>M</td>\n",
       "      <td>11.42</td>\n",
       "      <td>20.38</td>\n",
       "      <td>77.58</td>\n",
       "      <td>386.1</td>\n",
       "      <td>0.14250</td>\n",
       "      <td>0.28390</td>\n",
       "      <td>0.2414</td>\n",
       "      <td>0.10520</td>\n",
       "      <td>...</td>\n",
       "      <td>14.91</td>\n",
       "      <td>26.50</td>\n",
       "      <td>98.87</td>\n",
       "      <td>567.7</td>\n",
       "      <td>0.2098</td>\n",
       "      <td>0.8663</td>\n",
       "      <td>0.6869</td>\n",
       "      <td>0.2575</td>\n",
       "      <td>0.6638</td>\n",
       "      <td>0.17300</td>\n",
       "    </tr>\n",
       "    <tr>\n",
       "      <th>4</th>\n",
       "      <td>84358402</td>\n",
       "      <td>M</td>\n",
       "      <td>20.29</td>\n",
       "      <td>14.34</td>\n",
       "      <td>135.10</td>\n",
       "      <td>1297.0</td>\n",
       "      <td>0.10030</td>\n",
       "      <td>0.13280</td>\n",
       "      <td>0.1980</td>\n",
       "      <td>0.10430</td>\n",
       "      <td>...</td>\n",
       "      <td>22.54</td>\n",
       "      <td>16.67</td>\n",
       "      <td>152.20</td>\n",
       "      <td>1575.0</td>\n",
       "      <td>0.1374</td>\n",
       "      <td>0.2050</td>\n",
       "      <td>0.4000</td>\n",
       "      <td>0.1625</td>\n",
       "      <td>0.2364</td>\n",
       "      <td>0.07678</td>\n",
       "    </tr>\n",
       "  </tbody>\n",
       "</table>\n",
       "<p>5 rows × 32 columns</p>\n",
       "</div>"
      ],
      "text/plain": [
       "         id diagnosis  radius_mean  texture_mean  perimeter_mean  area_mean  \\\n",
       "0    842302         M        17.99         10.38          122.80     1001.0   \n",
       "1    842517         M        20.57         17.77          132.90     1326.0   \n",
       "2  84300903         M        19.69         21.25          130.00     1203.0   \n",
       "3  84348301         M        11.42         20.38           77.58      386.1   \n",
       "4  84358402         M        20.29         14.34          135.10     1297.0   \n",
       "\n",
       "   smoothness_mean  compactness_mean  concavity_mean  concave points_mean  \\\n",
       "0          0.11840           0.27760          0.3001              0.14710   \n",
       "1          0.08474           0.07864          0.0869              0.07017   \n",
       "2          0.10960           0.15990          0.1974              0.12790   \n",
       "3          0.14250           0.28390          0.2414              0.10520   \n",
       "4          0.10030           0.13280          0.1980              0.10430   \n",
       "\n",
       "   ...  radius_worst  texture_worst  perimeter_worst  area_worst  \\\n",
       "0  ...         25.38          17.33           184.60      2019.0   \n",
       "1  ...         24.99          23.41           158.80      1956.0   \n",
       "2  ...         23.57          25.53           152.50      1709.0   \n",
       "3  ...         14.91          26.50            98.87       567.7   \n",
       "4  ...         22.54          16.67           152.20      1575.0   \n",
       "\n",
       "   smoothness_worst  compactness_worst  concavity_worst  concave points_worst  \\\n",
       "0            0.1622             0.6656           0.7119                0.2654   \n",
       "1            0.1238             0.1866           0.2416                0.1860   \n",
       "2            0.1444             0.4245           0.4504                0.2430   \n",
       "3            0.2098             0.8663           0.6869                0.2575   \n",
       "4            0.1374             0.2050           0.4000                0.1625   \n",
       "\n",
       "   symmetry_worst  fractal_dimension_worst  \n",
       "0          0.4601                  0.11890  \n",
       "1          0.2750                  0.08902  \n",
       "2          0.3613                  0.08758  \n",
       "3          0.6638                  0.17300  \n",
       "4          0.2364                  0.07678  \n",
       "\n",
       "[5 rows x 32 columns]"
      ]
     },
     "execution_count": 4,
     "metadata": {},
     "output_type": "execute_result"
    }
   ],
   "source": [
    "df.head(n=5)"
   ]
  },
  {
   "cell_type": "markdown",
   "metadata": {},
   "source": [
    "Enfin, on affiche un résumé statistique pour voir la moyenne de chaque feature, l'écart type, le minimum ect... (évidemment ce résumé statistique n'a de sens que pour les 30 features quantitatives)"
   ]
  },
  {
   "cell_type": "code",
   "execution_count": 5,
   "metadata": {
    "tags": []
   },
   "outputs": [
    {
     "data": {
      "text/html": [
       "<div>\n",
       "<style scoped>\n",
       "    .dataframe tbody tr th:only-of-type {\n",
       "        vertical-align: middle;\n",
       "    }\n",
       "\n",
       "    .dataframe tbody tr th {\n",
       "        vertical-align: top;\n",
       "    }\n",
       "\n",
       "    .dataframe thead th {\n",
       "        text-align: right;\n",
       "    }\n",
       "</style>\n",
       "<table border=\"1\" class=\"dataframe\">\n",
       "  <thead>\n",
       "    <tr style=\"text-align: right;\">\n",
       "      <th></th>\n",
       "      <th>id</th>\n",
       "      <th>radius_mean</th>\n",
       "      <th>texture_mean</th>\n",
       "      <th>perimeter_mean</th>\n",
       "      <th>area_mean</th>\n",
       "      <th>smoothness_mean</th>\n",
       "      <th>compactness_mean</th>\n",
       "      <th>concavity_mean</th>\n",
       "      <th>concave points_mean</th>\n",
       "      <th>symmetry_mean</th>\n",
       "      <th>...</th>\n",
       "      <th>radius_worst</th>\n",
       "      <th>texture_worst</th>\n",
       "      <th>perimeter_worst</th>\n",
       "      <th>area_worst</th>\n",
       "      <th>smoothness_worst</th>\n",
       "      <th>compactness_worst</th>\n",
       "      <th>concavity_worst</th>\n",
       "      <th>concave points_worst</th>\n",
       "      <th>symmetry_worst</th>\n",
       "      <th>fractal_dimension_worst</th>\n",
       "    </tr>\n",
       "  </thead>\n",
       "  <tbody>\n",
       "    <tr>\n",
       "      <th>count</th>\n",
       "      <td>5.690000e+02</td>\n",
       "      <td>569.000000</td>\n",
       "      <td>569.000000</td>\n",
       "      <td>569.000000</td>\n",
       "      <td>569.000000</td>\n",
       "      <td>569.000000</td>\n",
       "      <td>569.000000</td>\n",
       "      <td>569.000000</td>\n",
       "      <td>569.000000</td>\n",
       "      <td>569.000000</td>\n",
       "      <td>...</td>\n",
       "      <td>569.000000</td>\n",
       "      <td>569.000000</td>\n",
       "      <td>569.000000</td>\n",
       "      <td>569.000000</td>\n",
       "      <td>569.000000</td>\n",
       "      <td>569.000000</td>\n",
       "      <td>569.000000</td>\n",
       "      <td>569.000000</td>\n",
       "      <td>569.000000</td>\n",
       "      <td>569.000000</td>\n",
       "    </tr>\n",
       "    <tr>\n",
       "      <th>mean</th>\n",
       "      <td>3.037183e+07</td>\n",
       "      <td>14.127292</td>\n",
       "      <td>19.289649</td>\n",
       "      <td>91.969033</td>\n",
       "      <td>654.889104</td>\n",
       "      <td>0.096360</td>\n",
       "      <td>0.104341</td>\n",
       "      <td>0.088799</td>\n",
       "      <td>0.048919</td>\n",
       "      <td>0.181162</td>\n",
       "      <td>...</td>\n",
       "      <td>16.269190</td>\n",
       "      <td>25.677223</td>\n",
       "      <td>107.261213</td>\n",
       "      <td>880.583128</td>\n",
       "      <td>0.132369</td>\n",
       "      <td>0.254265</td>\n",
       "      <td>0.272188</td>\n",
       "      <td>0.114606</td>\n",
       "      <td>0.290076</td>\n",
       "      <td>0.083946</td>\n",
       "    </tr>\n",
       "    <tr>\n",
       "      <th>std</th>\n",
       "      <td>1.250206e+08</td>\n",
       "      <td>3.524049</td>\n",
       "      <td>4.301036</td>\n",
       "      <td>24.298981</td>\n",
       "      <td>351.914129</td>\n",
       "      <td>0.014064</td>\n",
       "      <td>0.052813</td>\n",
       "      <td>0.079720</td>\n",
       "      <td>0.038803</td>\n",
       "      <td>0.027414</td>\n",
       "      <td>...</td>\n",
       "      <td>4.833242</td>\n",
       "      <td>6.146258</td>\n",
       "      <td>33.602542</td>\n",
       "      <td>569.356993</td>\n",
       "      <td>0.022832</td>\n",
       "      <td>0.157336</td>\n",
       "      <td>0.208624</td>\n",
       "      <td>0.065732</td>\n",
       "      <td>0.061867</td>\n",
       "      <td>0.018061</td>\n",
       "    </tr>\n",
       "    <tr>\n",
       "      <th>min</th>\n",
       "      <td>8.670000e+03</td>\n",
       "      <td>6.981000</td>\n",
       "      <td>9.710000</td>\n",
       "      <td>43.790000</td>\n",
       "      <td>143.500000</td>\n",
       "      <td>0.052630</td>\n",
       "      <td>0.019380</td>\n",
       "      <td>0.000000</td>\n",
       "      <td>0.000000</td>\n",
       "      <td>0.106000</td>\n",
       "      <td>...</td>\n",
       "      <td>7.930000</td>\n",
       "      <td>12.020000</td>\n",
       "      <td>50.410000</td>\n",
       "      <td>185.200000</td>\n",
       "      <td>0.071170</td>\n",
       "      <td>0.027290</td>\n",
       "      <td>0.000000</td>\n",
       "      <td>0.000000</td>\n",
       "      <td>0.156500</td>\n",
       "      <td>0.055040</td>\n",
       "    </tr>\n",
       "    <tr>\n",
       "      <th>25%</th>\n",
       "      <td>8.692180e+05</td>\n",
       "      <td>11.700000</td>\n",
       "      <td>16.170000</td>\n",
       "      <td>75.170000</td>\n",
       "      <td>420.300000</td>\n",
       "      <td>0.086370</td>\n",
       "      <td>0.064920</td>\n",
       "      <td>0.029560</td>\n",
       "      <td>0.020310</td>\n",
       "      <td>0.161900</td>\n",
       "      <td>...</td>\n",
       "      <td>13.010000</td>\n",
       "      <td>21.080000</td>\n",
       "      <td>84.110000</td>\n",
       "      <td>515.300000</td>\n",
       "      <td>0.116600</td>\n",
       "      <td>0.147200</td>\n",
       "      <td>0.114500</td>\n",
       "      <td>0.064930</td>\n",
       "      <td>0.250400</td>\n",
       "      <td>0.071460</td>\n",
       "    </tr>\n",
       "    <tr>\n",
       "      <th>50%</th>\n",
       "      <td>9.060240e+05</td>\n",
       "      <td>13.370000</td>\n",
       "      <td>18.840000</td>\n",
       "      <td>86.240000</td>\n",
       "      <td>551.100000</td>\n",
       "      <td>0.095870</td>\n",
       "      <td>0.092630</td>\n",
       "      <td>0.061540</td>\n",
       "      <td>0.033500</td>\n",
       "      <td>0.179200</td>\n",
       "      <td>...</td>\n",
       "      <td>14.970000</td>\n",
       "      <td>25.410000</td>\n",
       "      <td>97.660000</td>\n",
       "      <td>686.500000</td>\n",
       "      <td>0.131300</td>\n",
       "      <td>0.211900</td>\n",
       "      <td>0.226700</td>\n",
       "      <td>0.099930</td>\n",
       "      <td>0.282200</td>\n",
       "      <td>0.080040</td>\n",
       "    </tr>\n",
       "    <tr>\n",
       "      <th>75%</th>\n",
       "      <td>8.813129e+06</td>\n",
       "      <td>15.780000</td>\n",
       "      <td>21.800000</td>\n",
       "      <td>104.100000</td>\n",
       "      <td>782.700000</td>\n",
       "      <td>0.105300</td>\n",
       "      <td>0.130400</td>\n",
       "      <td>0.130700</td>\n",
       "      <td>0.074000</td>\n",
       "      <td>0.195700</td>\n",
       "      <td>...</td>\n",
       "      <td>18.790000</td>\n",
       "      <td>29.720000</td>\n",
       "      <td>125.400000</td>\n",
       "      <td>1084.000000</td>\n",
       "      <td>0.146000</td>\n",
       "      <td>0.339100</td>\n",
       "      <td>0.382900</td>\n",
       "      <td>0.161400</td>\n",
       "      <td>0.317900</td>\n",
       "      <td>0.092080</td>\n",
       "    </tr>\n",
       "    <tr>\n",
       "      <th>max</th>\n",
       "      <td>9.113205e+08</td>\n",
       "      <td>28.110000</td>\n",
       "      <td>39.280000</td>\n",
       "      <td>188.500000</td>\n",
       "      <td>2501.000000</td>\n",
       "      <td>0.163400</td>\n",
       "      <td>0.345400</td>\n",
       "      <td>0.426800</td>\n",
       "      <td>0.201200</td>\n",
       "      <td>0.304000</td>\n",
       "      <td>...</td>\n",
       "      <td>36.040000</td>\n",
       "      <td>49.540000</td>\n",
       "      <td>251.200000</td>\n",
       "      <td>4254.000000</td>\n",
       "      <td>0.222600</td>\n",
       "      <td>1.058000</td>\n",
       "      <td>1.252000</td>\n",
       "      <td>0.291000</td>\n",
       "      <td>0.663800</td>\n",
       "      <td>0.207500</td>\n",
       "    </tr>\n",
       "  </tbody>\n",
       "</table>\n",
       "<p>8 rows × 31 columns</p>\n",
       "</div>"
      ],
      "text/plain": [
       "                 id  radius_mean  texture_mean  perimeter_mean    area_mean  \\\n",
       "count  5.690000e+02   569.000000    569.000000      569.000000   569.000000   \n",
       "mean   3.037183e+07    14.127292     19.289649       91.969033   654.889104   \n",
       "std    1.250206e+08     3.524049      4.301036       24.298981   351.914129   \n",
       "min    8.670000e+03     6.981000      9.710000       43.790000   143.500000   \n",
       "25%    8.692180e+05    11.700000     16.170000       75.170000   420.300000   \n",
       "50%    9.060240e+05    13.370000     18.840000       86.240000   551.100000   \n",
       "75%    8.813129e+06    15.780000     21.800000      104.100000   782.700000   \n",
       "max    9.113205e+08    28.110000     39.280000      188.500000  2501.000000   \n",
       "\n",
       "       smoothness_mean  compactness_mean  concavity_mean  concave points_mean  \\\n",
       "count       569.000000        569.000000      569.000000           569.000000   \n",
       "mean          0.096360          0.104341        0.088799             0.048919   \n",
       "std           0.014064          0.052813        0.079720             0.038803   \n",
       "min           0.052630          0.019380        0.000000             0.000000   \n",
       "25%           0.086370          0.064920        0.029560             0.020310   \n",
       "50%           0.095870          0.092630        0.061540             0.033500   \n",
       "75%           0.105300          0.130400        0.130700             0.074000   \n",
       "max           0.163400          0.345400        0.426800             0.201200   \n",
       "\n",
       "       symmetry_mean  ...  radius_worst  texture_worst  perimeter_worst  \\\n",
       "count     569.000000  ...    569.000000     569.000000       569.000000   \n",
       "mean        0.181162  ...     16.269190      25.677223       107.261213   \n",
       "std         0.027414  ...      4.833242       6.146258        33.602542   \n",
       "min         0.106000  ...      7.930000      12.020000        50.410000   \n",
       "25%         0.161900  ...     13.010000      21.080000        84.110000   \n",
       "50%         0.179200  ...     14.970000      25.410000        97.660000   \n",
       "75%         0.195700  ...     18.790000      29.720000       125.400000   \n",
       "max         0.304000  ...     36.040000      49.540000       251.200000   \n",
       "\n",
       "        area_worst  smoothness_worst  compactness_worst  concavity_worst  \\\n",
       "count   569.000000        569.000000         569.000000       569.000000   \n",
       "mean    880.583128          0.132369           0.254265         0.272188   \n",
       "std     569.356993          0.022832           0.157336         0.208624   \n",
       "min     185.200000          0.071170           0.027290         0.000000   \n",
       "25%     515.300000          0.116600           0.147200         0.114500   \n",
       "50%     686.500000          0.131300           0.211900         0.226700   \n",
       "75%    1084.000000          0.146000           0.339100         0.382900   \n",
       "max    4254.000000          0.222600           1.058000         1.252000   \n",
       "\n",
       "       concave points_worst  symmetry_worst  fractal_dimension_worst  \n",
       "count            569.000000      569.000000               569.000000  \n",
       "mean               0.114606        0.290076                 0.083946  \n",
       "std                0.065732        0.061867                 0.018061  \n",
       "min                0.000000        0.156500                 0.055040  \n",
       "25%                0.064930        0.250400                 0.071460  \n",
       "50%                0.099930        0.282200                 0.080040  \n",
       "75%                0.161400        0.317900                 0.092080  \n",
       "max                0.291000        0.663800                 0.207500  \n",
       "\n",
       "[8 rows x 31 columns]"
      ]
     },
     "execution_count": 5,
     "metadata": {},
     "output_type": "execute_result"
    }
   ],
   "source": [
    "df.describe()"
   ]
  },
  {
   "cell_type": "markdown",
   "metadata": {},
   "source": [
    "#### 2) Quel est le type de chaque colonne ? Le jeu de données contient-il des données manquantes ? "
   ]
  },
  {
   "cell_type": "markdown",
   "metadata": {},
   "source": [
    "On affiche les types de chaque colonnes de la façon suivante : "
   ]
  },
  {
   "cell_type": "code",
   "execution_count": 6,
   "metadata": {},
   "outputs": [
    {
     "name": "stdout",
     "output_type": "stream",
     "text": [
      "<class 'pandas.core.frame.DataFrame'>\n",
      "RangeIndex: 569 entries, 0 to 568\n",
      "Data columns (total 32 columns):\n",
      " #   Column                   Non-Null Count  Dtype  \n",
      "---  ------                   --------------  -----  \n",
      " 0   id                       569 non-null    int64  \n",
      " 1   diagnosis                569 non-null    object \n",
      " 2   radius_mean              569 non-null    float64\n",
      " 3   texture_mean             569 non-null    float64\n",
      " 4   perimeter_mean           569 non-null    float64\n",
      " 5   area_mean                569 non-null    float64\n",
      " 6   smoothness_mean          569 non-null    float64\n",
      " 7   compactness_mean         569 non-null    float64\n",
      " 8   concavity_mean           569 non-null    float64\n",
      " 9   concave points_mean      569 non-null    float64\n",
      " 10  symmetry_mean            569 non-null    float64\n",
      " 11  fractal_dimension_mean   569 non-null    float64\n",
      " 12  radius_se                569 non-null    float64\n",
      " 13  texture_se               569 non-null    float64\n",
      " 14  perimeter_se             569 non-null    float64\n",
      " 15  area_se                  569 non-null    float64\n",
      " 16  smoothness_se            569 non-null    float64\n",
      " 17  compactness_se           569 non-null    float64\n",
      " 18  concavity_se             569 non-null    float64\n",
      " 19  concave points_se        569 non-null    float64\n",
      " 20  symmetry_se              569 non-null    float64\n",
      " 21  fractal_dimension_se     569 non-null    float64\n",
      " 22  radius_worst             569 non-null    float64\n",
      " 23  texture_worst            569 non-null    float64\n",
      " 24  perimeter_worst          569 non-null    float64\n",
      " 25  area_worst               569 non-null    float64\n",
      " 26  smoothness_worst         569 non-null    float64\n",
      " 27  compactness_worst        569 non-null    float64\n",
      " 28  concavity_worst          569 non-null    float64\n",
      " 29  concave points_worst     569 non-null    float64\n",
      " 30  symmetry_worst           569 non-null    float64\n",
      " 31  fractal_dimension_worst  569 non-null    float64\n",
      "dtypes: float64(30), int64(1), object(1)\n",
      "memory usage: 142.4+ KB\n"
     ]
    }
   ],
   "source": [
    "df.info()"
   ]
  },
  {
   "cell_type": "markdown",
   "metadata": {},
   "source": [
    "Nous avons donc les 30 features quantitatives qui sont des `float` , `id` qui est un entier et `diagnosis` qui est un object ( que nous allons transformer en entier par la suite )"
   ]
  },
  {
   "cell_type": "markdown",
   "metadata": {},
   "source": [
    "On regarde s'il y a des données manquantes en faisant la somme du nombre de données manquantes sur chaque colonne du tableau"
   ]
  },
  {
   "cell_type": "code",
   "execution_count": 7,
   "metadata": {},
   "outputs": [
    {
     "data": {
      "text/plain": [
       "id                         0\n",
       "diagnosis                  0\n",
       "radius_mean                0\n",
       "texture_mean               0\n",
       "perimeter_mean             0\n",
       "area_mean                  0\n",
       "smoothness_mean            0\n",
       "compactness_mean           0\n",
       "concavity_mean             0\n",
       "concave points_mean        0\n",
       "symmetry_mean              0\n",
       "fractal_dimension_mean     0\n",
       "radius_se                  0\n",
       "texture_se                 0\n",
       "perimeter_se               0\n",
       "area_se                    0\n",
       "smoothness_se              0\n",
       "compactness_se             0\n",
       "concavity_se               0\n",
       "concave points_se          0\n",
       "symmetry_se                0\n",
       "fractal_dimension_se       0\n",
       "radius_worst               0\n",
       "texture_worst              0\n",
       "perimeter_worst            0\n",
       "area_worst                 0\n",
       "smoothness_worst           0\n",
       "compactness_worst          0\n",
       "concavity_worst            0\n",
       "concave points_worst       0\n",
       "symmetry_worst             0\n",
       "fractal_dimension_worst    0\n",
       "dtype: int64"
      ]
     },
     "execution_count": 7,
     "metadata": {},
     "output_type": "execute_result"
    }
   ],
   "source": [
    "df.isnull().sum()"
   ]
  },
  {
   "cell_type": "markdown",
   "metadata": {},
   "source": [
    "On remarque que le jeu de données n'a pas de données manquantes, ce qui nous arrange car nous n'avons pas besoins de retravailler le jeu de données"
   ]
  },
  {
   "cell_type": "markdown",
   "metadata": {},
   "source": [
    "## 2 - SVM\n",
    "\n",
    "#### On va à présent entraîner un SVM pour construire un classifieur de cellules tumorales.\n",
    "\n",
    "#### 1) Séparez le jeu de données en un ensemble d'entrainement (\"training set\") et un ensemble de test (\"test set\")"
   ]
  },
  {
   "cell_type": "markdown",
   "metadata": {},
   "source": [
    "Nous allons d'abord modifier notre target `y` pour la transformer en entier pour pouvoir appliquer nos différents algorithmes d'entraînement\n",
    "\n",
    "Transformons donc la colonne `diagnosis` de la façon suivante  :\n",
    "\n",
    "Si l'individu a une cellule cancéreuse (Maligne), on lui affecte la valeur 1. Si l'individu a une cellule bénigne (Benigne), on lui affecte la valeur -1\n"
   ]
  },
  {
   "cell_type": "code",
   "execution_count": 8,
   "metadata": {},
   "outputs": [
    {
     "data": {
      "text/plain": [
       "0    1\n",
       "1    1\n",
       "2    1\n",
       "3    1\n",
       "4    1\n",
       "5    1\n",
       "Name: diagnosis, dtype: int32"
      ]
     },
     "execution_count": 8,
     "metadata": {},
     "output_type": "execute_result"
    }
   ],
   "source": [
    "y=df.pop(\"diagnosis\")\n",
    "y[y=='M']=1\n",
    "y[y=='B']=-1\n",
    "y = y.astype('int')\n",
    "y.head(n=6)"
   ]
  },
  {
   "cell_type": "markdown",
   "metadata": {},
   "source": [
    "Nos features seront elles stockées dans la variable `X` (on enlèvera la variable `id` qui n'est pas utile pour nos prédictions)"
   ]
  },
  {
   "cell_type": "code",
   "execution_count": 9,
   "metadata": {},
   "outputs": [
    {
     "data": {
      "text/html": [
       "<div>\n",
       "<style scoped>\n",
       "    .dataframe tbody tr th:only-of-type {\n",
       "        vertical-align: middle;\n",
       "    }\n",
       "\n",
       "    .dataframe tbody tr th {\n",
       "        vertical-align: top;\n",
       "    }\n",
       "\n",
       "    .dataframe thead th {\n",
       "        text-align: right;\n",
       "    }\n",
       "</style>\n",
       "<table border=\"1\" class=\"dataframe\">\n",
       "  <thead>\n",
       "    <tr style=\"text-align: right;\">\n",
       "      <th></th>\n",
       "      <th>radius_mean</th>\n",
       "      <th>texture_mean</th>\n",
       "      <th>perimeter_mean</th>\n",
       "      <th>area_mean</th>\n",
       "      <th>smoothness_mean</th>\n",
       "      <th>compactness_mean</th>\n",
       "      <th>concavity_mean</th>\n",
       "      <th>concave points_mean</th>\n",
       "      <th>symmetry_mean</th>\n",
       "      <th>fractal_dimension_mean</th>\n",
       "      <th>...</th>\n",
       "      <th>radius_worst</th>\n",
       "      <th>texture_worst</th>\n",
       "      <th>perimeter_worst</th>\n",
       "      <th>area_worst</th>\n",
       "      <th>smoothness_worst</th>\n",
       "      <th>compactness_worst</th>\n",
       "      <th>concavity_worst</th>\n",
       "      <th>concave points_worst</th>\n",
       "      <th>symmetry_worst</th>\n",
       "      <th>fractal_dimension_worst</th>\n",
       "    </tr>\n",
       "  </thead>\n",
       "  <tbody>\n",
       "    <tr>\n",
       "      <th>0</th>\n",
       "      <td>17.99</td>\n",
       "      <td>10.38</td>\n",
       "      <td>122.80</td>\n",
       "      <td>1001.0</td>\n",
       "      <td>0.11840</td>\n",
       "      <td>0.27760</td>\n",
       "      <td>0.3001</td>\n",
       "      <td>0.14710</td>\n",
       "      <td>0.2419</td>\n",
       "      <td>0.07871</td>\n",
       "      <td>...</td>\n",
       "      <td>25.38</td>\n",
       "      <td>17.33</td>\n",
       "      <td>184.60</td>\n",
       "      <td>2019.0</td>\n",
       "      <td>0.1622</td>\n",
       "      <td>0.6656</td>\n",
       "      <td>0.7119</td>\n",
       "      <td>0.2654</td>\n",
       "      <td>0.4601</td>\n",
       "      <td>0.11890</td>\n",
       "    </tr>\n",
       "    <tr>\n",
       "      <th>1</th>\n",
       "      <td>20.57</td>\n",
       "      <td>17.77</td>\n",
       "      <td>132.90</td>\n",
       "      <td>1326.0</td>\n",
       "      <td>0.08474</td>\n",
       "      <td>0.07864</td>\n",
       "      <td>0.0869</td>\n",
       "      <td>0.07017</td>\n",
       "      <td>0.1812</td>\n",
       "      <td>0.05667</td>\n",
       "      <td>...</td>\n",
       "      <td>24.99</td>\n",
       "      <td>23.41</td>\n",
       "      <td>158.80</td>\n",
       "      <td>1956.0</td>\n",
       "      <td>0.1238</td>\n",
       "      <td>0.1866</td>\n",
       "      <td>0.2416</td>\n",
       "      <td>0.1860</td>\n",
       "      <td>0.2750</td>\n",
       "      <td>0.08902</td>\n",
       "    </tr>\n",
       "    <tr>\n",
       "      <th>2</th>\n",
       "      <td>19.69</td>\n",
       "      <td>21.25</td>\n",
       "      <td>130.00</td>\n",
       "      <td>1203.0</td>\n",
       "      <td>0.10960</td>\n",
       "      <td>0.15990</td>\n",
       "      <td>0.1974</td>\n",
       "      <td>0.12790</td>\n",
       "      <td>0.2069</td>\n",
       "      <td>0.05999</td>\n",
       "      <td>...</td>\n",
       "      <td>23.57</td>\n",
       "      <td>25.53</td>\n",
       "      <td>152.50</td>\n",
       "      <td>1709.0</td>\n",
       "      <td>0.1444</td>\n",
       "      <td>0.4245</td>\n",
       "      <td>0.4504</td>\n",
       "      <td>0.2430</td>\n",
       "      <td>0.3613</td>\n",
       "      <td>0.08758</td>\n",
       "    </tr>\n",
       "    <tr>\n",
       "      <th>3</th>\n",
       "      <td>11.42</td>\n",
       "      <td>20.38</td>\n",
       "      <td>77.58</td>\n",
       "      <td>386.1</td>\n",
       "      <td>0.14250</td>\n",
       "      <td>0.28390</td>\n",
       "      <td>0.2414</td>\n",
       "      <td>0.10520</td>\n",
       "      <td>0.2597</td>\n",
       "      <td>0.09744</td>\n",
       "      <td>...</td>\n",
       "      <td>14.91</td>\n",
       "      <td>26.50</td>\n",
       "      <td>98.87</td>\n",
       "      <td>567.7</td>\n",
       "      <td>0.2098</td>\n",
       "      <td>0.8663</td>\n",
       "      <td>0.6869</td>\n",
       "      <td>0.2575</td>\n",
       "      <td>0.6638</td>\n",
       "      <td>0.17300</td>\n",
       "    </tr>\n",
       "    <tr>\n",
       "      <th>4</th>\n",
       "      <td>20.29</td>\n",
       "      <td>14.34</td>\n",
       "      <td>135.10</td>\n",
       "      <td>1297.0</td>\n",
       "      <td>0.10030</td>\n",
       "      <td>0.13280</td>\n",
       "      <td>0.1980</td>\n",
       "      <td>0.10430</td>\n",
       "      <td>0.1809</td>\n",
       "      <td>0.05883</td>\n",
       "      <td>...</td>\n",
       "      <td>22.54</td>\n",
       "      <td>16.67</td>\n",
       "      <td>152.20</td>\n",
       "      <td>1575.0</td>\n",
       "      <td>0.1374</td>\n",
       "      <td>0.2050</td>\n",
       "      <td>0.4000</td>\n",
       "      <td>0.1625</td>\n",
       "      <td>0.2364</td>\n",
       "      <td>0.07678</td>\n",
       "    </tr>\n",
       "  </tbody>\n",
       "</table>\n",
       "<p>5 rows × 30 columns</p>\n",
       "</div>"
      ],
      "text/plain": [
       "   radius_mean  texture_mean  perimeter_mean  area_mean  smoothness_mean  \\\n",
       "0        17.99         10.38          122.80     1001.0          0.11840   \n",
       "1        20.57         17.77          132.90     1326.0          0.08474   \n",
       "2        19.69         21.25          130.00     1203.0          0.10960   \n",
       "3        11.42         20.38           77.58      386.1          0.14250   \n",
       "4        20.29         14.34          135.10     1297.0          0.10030   \n",
       "\n",
       "   compactness_mean  concavity_mean  concave points_mean  symmetry_mean  \\\n",
       "0           0.27760          0.3001              0.14710         0.2419   \n",
       "1           0.07864          0.0869              0.07017         0.1812   \n",
       "2           0.15990          0.1974              0.12790         0.2069   \n",
       "3           0.28390          0.2414              0.10520         0.2597   \n",
       "4           0.13280          0.1980              0.10430         0.1809   \n",
       "\n",
       "   fractal_dimension_mean  ...  radius_worst  texture_worst  perimeter_worst  \\\n",
       "0                 0.07871  ...         25.38          17.33           184.60   \n",
       "1                 0.05667  ...         24.99          23.41           158.80   \n",
       "2                 0.05999  ...         23.57          25.53           152.50   \n",
       "3                 0.09744  ...         14.91          26.50            98.87   \n",
       "4                 0.05883  ...         22.54          16.67           152.20   \n",
       "\n",
       "   area_worst  smoothness_worst  compactness_worst  concavity_worst  \\\n",
       "0      2019.0            0.1622             0.6656           0.7119   \n",
       "1      1956.0            0.1238             0.1866           0.2416   \n",
       "2      1709.0            0.1444             0.4245           0.4504   \n",
       "3       567.7            0.2098             0.8663           0.6869   \n",
       "4      1575.0            0.1374             0.2050           0.4000   \n",
       "\n",
       "   concave points_worst  symmetry_worst  fractal_dimension_worst  \n",
       "0                0.2654          0.4601                  0.11890  \n",
       "1                0.1860          0.2750                  0.08902  \n",
       "2                0.2430          0.3613                  0.08758  \n",
       "3                0.2575          0.6638                  0.17300  \n",
       "4                0.1625          0.2364                  0.07678  \n",
       "\n",
       "[5 rows x 30 columns]"
      ]
     },
     "execution_count": 9,
     "metadata": {},
     "output_type": "execute_result"
    }
   ],
   "source": [
    "df.pop(\"id\")\n",
    "X=df\n",
    "X.head(n=5)"
   ]
  },
  {
   "cell_type": "markdown",
   "metadata": {},
   "source": [
    "Nous allons creer notre training set et notre test set avec la fonction `train_test_split` de la librairie `sklearn.model_selection` , de façon à ce que la taille du test set soit de 25% et celle de notre training set de 75% . De plus, nous allons faire en sorte qu'il y ait la même proportion d'individus atteint de cellule cancéreuse dans les deux sets, et que les sets soient bien crées de façon aléatoire depuis le set total (afin que les individus ne soient pas pris consécutivement, afin d'être sûr d'avoir un certain aléas dans nos sets)"
   ]
  },
  {
   "cell_type": "code",
   "execution_count": 10,
   "metadata": {
    "tags": []
   },
   "outputs": [],
   "source": [
    "from sklearn.model_selection import train_test_split\n",
    "\n",
    "X_train, X_test, y_train, y_test = train_test_split(X, y, stratify=y, test_size=0.25,\n",
    "                                                    shuffle=True, random_state=17)"
   ]
  },
  {
   "cell_type": "markdown",
   "metadata": {},
   "source": [
    "On effectue une petite vérification afin de vérifier que notre répartition dans le training set et le test set a bien été fait "
   ]
  },
  {
   "cell_type": "code",
   "execution_count": 11,
   "metadata": {},
   "outputs": [
    {
     "name": "stdout",
     "output_type": "stream",
     "text": [
      "La proportion d'individus atteint de cellules cancéreuses dans le training set : 0.3732394366197183\n",
      "La proportion d'individus atteint de cellules cancéreuses dans le test set : 0.3706293706293706\n"
     ]
    }
   ],
   "source": [
    "print(\"La proportion d'individus atteint de cellules cancéreuses dans le training set :\" , np.sum(y_train==1) / y_train.size)\n",
    "print(\"La proportion d'individus atteint de cellules cancéreuses dans le test set :\" , np.sum(y_test==1)/ y_test.size)"
   ]
  },
  {
   "cell_type": "markdown",
   "metadata": {
    "tags": []
   },
   "source": [
    "#### 2) Entraînez un SVM linéaire avec paramètre C (goodness-of-fit strength) fixé à 1."
   ]
  },
  {
   "cell_type": "code",
   "execution_count": 12,
   "metadata": {},
   "outputs": [],
   "source": [
    "from sklearn import svm"
   ]
  },
  {
   "cell_type": "code",
   "execution_count": 13,
   "metadata": {},
   "outputs": [],
   "source": [
    "C = 1.0  # hyperparamètre fixé à 1\n",
    "SVM_linear = svm.SVC(kernel='linear', C=C,class_weight=\"balanced\")   #choix de l'algorithme (noyau linéaire)\n",
    "SVM_linear_model = SVM_linear.fit(X_train, y_train)  # notre entraînement sur le training set\n",
    "pred_train_svm_linear = SVM_linear_model.predict(X_train)   #Nos prédiction sur le train\n",
    "pred_test_svm_linear = SVM_linear_model.predict(X_test) #Nos prédictions sur le test"
   ]
  },
  {
   "cell_type": "markdown",
   "metadata": {},
   "source": [
    "#### 3) Proposez un score d'évaluation pour la classification, et appliquez le au classifieur du SVM linéaire"
   ]
  },
  {
   "cell_type": "markdown",
   "metadata": {},
   "source": [
    "Nous allons utiliser deux scores d'évaluation dans pour nos classifieurs\n",
    "- accuracy\n",
    "- AUC\n",
    "\n",
    "Nous créons donc nos métriques "
   ]
  },
  {
   "cell_type": "code",
   "execution_count": 14,
   "metadata": {},
   "outputs": [],
   "source": [
    "from sklearn import metrics\n",
    "methods = []\n",
    "scores_train_accu = []\n",
    "scores_train_auc = []\n",
    "scores_test_accu = []\n",
    "scores_test_auc = []"
   ]
  },
  {
   "cell_type": "markdown",
   "metadata": {},
   "source": [
    "Puis nous allons calculer l'accuracy de notre algorithme sur le training set puis le test set"
   ]
  },
  {
   "cell_type": "code",
   "execution_count": 15,
   "metadata": {},
   "outputs": [
    {
     "name": "stdout",
     "output_type": "stream",
     "text": [
      "Accuracy SVM linéaire on train =  0.969\n",
      "Accuracy SVM linéaire on test =  0.951\n"
     ]
    }
   ],
   "source": [
    "accuracy_train = metrics.accuracy_score(y_train, pred_train_svm_linear)  #accuracy sur train \n",
    "accuracy_test = metrics.accuracy_score(y_test, pred_test_svm_linear)   #accuracy sur test\n",
    "method = 'SVM_linear_model_unbalanced'\n",
    "methods.append(method)\n",
    "scores_train_accu.append(accuracy_train)\n",
    "scores_test_accu.append(accuracy_test)\n",
    "print(\"Accuracy SVM linéaire on train = \",\"%.3f\" %accuracy_train)\n",
    "print(\"Accuracy SVM linéaire on test = \",\"%.3f\" %accuracy_test )\n",
    "\n"
   ]
  },
  {
   "cell_type": "markdown",
   "metadata": {},
   "source": [
    "Et ici nous calculons l'AUC ( c'est à dire l'aire sous la courbe ROC) sur le training set et le test set"
   ]
  },
  {
   "cell_type": "code",
   "execution_count": 16,
   "metadata": {},
   "outputs": [
    {
     "name": "stdout",
     "output_type": "stream",
     "text": [
      "AUC on train SVM linear =  0.969\n"
     ]
    }
   ],
   "source": [
    "fpr, tpr, thresholds = metrics.roc_curve(y_train, pred_train_svm_linear)\n",
    "auc_train = metrics.auc(fpr, tpr)   #AUC sur train\n",
    "scores_train_auc.append(auc_train)\n",
    "print(\"AUC on train SVM linear = \",\"%.3f\" % auc_train)"
   ]
  },
  {
   "cell_type": "code",
   "execution_count": 17,
   "metadata": {},
   "outputs": [
    {
     "name": "stdout",
     "output_type": "stream",
     "text": [
      "AUC on test SVM linear =  0.942\n"
     ]
    }
   ],
   "source": [
    "fpr, tpr, thresholds = metrics.roc_curve(y_test, pred_test_svm_linear)\n",
    "auc_test = metrics.auc(fpr, tpr)  #AUC sur test\n",
    "scores_test_auc.append(auc_test)\n",
    "print(\"AUC on test SVM linear = \",\"%.3f\" % auc_test)"
   ]
  },
  {
   "cell_type": "markdown",
   "metadata": {},
   "source": [
    "#### 4) Reproduisez les deux questions précédentes avec des SVM à noyaux en utilisant les noyaux RBF et sigmoid"
   ]
  },
  {
   "cell_type": "markdown",
   "metadata": {},
   "source": [
    "### Avec RBF"
   ]
  },
  {
   "cell_type": "markdown",
   "metadata": {},
   "source": [
    "On réproduit en fait la même chose que pour le noyau linéaire, avec les calculs d'accuracy et d'AUC sur le training set et le test set"
   ]
  },
  {
   "cell_type": "code",
   "execution_count": 18,
   "metadata": {},
   "outputs": [
    {
     "name": "stdout",
     "output_type": "stream",
     "text": [
      "Accuracy SVM rbf on train =  0.930\n",
      "Accuracy SVM rbf on test =  0.881\n"
     ]
    }
   ],
   "source": [
    "C = 1.0  #  hyperparamètre fixé à 1\n",
    "SVM_rbf = svm.SVC(kernel='rbf', C=C,class_weight=\"balanced\") #choix de l'algorithme\n",
    "SVM_rbf_model = SVM_rbf.fit(X_train, y_train) # notre entrainement sur le train\n",
    "pred_train_svm_rbf = SVM_rbf_model.predict(X_train) # Nos prédictions sur le train\n",
    "pred_test_svm_rbf= SVM_rbf_model.predict(X_test)  # Nos prédictions sur le test\n",
    "\n",
    "accuracy_train = metrics.accuracy_score(y_train, pred_train_svm_rbf)  \n",
    "accuracy_test = metrics.accuracy_score(y_test, pred_test_svm_rbf)\n",
    "method = 'SVM_rbf_model_unbalanced'\n",
    "methods.append(method)\n",
    "scores_train_accu.append(accuracy_train)\n",
    "scores_test_accu.append(accuracy_test)\n",
    "print(\"Accuracy SVM rbf on train = \",\"%.3f\" %accuracy_train)\n",
    "print(\"Accuracy SVM rbf on test = \",\"%.3f\" %accuracy_test )"
   ]
  },
  {
   "cell_type": "code",
   "execution_count": 19,
   "metadata": {},
   "outputs": [
    {
     "name": "stdout",
     "output_type": "stream",
     "text": [
      "AUC on train SVM rbf =  0.916\n"
     ]
    }
   ],
   "source": [
    "fpr, tpr, thresholds = metrics.roc_curve(y_train, pred_train_svm_rbf)\n",
    "auc_train = metrics.auc(fpr, tpr)\n",
    "scores_train_auc.append(auc_train)\n",
    "print(\"AUC on train SVM rbf = \",\"%.3f\" % auc_train)"
   ]
  },
  {
   "cell_type": "code",
   "execution_count": 20,
   "metadata": {},
   "outputs": [
    {
     "name": "stdout",
     "output_type": "stream",
     "text": [
      "AUC on test SVM rbf =  0.863\n"
     ]
    }
   ],
   "source": [
    "fpr, tpr, thresholds = metrics.roc_curve(y_test, pred_test_svm_rbf)\n",
    "auc_test = metrics.auc(fpr, tpr)\n",
    "scores_test_auc.append(auc_test)\n",
    "print(\"AUC on test SVM rbf = \",\"%.3f\" % auc_test)"
   ]
  },
  {
   "cell_type": "markdown",
   "metadata": {},
   "source": [
    "### Avec sigmoid "
   ]
  },
  {
   "cell_type": "markdown",
   "metadata": {},
   "source": [
    "Là encore, on reproduit la même chose (les scores sont extremêment mauvais donc il doit y avoir un problème avec le noyau sigmoide sur ce type de données)"
   ]
  },
  {
   "cell_type": "code",
   "execution_count": 21,
   "metadata": {},
   "outputs": [
    {
     "name": "stdout",
     "output_type": "stream",
     "text": [
      "Accuracy SVM sigmoid on train =  0.291\n",
      "Accuracy SVM sigmoid on test =  0.294\n"
     ]
    }
   ],
   "source": [
    "C = 1.0  # hyperparamètre fixé à 1 \n",
    "SVM_sigmoid = svm.SVC(kernel='sigmoid', C=C,class_weight=\"balanced\") #choix de l'algorithme\n",
    "SVM_sigmoid_model = SVM_sigmoid.fit(X_train, y_train) \n",
    "pred_train_svm_sigmoid = SVM_sigmoid_model.predict(X_train) \n",
    "pred_test_svm_sigmoid= SVM_sigmoid_model.predict(X_test)  \n",
    "\n",
    "accuracy_train = metrics.accuracy_score(y_train, pred_train_svm_sigmoid)  \n",
    "accuracy_test = metrics.accuracy_score(y_test, pred_test_svm_sigmoid)\n",
    "method = 'SVM_sigmoid_model_unbalanced'\n",
    "methods.append(method)\n",
    "scores_train_accu.append(accuracy_train)\n",
    "scores_test_accu.append(accuracy_test)\n",
    "print(\"Accuracy SVM sigmoid on train = \",\"%.3f\" %accuracy_train)\n",
    "print(\"Accuracy SVM sigmoid on test = \",\"%.3f\" %accuracy_test )"
   ]
  },
  {
   "cell_type": "code",
   "execution_count": 22,
   "metadata": {},
   "outputs": [
    {
     "name": "stdout",
     "output_type": "stream",
     "text": [
      "AUC on train SVM sigmoid =  0.292\n"
     ]
    }
   ],
   "source": [
    "fpr, tpr, thresholds = metrics.roc_curve(y_train, pred_train_svm_sigmoid)\n",
    "auc_train = metrics.auc(fpr, tpr)\n",
    "scores_train_auc.append(auc_train)\n",
    "print(\"AUC on train SVM sigmoid = \",\"%.3f\" % auc_train)"
   ]
  },
  {
   "cell_type": "code",
   "execution_count": 23,
   "metadata": {},
   "outputs": [
    {
     "name": "stdout",
     "output_type": "stream",
     "text": [
      "AUC on test SVM sigmoid =  0.315\n"
     ]
    }
   ],
   "source": [
    "fpr, tpr, thresholds = metrics.roc_curve(y_test, pred_test_svm_sigmoid)\n",
    "auc_test = metrics.auc(fpr, tpr)\n",
    "scores_test_auc.append(auc_test)\n",
    "print(\"AUC on test SVM sigmoid = \",\"%.3f\" % auc_test)"
   ]
  },
  {
   "cell_type": "markdown",
   "metadata": {},
   "source": [
    "####  5) Que pouvez-vous conclure des scores obtenus pour ces trois classifieurs ?"
   ]
  },
  {
   "cell_type": "markdown",
   "metadata": {},
   "source": [
    "Pour le premier classifieur (linéaire), l'accuracy et l'AUC sont très bons , elles sont de l'ordre de 0.92\n",
    "\n",
    "Pour le second classifieur (RBF), l'accuracy et l'AUC sont aussi très bons, de l'ordre de 0.90\n",
    "\n",
    "Cependant, pour le dernier classifieur (sigmoid), les scores sont très mauvais, on est de l'ordre de 0.3, il y a sans doute un problème pour ce type de données (sachant que si on crée un classifieur qui renvoie tout le temps -1, son accuracy serait déjà de l'ordre de 0.627 car il y a 357 sur 569 indivius qui n'ont pas une tumeur cancéreuse)"
   ]
  },
  {
   "cell_type": "markdown",
   "metadata": {},
   "source": [
    "#### 6) À l'aide d'une validation croisée, sélectionnez le meilleur paramètre C pour chacun des trois classifieurs précédents, et représentez les valeurs du score pour une grille de C sur une figure"
   ]
  },
  {
   "cell_type": "markdown",
   "metadata": {},
   "source": [
    "Nous allons ici utiliser la fonction `GridSearchCV` de la librairie `sklearn.model_selection` pour nous permettre de trouver les hyperparamètres tels que le score soit le plus élevé possible."
   ]
  },
  {
   "cell_type": "code",
   "execution_count": 24,
   "metadata": {},
   "outputs": [],
   "source": [
    "from sklearn.model_selection import cross_val_score\n",
    "from sklearn.model_selection import GridSearchCV"
   ]
  },
  {
   "cell_type": "markdown",
   "metadata": {},
   "source": [
    "### Paramètre C dans le cas linéaire"
   ]
  },
  {
   "cell_type": "code",
   "execution_count": 25,
   "metadata": {},
   "outputs": [
    {
     "name": "stdout",
     "output_type": "stream",
     "text": [
      "{'C': 10, 'kernel': 'linear'}\n"
     ]
    },
    {
     "data": {
      "text/plain": [
       "0.9553761969904242"
      ]
     },
     "execution_count": 25,
     "metadata": {},
     "output_type": "execute_result"
    }
   ],
   "source": [
    "parameters = {'kernel':np.array(['linear']), 'C':[10,100]}  # Notre grille de valeur de C\n",
    "svc = svm.SVC()                    # Notre classifieur\n",
    "svc_grids = GridSearchCV(svc, parameters)   #On indique à GridSearchCV notre classifieur et nos paramètres\n",
    "svc_grids.fit(X_train, y_train)    #On entraine sur le train\n",
    "print(svc_grids.best_params_)    #On renvoie les hyperparamètres pour lesquels le score est le plus élevé\n",
    "svc_grids.best_score_     #On renvoie le score"
   ]
  },
  {
   "cell_type": "markdown",
   "metadata": {},
   "source": [
    "Après plusieurs essais avec le code au dessus, on trouve que notre notre hyper-paramètre C est d'une valeur de 10 dans le cas linéaire"
   ]
  },
  {
   "cell_type": "markdown",
   "metadata": {},
   "source": [
    "On va représenter les valeurs du score sur une figure pour une grille de C \n",
    "\n",
    "dans le cas linéaire on se contentera de quelques valeurs de C car le temps de calcul est plutôt long (du moins sur mon ordinateur)"
   ]
  },
  {
   "cell_type": "code",
   "execution_count": 26,
   "metadata": {},
   "outputs": [
    {
     "data": {
      "text/plain": [
       "<matplotlib.legend.Legend at 0x252a4c01d30>"
      ]
     },
     "execution_count": 26,
     "metadata": {},
     "output_type": "execute_result"
    },
    {
     "data": {
      "image/png": "[encoded data removed]",
      "text/plain": [
       "<Figure size 432x288 with 1 Axes>"
      ]
     },
     "metadata": {
      "needs_background": "light"
     },
     "output_type": "display_data"
    }
   ],
   "source": [
    "test_score=[]\n",
    "for i in range(1,20,2):    #notre grille de valeur de C\n",
    "    SVM_linear = svm.SVC(kernel='linear', C=i,class_weight=\"balanced\")   #choix de l'algorithme (noyau linéaire)\n",
    "    SVM_linear.fit(X_train,y_train)\n",
    "    score=SVM_linear.score(X_test,y_test)\n",
    "    test_score.append(score)\n",
    "test_score\n",
    "plt.plot(range(1,20,2) , test_score,label=\"noyau linéaire\")\n",
    "\n",
    "plt.ylabel(\"score\")\n",
    "plt.xlabel(\"C\")\n",
    "plt.legend()"
   ]
  },
  {
   "cell_type": "markdown",
   "metadata": {},
   "source": [
    "Avec notre graphique on peut même determiner que le meilleur hyperparamètre C serait autour de 14"
   ]
  },
  {
   "cell_type": "markdown",
   "metadata": {},
   "source": [
    "## Paramètre C dans le cas RBF"
   ]
  },
  {
   "cell_type": "markdown",
   "metadata": {},
   "source": [
    "On effectue la même démarche dans le cadre d'une RBF"
   ]
  },
  {
   "cell_type": "code",
   "execution_count": 27,
   "metadata": {},
   "outputs": [
    {
     "name": "stdout",
     "output_type": "stream",
     "text": [
      "{'C': 3709, 'kernel': 'rbf'}\n"
     ]
    },
    {
     "data": {
      "text/plain": [
       "0.962407660738714"
      ]
     },
     "execution_count": 27,
     "metadata": {},
     "output_type": "execute_result"
    }
   ],
   "source": [
    "parameters = {'kernel':np.array(['rbf']), 'C':np.arange(3700,3800,1)}    #Grille de valeur de C\n",
    "svc = svm.SVC()\n",
    "svc_grids = GridSearchCV(svc, parameters)\n",
    "svc_grids.fit(X_train, y_train)\n",
    "print(svc_grids.best_params_)     #On renvoie les hyperparamètres pour lesquels le score est le plus élevé\n",
    "svc_grids.best_score_  #On renvoie le score"
   ]
  },
  {
   "cell_type": "markdown",
   "metadata": {},
   "source": [
    "Après plusieurs essais, on trouve que notre hyperparamètre C est d'une valeur de 3709 dans le cas d'une RBF"
   ]
  },
  {
   "cell_type": "markdown",
   "metadata": {},
   "source": [
    "De même, on va représenter les valeurs du score sur une figure pour une grille de C "
   ]
  },
  {
   "cell_type": "code",
   "execution_count": 28,
   "metadata": {},
   "outputs": [
    {
     "data": {
      "text/plain": [
       "<matplotlib.legend.Legend at 0x252aa356f70>"
      ]
     },
     "execution_count": 28,
     "metadata": {},
     "output_type": "execute_result"
    },
    {
     "data": {
      "image/png": "[encoded data removed]",
      "text/plain": [
       "<Figure size 432x288 with 1 Axes>"
      ]
     },
     "metadata": {
      "needs_background": "light"
     },
     "output_type": "display_data"
    }
   ],
   "source": [
    "test_score=[]\n",
    "for i in range(1000,10000,200):    #grille de valeur de C\n",
    "    SVM_RBF = svm.SVC(kernel='rbf', C=i,class_weight=\"balanced\")   #choix de l'algorithme (noyau RBF)\n",
    "    SVM_RBF.fit(X_train,y_train)\n",
    "    score=SVM_RBF.score(X_test,y_test)\n",
    "    test_score.append(score)\n",
    "test_score\n",
    "plt.plot(range(1000,10000,200), test_score,label=\"noyau rbf\")\n",
    "\n",
    "plt.ylabel(\"score\")\n",
    "plt.xlabel(\"C\")\n",
    "plt.legend()"
   ]
  },
  {
   "cell_type": "markdown",
   "metadata": {},
   "source": [
    "Ici, avec ce graphique, on peut confirmer notre 1ère approximation de l'hyperparamètre, on voit bien qu'il peut se trouver autour de 4000"
   ]
  },
  {
   "cell_type": "markdown",
   "metadata": {},
   "source": [
    "## Paramètre C dans le cas sigmoid"
   ]
  },
  {
   "cell_type": "code",
   "execution_count": 29,
   "metadata": {},
   "outputs": [
    {
     "name": "stdout",
     "output_type": "stream",
     "text": [
      "{'C': 0.44999999999999996, 'kernel': 'sigmoid'}\n"
     ]
    },
    {
     "data": {
      "text/plain": [
       "0.6385225718194254"
      ]
     },
     "execution_count": 29,
     "metadata": {},
     "output_type": "execute_result"
    }
   ],
   "source": [
    "parameters = {'kernel':np.array(['sigmoid']), 'C':np.arange(0.2,0.6,0.05)}\n",
    "svc = svm.SVC()\n",
    "svc_grids = GridSearchCV(svc, parameters)\n",
    "svc_grids.fit(X_train, y_train)\n",
    "#GridSearchCV(estimator=svc(),param_grid={'C': [1, 10], 'kernel': ('linear', 'rbf')})\n",
    "print(svc_grids.best_params_)\n",
    "svc_grids.best_score_"
   ]
  },
  {
   "cell_type": "markdown",
   "metadata": {},
   "source": [
    "Après plusieurs essais, on trouve que notre hyperparamètre C est d'une valeur de 0.45 dans le cas d'une sigmoid"
   ]
  },
  {
   "cell_type": "code",
   "execution_count": 30,
   "metadata": {},
   "outputs": [
    {
     "data": {
      "text/plain": [
       "<matplotlib.legend.Legend at 0x252aa3f59d0>"
      ]
     },
     "execution_count": 30,
     "metadata": {},
     "output_type": "execute_result"
    },
    {
     "data": {
      "image/png": "[encoded data removed]",
      "text/plain": [
       "<Figure size 432x288 with 1 Axes>"
      ]
     },
     "metadata": {
      "needs_background": "light"
     },
     "output_type": "display_data"
    }
   ],
   "source": [
    "test_score=[]\n",
    "for i in np.arange(0.1,1,0.02):     #grille de valeur de C\n",
    "    SVM_sigmoid = svm.SVC(kernel='sigmoid', C=i,class_weight=\"balanced\")   #choix de l'algorithme (noyau sigmoid)\n",
    "    SVM_sigmoid.fit(X_train,y_train)\n",
    "    score=SVM_sigmoid.score(X_test,y_test)\n",
    "    test_score.append(score)\n",
    "test_score\n",
    "plt.plot(np.arange(0.1,1,0.02), test_score,label=\"noyau sigmoid\")\n",
    "\n",
    "plt.ylabel(\"score\")\n",
    "plt.xlabel(\"C\")\n",
    "plt.legend()"
   ]
  },
  {
   "cell_type": "markdown",
   "metadata": {},
   "source": [
    "Avec notre graphique on peut determiner que le meilleur hyperparamètre serait autour de 0.5, tout comme on l'avait presque prédit avec la fonction `GridSearchCV`"
   ]
  },
  {
   "cell_type": "markdown",
   "metadata": {},
   "source": [
    "#### 7) Conclure"
   ]
  },
  {
   "cell_type": "markdown",
   "metadata": {},
   "source": [
    "Pour conclure, on constate qu'une SVM à noyau linéaire est un très bon model si nous prenons pour métrique l'accuracy et l'AUC. De plus, la recherche du meilleur hyperparamètre permet encore mieux d'augmenter l'efficacité du modèle sur ces métriques.\n",
    "La SVM à noyau RBF est elle aussi très convaincante en terme de résultat sur ces métriques là.\n",
    "Cependant, la SVM à noyau sigmoid est très mauvaise sur ces métriques, cela est sûrement dû aux types de données que nous avons."
   ]
  },
  {
   "cell_type": "markdown",
   "metadata": {},
   "source": [
    "## 3 - Naive Bayes, LDA, QDA\n",
    "\n",
    "Nous allons à présent utiliser d'autres méthodes de classification vues précédemment en cours : le classifieur Naive bayes, l'Analyse Discriminante Linéaire (LDA) et l'Analyse Discriminante Quadratique (QDA).\n",
    "\n"
   ]
  },
  {
   "cell_type": "code",
   "execution_count": 31,
   "metadata": {},
   "outputs": [],
   "source": [
    "from sklearn.naive_bayes import GaussianNB\n",
    "from sklearn.discriminant_analysis import LinearDiscriminantAnalysis\n",
    "from sklearn.discriminant_analysis import QuadraticDiscriminantAnalysis"
   ]
  },
  {
   "cell_type": "markdown",
   "metadata": {
    "tags": []
   },
   "source": [
    "#### 1) Rappelez en quelques phrases le principe du classifieur Naive Bayes.\n"
   ]
  },
  {
   "cell_type": "markdown",
   "metadata": {},
   "source": [
    "Le classifieur Naive Bayes repose sur le théorème de Bayes et l'indépendance des features, il utilise le principe de maximum de vraissemblance.\n",
    "\n",
    "De fait, si on note $\\mathbb{P}_M$ la probabilité d'avoir une tumeur cancéreuse et $\\mathbb{P}_B$ la probabilité d'avoir une tumeur bénigne pour un individu donné avec ses 30 features $X_i$, alors on à \n",
    "$\\mathbb{P}_M = \\prod_1^{30} \\mathbb{P}(X_i | \\mbox{ Maligne} )\\times (\\mbox{proportion de Maligne})$\n",
    "et $\\mathbb{P}_B = \\prod_1^{30} \\mathbb{P}(X_i | \\mbox{ Benigne} )\\times (\\mbox{proportion de Benigne})$\n",
    "\n",
    "On prend ensuite la plus grande proba entre $\\mathbb{P}_M$ et  $\\mathbb{P}_B$ pour determiner à quelle classe appartient cet individu."
   ]
  },
  {
   "cell_type": "markdown",
   "metadata": {},
   "source": [
    "#### 2) Entraînez le classifieur Naive Bayes sur le jeu de données et calculer le score associé"
   ]
  },
  {
   "cell_type": "code",
   "execution_count": 32,
   "metadata": {},
   "outputs": [
    {
     "name": "stdout",
     "output_type": "stream",
     "text": [
      "Score sur le train avec naive Bayes : 0.9436619718309859\n",
      "Score sur le test avec naive Bayes : 0.9370629370629371\n"
     ]
    }
   ],
   "source": [
    "Bayes=GaussianNB()        #On a notre classifieur \n",
    "Bayes.fit(X_train,y_train)     #On l'entraine sur les données d'entraînement.\n",
    "print(\"Score sur le train avec naive Bayes :\", Bayes.score(X_train,y_train))   #On affiche le score sur le train\n",
    "print(\"Score sur le test avec naive Bayes :\", Bayes.score(X_test,y_test))   #On affiche le score sur le test"
   ]
  },
  {
   "cell_type": "markdown",
   "metadata": {},
   "source": [
    "#### 3) Rappelez en quelques phrases le principe de LDA et QDA. Quelle est la différence fondamentale entre ces deux méthodes ? (Reprendre le Problème 2 du TD 1 si besoin)"
   ]
  },
  {
   "cell_type": "markdown",
   "metadata": {},
   "source": [
    "La LDA et la QDA, comme pour la classification Naive Bayésienne, utilise le principe de maximum de vraissemblance pour prédire la classe d'un individu.\n",
    "\n",
    "La LDA suppose des données normalement distribuées et un vecteur moyen spécifique à la classe, de plus, la LDA suppose une matrice de covariance commune à toutes les classes, ce qui n'est pas le cas de la QDA, qui elle suppose que chaque classe a sa propre matrice de covariance."
   ]
  },
  {
   "cell_type": "markdown",
   "metadata": {},
   "source": [
    "#### 4) Entraînez les classifieurs LDA et QDA sur les données et calculer leur score"
   ]
  },
  {
   "cell_type": "code",
   "execution_count": 33,
   "metadata": {},
   "outputs": [
    {
     "name": "stdout",
     "output_type": "stream",
     "text": [
      "Score sur le train pour la LDA: 0.9647887323943662\n",
      "Score sur le test pour la LDA: 0.965034965034965\n"
     ]
    }
   ],
   "source": [
    "LDA=LinearDiscriminantAnalysis()\n",
    "LDA.fit(X_train,y_train)\n",
    "print(\"Score sur le train pour la LDA:\", LDA.score(X_train,y_train))\n",
    "print(\"Score sur le test pour la LDA:\", LDA.score(X_test,y_test))"
   ]
  },
  {
   "cell_type": "code",
   "execution_count": 34,
   "metadata": {},
   "outputs": [
    {
     "name": "stdout",
     "output_type": "stream",
     "text": [
      "Score sur le train pour la QDA: 0.971830985915493\n",
      "Score sur le test pour la QDA: 0.958041958041958\n"
     ]
    }
   ],
   "source": [
    "QDA=QuadraticDiscriminantAnalysis()\n",
    "QDA.fit(X_train,y_train)\n",
    "print(\"Score sur le train pour la QDA:\", QDA.score(X_train,y_train))\n",
    "print(\"Score sur le test pour la QDA:\", QDA.score(X_test,y_test))"
   ]
  },
  {
   "cell_type": "markdown",
   "metadata": {},
   "source": [
    "## 4 - kNN\n",
    "\n",
    "On va maintenant appliquer la méthode des k plus proches voisins (kNN, k nearest neighbors)"
   ]
  },
  {
   "cell_type": "code",
   "execution_count": 35,
   "metadata": {},
   "outputs": [],
   "source": [
    "from sklearn.neighbors import KNeighborsClassifier"
   ]
  },
  {
   "cell_type": "markdown",
   "metadata": {},
   "source": [
    "#### 1) Appliquer la méthode kNN pour la classification avec k=5 fixé, et calculer l'erreur correspondante."
   ]
  },
  {
   "cell_type": "code",
   "execution_count": 36,
   "metadata": {},
   "outputs": [
    {
     "name": "stdout",
     "output_type": "stream",
     "text": [
      "Score sur le train : 0.9413145539906104\n",
      "Score sur le test : 0.9300699300699301\n"
     ]
    }
   ],
   "source": [
    "kneighbors=KNeighborsClassifier(n_neighbors=5)    # On fixe k = 5\n",
    "kneighbors.fit(X_train,y_train)   #On entraine\n",
    "print(\"Score sur le train :\", kneighbors.score(X_train,y_train))\n",
    "print(\"Score sur le test :\", kneighbors.score(X_test,y_test))"
   ]
  },
  {
   "cell_type": "markdown",
   "metadata": {},
   "source": [
    "L'erreur correspondante est donc `1-kneighbors.score(X_test,y_test)` \n",
    "\n",
    "C'est à dire 0.077"
   ]
  },
  {
   "cell_type": "markdown",
   "metadata": {},
   "source": [
    "#### 2) Appliquer la même méthode pour une grille de k entre 1 et 20, représenter le score sur une figure et conclure sur l'importance du choix de k."
   ]
  },
  {
   "cell_type": "code",
   "execution_count": 37,
   "metadata": {},
   "outputs": [
    {
     "data": {
      "text/plain": [
       "<matplotlib.legend.Legend at 0x252aa47c4f0>"
      ]
     },
     "execution_count": 37,
     "metadata": {},
     "output_type": "execute_result"
    },
    {
     "data": {
      "image/png": "[encoded data removed]",
      "text/plain": [
       "<Figure size 432x288 with 1 Axes>"
      ]
     },
     "metadata": {
      "needs_background": "light"
     },
     "output_type": "display_data"
    }
   ],
   "source": [
    "#On va d'abord le faire \" à la main\" avec une boucle for\n",
    "\n",
    "\n",
    "test_score=[]   #liste des scores\n",
    "for i in range(1,21):    #Notre grille du nombre de plus proche voisins\n",
    "    kneighbor=KNeighborsClassifier(n_neighbors=i)\n",
    "    kneighbor.fit(X_train,y_train)\n",
    "    score=kneighbor.score(X_test,y_test)    #On prend le score\n",
    "    test_score.append(score)\n",
    "test_score\n",
    "plt.plot(test_score,label=\"test\")\n",
    "\n",
    "plt.ylabel(\"score\")\n",
    "plt.xlabel(\"n_neighbors\")\n",
    "plt.legend()"
   ]
  },
  {
   "cell_type": "markdown",
   "metadata": {},
   "source": [
    "On remarque que les meilleurs résultats se trouvent pour k entre 10 et 12 \n",
    "\n",
    "Nous allons maintenant le faire avec la fonction `validation_curve` de la librairie `sklearn.model_selection` qui permet directement de faire ce qu'on vient de faire, mais de façon plus agréable."
   ]
  },
  {
   "cell_type": "code",
   "execution_count": 38,
   "metadata": {},
   "outputs": [],
   "source": [
    "from sklearn.model_selection import validation_curve"
   ]
  },
  {
   "cell_type": "code",
   "execution_count": 39,
   "metadata": {},
   "outputs": [
    {
     "name": "stderr",
     "output_type": "stream",
     "text": [
      "C:\\Users\\skinz\\anaconda3\\lib\\site-packages\\sklearn\\utils\\validation.py:70: FutureWarning: Pass param_name=n_neighbors, param_range=[ 1  2  3  4  5  6  7  8  9 10 11 12 13 14 15 16 17 18 19 20] as keyword args. From version 1.0 (renaming of 0.25) passing these as positional arguments will result in an error\n",
      "  warnings.warn(f\"Pass {args_msg} as keyword args. From version \"\n"
     ]
    },
    {
     "data": {
      "text/plain": [
       "<matplotlib.legend.Legend at 0x252aacb4670>"
      ]
     },
     "execution_count": 39,
     "metadata": {},
     "output_type": "execute_result"
    },
    {
     "data": {
      "image/png": "[encoded data removed]",
      "text/plain": [
       "<Figure size 432x288 with 1 Axes>"
      ]
     },
     "metadata": {
      "needs_background": "light"
     },
     "output_type": "display_data"
    }
   ],
   "source": [
    "k=np.arange(1,21)   #grille du nombre de plus proche voisins\n",
    "train_score, test_score = validation_curve(kneighbors, X, y , \"n_neighbors\", k)\n",
    "\n",
    "plt.plot(k,train_score.mean(axis=1),label=\"train\")   #On fait un mean car il y a une cross-validation\n",
    "plt.plot(k,test_score.mean(axis=1),label=\"test\")  #De même\n",
    "\n",
    "plt.ylabel(\"score\")\n",
    "plt.xlabel(\"n_neighbors\")\n",
    "plt.legend()"
   ]
  },
  {
   "cell_type": "markdown",
   "metadata": {},
   "source": [
    "On trouve ici que le nombre de voisins optimal est plutôt autour de 14, ceci est sûrement dû à la cross-validation qu'effectue la fonction `validation_curve` par défaut `(cv=5)` , de plus, le vecteur `y_test` n'est pas le même , car ici c'est la fonction `validation_curve` qui en crée un . Cependant on obtient aussi de très bon résultat pour $k\\in [\\![10,12]\\!]$\n",
    "Effectuons une dernière fois cette démarche avec la fonction `GridSearchCV` permettant de trouver directement le meilleur hyperparamètre"
   ]
  },
  {
   "cell_type": "code",
   "execution_count": 40,
   "metadata": {},
   "outputs": [
    {
     "data": {
      "text/plain": [
       "GridSearchCV(cv=5, estimator=KNeighborsClassifier(),\n",
       "             param_grid={'n_neighbors': array([ 1,  2,  3,  4,  5,  6,  7,  8,  9, 10, 11, 12, 13, 14, 15, 16, 17,\n",
       "       18, 19, 20])})"
      ]
     },
     "execution_count": 40,
     "metadata": {},
     "output_type": "execute_result"
    }
   ],
   "source": [
    "param_grid = { \"n_neighbors\" : np.arange(1,21)}\n",
    "grid=GridSearchCV(KNeighborsClassifier(),param_grid,cv=5 )\n",
    "grid.fit(X_train,y_train)"
   ]
  },
  {
   "cell_type": "code",
   "execution_count": 41,
   "metadata": {},
   "outputs": [
    {
     "name": "stdout",
     "output_type": "stream",
     "text": [
      "Le meilleur paramètre est le suivant : {'n_neighbors': 17}\n",
      "Le score sur le test :  0.916083916083916\n"
     ]
    }
   ],
   "source": [
    "print(\"Le meilleur paramètre est le suivant :\", grid.best_params_)\n",
    "model=grid.best_estimator_\n",
    "print(\"Le score sur le test : \",model.score(X_test,y_test))"
   ]
  },
  {
   "cell_type": "markdown",
   "metadata": {},
   "source": [
    "On trouve ici k=17. Cette différence de résultat est sûrement dû à la cross-validation et que cette fois, il n'y a aucun apprentissage sur le test , car évidemment, si on cherche le meilleur nombre de voisin en se basant sur le score sur le test, en quelque sorte on s'entraine sur le test, on est donc en overfitting."
   ]
  },
  {
   "cell_type": "markdown",
   "metadata": {},
   "source": [
    "## 5- Autres méthodes de classification\n",
    "\n",
    "#### Essayer d'autres méthodes de classification"
   ]
  },
  {
   "cell_type": "markdown",
   "metadata": {},
   "source": [
    "Nous allons en premier lieu utiliser une méthode de classification par arbre de décision"
   ]
  },
  {
   "cell_type": "code",
   "execution_count": 42,
   "metadata": {},
   "outputs": [],
   "source": [
    "from sklearn.tree import DecisionTreeClassifier"
   ]
  },
  {
   "cell_type": "code",
   "execution_count": 43,
   "metadata": {},
   "outputs": [
    {
     "data": {
      "text/plain": [
       "0.951048951048951"
      ]
     },
     "execution_count": 43,
     "metadata": {},
     "output_type": "execute_result"
    }
   ],
   "source": [
    "decision_tree = DecisionTreeClassifier(random_state=0, max_depth=2)   #Arbre de profondeur 2\n",
    "decision_tree.fit(X_train,y_train)\n",
    "decision_tree.score(X_test,y_test)"
   ]
  },
  {
   "cell_type": "markdown",
   "metadata": {},
   "source": [
    "On peut se demander là aussi quelle serait la meilleur profondeur d'arbre pour améliorer le score sur le test\n",
    "\n",
    "Comme précédemment on peut le faire avec la fonction `validation_curve` en faisant varier k de 1 à 20 "
   ]
  },
  {
   "cell_type": "code",
   "execution_count": 44,
   "metadata": {},
   "outputs": [
    {
     "name": "stderr",
     "output_type": "stream",
     "text": [
      "C:\\Users\\skinz\\anaconda3\\lib\\site-packages\\sklearn\\utils\\validation.py:70: FutureWarning: Pass param_name=max_depth, param_range=[ 1  2  3  4  5  6  7  8  9 10 11 12 13 14 15 16 17 18 19 20] as keyword args. From version 1.0 (renaming of 0.25) passing these as positional arguments will result in an error\n",
      "  warnings.warn(f\"Pass {args_msg} as keyword args. From version \"\n"
     ]
    },
    {
     "data": {
      "text/plain": [
       "<matplotlib.legend.Legend at 0x252aad84580>"
      ]
     },
     "execution_count": 44,
     "metadata": {},
     "output_type": "execute_result"
    },
    {
     "data": {
      "image/png": "[encoded data removed]",
      "text/plain": [
       "<Figure size 432x288 with 1 Axes>"
      ]
     },
     "metadata": {
      "needs_background": "light"
     },
     "output_type": "display_data"
    }
   ],
   "source": [
    "k=np.arange(1,21)    #grille de profondeur d'arbre\n",
    "train_score, test_score = validation_curve(decision_tree, X, y , \"max_depth\", k)\n",
    "\n",
    "plt.plot(k,train_score.mean(axis=1),label=\"train\")\n",
    "plt.plot(k,test_score.mean(axis=1),label=\"test\")\n",
    "\n",
    "plt.ylabel(\"score\")\n",
    "plt.xlabel(\"max_depth\")\n",
    "plt.legend()"
   ]
  },
  {
   "cell_type": "markdown",
   "metadata": {},
   "source": [
    "On trouve qu'a partir de 5 de profondeur, notre score de test atteint presque son maximum, qu'il ne sert sans doute à rien de montrer plus haut.\n",
    "\n",
    "En le faisant avec la fonction `GridSearchCV`, on obtient donc la meilleur profondeur d'arbre, une différence avec le graphique qui là aussi peut s'expliquer par les même arguments que précédemment pour les K Nearest Neighbors."
   ]
  },
  {
   "cell_type": "code",
   "execution_count": 45,
   "metadata": {},
   "outputs": [
    {
     "name": "stdout",
     "output_type": "stream",
     "text": [
      "Le meilleur paramètre est le suivant : {'max_depth': 3}\n",
      "Le score sur le test :  0.916083916083916\n"
     ]
    }
   ],
   "source": [
    "param_grid = { \"max_depth\" : np.arange(1,21)}\n",
    "grid=GridSearchCV(DecisionTreeClassifier(),param_grid,cv=5 )\n",
    "grid.fit(X_train,y_train)\n",
    "\n",
    "\n",
    "print(\"Le meilleur paramètre est le suivant :\", grid.best_params_)\n",
    "model=grid.best_estimator_\n",
    "print(\"Le score sur le test : \",model.score(X_test,y_test))"
   ]
  },
  {
   "cell_type": "markdown",
   "metadata": {},
   "source": [
    "Puis nous pouvons aussi tester une méthode de classification par Adaboost.\n",
    "\n",
    "Nous allons prendre ici 100 weak learners pour tester notre méthode, et le score est très élevée."
   ]
  },
  {
   "cell_type": "code",
   "execution_count": 46,
   "metadata": {},
   "outputs": [],
   "source": [
    "from sklearn.ensemble import AdaBoostClassifier"
   ]
  },
  {
   "cell_type": "code",
   "execution_count": 47,
   "metadata": {},
   "outputs": [
    {
     "data": {
      "text/plain": [
       "0.958041958041958"
      ]
     },
     "execution_count": 47,
     "metadata": {},
     "output_type": "execute_result"
    }
   ],
   "source": [
    "adaboost=AdaBoostClassifier(n_estimators=100)   #100 weak learners\n",
    "adaboost.fit(X_train,y_train)\n",
    "adaboost.score(X_test,y_test)"
   ]
  },
  {
   "cell_type": "markdown",
   "metadata": {},
   "source": [
    "## 6 - Comparaison des méthodes de classification"
   ]
  },
  {
   "cell_type": "markdown",
   "metadata": {},
   "source": [
    "#### 1) Conclure sur les différentes méthodes de classification pour le jeu de données considéré, à l'aide des questions précédentes "
   ]
  },
  {
   "cell_type": "markdown",
   "metadata": {},
   "source": [
    "On remarque finalement que toutes les méthodes de classification sont très bonnes par rapport aux métriques accuracy et AUC apart la svm à noyau sigmoid qui est vraiment très mauvaise .\n",
    "Certaines comme la LDA et la SVM à noyau linéaire avec un bon hyperparamètre bien choisi ont une accuracy pouvant atteindre 0.96, ce qui est très élevé."
   ]
  },
  {
   "cell_type": "markdown",
   "metadata": {},
   "source": [
    "#### 2) La comparaison des méthodes dépend fortement du score choisi. En pratique, un faux négatif (cancer réel non détecté) est plus grave qu'un faux positif (absence de cancer détectée comme cancer). Comment peut-on adapter le score (et la méthode d'apprentissage) pour prendre cela en compte ?"
   ]
  },
  {
   "cell_type": "markdown",
   "metadata": {},
   "source": [
    "On peut adapter le score en prenant cette fois-ci le recall au lieu de l'accuracy.\n",
    "En effet, plus le recall sera élevé, et plus le nombre de faux négative sera faible, c'est à dire que pour les individus qui ont une cellule cancéreuse, la probabilité qu'on l'a détecte est plus élevé."
   ]
  },
  {
   "cell_type": "markdown",
   "metadata": {},
   "source": [
    "#### 3) Proposez un score alternatif, et comparez de nouveau les méthodes précédentes. Conclure."
   ]
  },
  {
   "cell_type": "markdown",
   "metadata": {},
   "source": [
    "On propose donc de prendre le recall au lieu de prendre l'accuracy comme métrique.\n",
    "Il suffit de rajouter une ligne de code (en précisant la métrique choisit)\n",
    "En reprenant l'ordre des questions, on a donc :"
   ]
  },
  {
   "cell_type": "code",
   "execution_count": 48,
   "metadata": {},
   "outputs": [
    {
     "name": "stdout",
     "output_type": "stream",
     "text": [
      "Pour la SVM linéaire le recall est : 0.9056603773584906\n",
      "Pour la SVM RBF le recall est : 0.7924528301886793\n",
      "Pour la SVM sigmoid le recall est : 0.39622641509433965\n",
      "Pour Bayes Naive le recall est : 0.8679245283018868\n",
      "Pour la LDA le recall est : 0.9056603773584906\n",
      "Pour la QDA le recall est : 0.9245283018867925\n",
      "Pour KNN le recall est : 0.8679245283018868\n",
      "Pour l'arbre de décision le recall est : 0.9245283018867925\n",
      "Pour Adaboost le recall est : 0.8867924528301887\n"
     ]
    }
   ],
   "source": [
    "\n",
    "print(\"Pour la SVM linéaire le recall est :\" , metrics.recall_score(y_test,SVM_linear_model.predict(X_test)))\n",
    "print(\"Pour la SVM RBF le recall est :\" , metrics.recall_score(y_test,SVM_rbf_model.predict(X_test)))\n",
    "print(\"Pour la SVM sigmoid le recall est :\" , metrics.recall_score(y_test,SVM_sigmoid_model.predict(X_test)))\n",
    "\n",
    "print(\"Pour Bayes Naive le recall est :\" , metrics.recall_score(y_test,Bayes.predict(X_test)))\n",
    "print(\"Pour la LDA le recall est :\" , metrics.recall_score(y_test,LDA.predict(X_test)))\n",
    "print(\"Pour la QDA le recall est :\" , metrics.recall_score(y_test,QDA.predict(X_test)))\n",
    "print(\"Pour KNN le recall est :\" , metrics.recall_score(y_test,kneighbors.predict(X_test)))\n",
    "print(\"Pour l'arbre de décision le recall est :\" , metrics.recall_score(y_test,decision_tree.predict(X_test)))\n",
    "print(\"Pour Adaboost le recall est :\" , metrics.recall_score(y_test,adaboost.predict(X_test)))"
   ]
  },
  {
   "cell_type": "markdown",
   "metadata": {},
   "source": [
    "Contrairement à l'accuracy, on constate avec le recall des disparités entre les différentes méthodes.\n",
    "On distingue deux méthodes qui ont des bons recall : La QDA et l'arbre de décision ( avec seulement 2 de profondeur d'arbre).\n"
   ]
  },
  {
   "cell_type": "markdown",
   "metadata": {},
   "source": [
    "On conclut cependant qu'en cherchant les hyperparamètres là aussi avec `GridSearchCV` on peut espérer trouver encore de meilleurs résultats pour cette métrique ci.\n",
    "\n",
    "Finalement, si on devait ressortir avec une seule methode, je pense que la QDA serait le plus adapté pour ce type de données, au vu des performances sur le recall et l'accuracy."
   ]
  }
 ],
 "metadata": {
  "kernelspec": {
   "display_name": "Python 3 (ipykernel)",
   "language": "python",
   "name": "python3"
  },
  "language_info": {
   "codemirror_mode": {
    "name": "ipython",
    "version": 3
   },
   "file_extension": ".py",
   "mimetype": "text/x-python",
   "name": "python",
   "nbconvert_exporter": "python",
   "pygments_lexer": "ipython3",
   "version": "3.9.12"
  }
 },
 "nbformat": 4,
 "nbformat_minor": 4
}
