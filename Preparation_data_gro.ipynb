{
 "cells": [
  {
   "cell_type": "markdown",
   "metadata": {
    "tags": []
   },
   "source": [
    "# TP 1 : pré-traitement des données et visualisation"
   ]
  },
  {
   "cell_type": "markdown",
   "metadata": {
    "tags": []
   },
   "source": [
    "Nous allons travailler sur le jeu de données `gro.csv` pour faire du **credit scoring**, qui a été proposé il y a quelques années sur un site de data challenge. C'est un vrai de jeu qui contient des données avec différents types de variable, des valeurs manquantes, etc. Nous devons donc faire un gros travail de préparation de données.\n",
    "Les données contiennent les colonnes suivantes :\n",
    "\n",
    "| Nom de la colonne    | Description |\n",
    "|:---------------------|:------------|\n",
    "| BirthDate            | Date of birth of the client |\n",
    "| Customer_Open_Date   | Creation date of the client's first account at the bank |\n",
    "| Customer_Type        | Type of client (existing / new) | \n",
    "| Educational_Level    | Highest diploma |\n",
    "| Id_Customer          | Id of the client |\n",
    "| Marital_Status       | Family situation |\n",
    "| Nb_Of_Products       | Number of products held by the client |\n",
    "| Net_Annual_Income    | Annual revenue |\n",
    "| Number_Of_Dependant  | Number of dependents |\n",
    "| P_Client             | Non-disclosed feature |\n",
    "| Prod_Category        | Product category |\n",
    "| Prod_Closed_Date     | Closing date of the last product |\n",
    "| Prod_Decision_Date   | Decision date of the last agreement for a financing product |\n",
    "| Prod_Sub_Category    | Sub-category of the product |\n",
    "| Source               | Financing source (Branch or Sales) |\n",
    "| Type_Of_Residence    | Residential situation |\n",
    "| Y                    | Credit was granted (yes / no) |\n",
    "| Years_At_Business    | Number of year at the current job position |\n",
    "| Years_At_Residence   | Number of year at the current housing |"
   ]
  },
  {
   "cell_type": "markdown",
   "metadata": {},
   "source": [
    "## Ce que vous avez à faire\n",
    "Charger les données `gro.csv` et travailler dessus en utilisant `pandas`, `matplotlib` \n",
    "et `seaborn`. "
   ]
  },
  {
   "cell_type": "markdown",
   "metadata": {},
   "source": [
    "# 1. Première importation des données"
   ]
  },
  {
   "cell_type": "markdown",
   "metadata": {},
   "source": [
    "On commence par importer les données via `pd.read_csv` en changeant le séparateur par défaut."
   ]
  },
  {
   "cell_type": "code",
   "execution_count": 2,
   "metadata": {
    "ExecuteTime": {
     "end_time": "2020-10-09T14:04:01.662026Z",
     "start_time": "2020-10-09T14:04:01.639671Z"
    }
   },
   "outputs": [],
   "source": [
    "import numpy as np\n",
    "import pandas as pd\n",
    "import matplotlib.pyplot as plt\n",
    "import seaborn as sns\n",
    "import pickle as pkl\n",
    "%matplotlib inline\n",
    "\n",
    "sns.set_context(\"notebook\", font_scale=1.2)\n"
   ]
  },
  {
   "cell_type": "code",
   "execution_count": 3,
   "metadata": {},
   "outputs": [
    {
     "data": {
      "text/html": [
       "<div>\n",
       "<style scoped>\n",
       "    .dataframe tbody tr th:only-of-type {\n",
       "        vertical-align: middle;\n",
       "    }\n",
       "\n",
       "    .dataframe tbody tr th {\n",
       "        vertical-align: top;\n",
       "    }\n",
       "\n",
       "    .dataframe thead th {\n",
       "        text-align: right;\n",
       "    }\n",
       "</style>\n",
       "<table border=\"1\" class=\"dataframe\">\n",
       "  <thead>\n",
       "    <tr style=\"text-align: right;\">\n",
       "      <th></th>\n",
       "      <th>Id_Customer</th>\n",
       "      <th>Y</th>\n",
       "      <th>Customer_Type</th>\n",
       "      <th>BirthDate</th>\n",
       "      <th>Customer_Open_Date</th>\n",
       "      <th>P_Client</th>\n",
       "      <th>Educational_Level</th>\n",
       "      <th>Marital_Status</th>\n",
       "      <th>Number_Of_Dependant</th>\n",
       "      <th>Years_At_Residence</th>\n",
       "      <th>...</th>\n",
       "      <th>Prod_Sub_Category</th>\n",
       "      <th>Prod_Decision_Date</th>\n",
       "      <th>Source</th>\n",
       "      <th>Type_Of_Residence</th>\n",
       "      <th>Nb_Of_Products</th>\n",
       "      <th>Prod_Closed_Date</th>\n",
       "      <th>Prod_Category</th>\n",
       "      <th>Unnamed: 19</th>\n",
       "      <th>Unnamed: 20</th>\n",
       "      <th>Unnamed: 21</th>\n",
       "    </tr>\n",
       "  </thead>\n",
       "  <tbody>\n",
       "    <tr>\n",
       "      <th>0</th>\n",
       "      <td>6714</td>\n",
       "      <td>0</td>\n",
       "      <td>Non Existing Client</td>\n",
       "      <td>02/09/1971</td>\n",
       "      <td>18/01/2012</td>\n",
       "      <td>NP_Client</td>\n",
       "      <td>University</td>\n",
       "      <td>Married</td>\n",
       "      <td>3.0</td>\n",
       "      <td>10</td>\n",
       "      <td>...</td>\n",
       "      <td>C</td>\n",
       "      <td>23/01/2012</td>\n",
       "      <td>Sales</td>\n",
       "      <td>Owned</td>\n",
       "      <td>1</td>\n",
       "      <td>NaN</td>\n",
       "      <td>B</td>\n",
       "      <td>NaN</td>\n",
       "      <td>NaN</td>\n",
       "      <td>NaN</td>\n",
       "    </tr>\n",
       "    <tr>\n",
       "      <th>1</th>\n",
       "      <td>7440</td>\n",
       "      <td>0</td>\n",
       "      <td>Non Existing Client</td>\n",
       "      <td>07/08/1977</td>\n",
       "      <td>13/02/2012</td>\n",
       "      <td>NP_Client</td>\n",
       "      <td>University</td>\n",
       "      <td>Married</td>\n",
       "      <td>3.0</td>\n",
       "      <td>1</td>\n",
       "      <td>...</td>\n",
       "      <td>C</td>\n",
       "      <td>14/02/2012</td>\n",
       "      <td>Sales</td>\n",
       "      <td>Owned</td>\n",
       "      <td>1</td>\n",
       "      <td>NaN</td>\n",
       "      <td>B</td>\n",
       "      <td>NaN</td>\n",
       "      <td>NaN</td>\n",
       "      <td>NaN</td>\n",
       "    </tr>\n",
       "    <tr>\n",
       "      <th>2</th>\n",
       "      <td>573</td>\n",
       "      <td>0</td>\n",
       "      <td>Existing Client</td>\n",
       "      <td>13/06/1974</td>\n",
       "      <td>04/02/2009</td>\n",
       "      <td>P_Client</td>\n",
       "      <td>University</td>\n",
       "      <td>Married</td>\n",
       "      <td>0.0</td>\n",
       "      <td>12</td>\n",
       "      <td>...</td>\n",
       "      <td>C</td>\n",
       "      <td>30/06/2011</td>\n",
       "      <td>Sales</td>\n",
       "      <td>Parents</td>\n",
       "      <td>1</td>\n",
       "      <td>NaN</td>\n",
       "      <td>G</td>\n",
       "      <td>NaN</td>\n",
       "      <td>NaN</td>\n",
       "      <td>NaN</td>\n",
       "    </tr>\n",
       "    <tr>\n",
       "      <th>3</th>\n",
       "      <td>9194</td>\n",
       "      <td>0</td>\n",
       "      <td>Non Existing Client</td>\n",
       "      <td>07/11/1973</td>\n",
       "      <td>03/04/2012</td>\n",
       "      <td>NP_Client</td>\n",
       "      <td>University</td>\n",
       "      <td>Married</td>\n",
       "      <td>2.0</td>\n",
       "      <td>10</td>\n",
       "      <td>...</td>\n",
       "      <td>C</td>\n",
       "      <td>04/04/2012</td>\n",
       "      <td>Sales</td>\n",
       "      <td>Owned</td>\n",
       "      <td>1</td>\n",
       "      <td>NaN</td>\n",
       "      <td>B</td>\n",
       "      <td>NaN</td>\n",
       "      <td>NaN</td>\n",
       "      <td>NaN</td>\n",
       "    </tr>\n",
       "    <tr>\n",
       "      <th>4</th>\n",
       "      <td>3016</td>\n",
       "      <td>1</td>\n",
       "      <td>Existing Client</td>\n",
       "      <td>08/07/1982</td>\n",
       "      <td>25/08/2011</td>\n",
       "      <td>NP_Client</td>\n",
       "      <td>University</td>\n",
       "      <td>Married</td>\n",
       "      <td>3.0</td>\n",
       "      <td>3</td>\n",
       "      <td>...</td>\n",
       "      <td>C</td>\n",
       "      <td>07/09/2011</td>\n",
       "      <td>Sales</td>\n",
       "      <td>New rent</td>\n",
       "      <td>1</td>\n",
       "      <td>31/12/2012</td>\n",
       "      <td>L</td>\n",
       "      <td>NaN</td>\n",
       "      <td>NaN</td>\n",
       "      <td>NaN</td>\n",
       "    </tr>\n",
       "  </tbody>\n",
       "</table>\n",
       "<p>5 rows × 22 columns</p>\n",
       "</div>"
      ],
      "text/plain": [
       "   Id_Customer  Y        Customer_Type   BirthDate Customer_Open_Date  \\\n",
       "0         6714  0  Non Existing Client  02/09/1971         18/01/2012   \n",
       "1         7440  0  Non Existing Client  07/08/1977         13/02/2012   \n",
       "2          573  0      Existing Client  13/06/1974         04/02/2009   \n",
       "3         9194  0  Non Existing Client  07/11/1973         03/04/2012   \n",
       "4         3016  1      Existing Client  08/07/1982         25/08/2011   \n",
       "\n",
       "    P_Client Educational_Level Marital_Status  Number_Of_Dependant  \\\n",
       "0  NP_Client        University        Married                  3.0   \n",
       "1  NP_Client        University        Married                  3.0   \n",
       "2   P_Client        University        Married                  0.0   \n",
       "3  NP_Client        University        Married                  2.0   \n",
       "4  NP_Client        University        Married                  3.0   \n",
       "\n",
       "   Years_At_Residence  ... Prod_Sub_Category  Prod_Decision_Date Source  \\\n",
       "0                  10  ...                 C          23/01/2012  Sales   \n",
       "1                   1  ...                 C          14/02/2012  Sales   \n",
       "2                  12  ...                 C          30/06/2011  Sales   \n",
       "3                  10  ...                 C          04/04/2012  Sales   \n",
       "4                   3  ...                 C          07/09/2011  Sales   \n",
       "\n",
       "  Type_Of_Residence Nb_Of_Products Prod_Closed_Date  Prod_Category  \\\n",
       "0             Owned              1              NaN              B   \n",
       "1             Owned              1              NaN              B   \n",
       "2           Parents              1              NaN              G   \n",
       "3             Owned              1              NaN              B   \n",
       "4          New rent              1       31/12/2012              L   \n",
       "\n",
       "  Unnamed: 19 Unnamed: 20  Unnamed: 21  \n",
       "0         NaN         NaN          NaN  \n",
       "1         NaN         NaN          NaN  \n",
       "2         NaN         NaN          NaN  \n",
       "3         NaN         NaN          NaN  \n",
       "4         NaN         NaN          NaN  \n",
       "\n",
       "[5 rows x 22 columns]"
      ]
     },
     "execution_count": 3,
     "metadata": {},
     "output_type": "execute_result"
    }
   ],
   "source": [
    "filename = \"./gro.csv\"\n",
    "df = pd.read_csv(filename, sep=';')\n",
    "df.head(n=5)"
   ]
  },
  {
   "cell_type": "code",
   "execution_count": 4,
   "metadata": {
    "ExecuteTime": {
     "end_time": "2020-10-09T14:04:02.264628Z",
     "start_time": "2020-10-09T14:04:02.261664Z"
    }
   },
   "outputs": [
    {
     "data": {
      "text/plain": [
       "Index(['Id_Customer', 'Y', 'Customer_Type', 'BirthDate', 'Customer_Open_Date',\n",
       "       'P_Client', 'Educational_Level', 'Marital_Status',\n",
       "       'Number_Of_Dependant', 'Years_At_Residence', 'Net_Annual_Income',\n",
       "       'Years_At_Business', 'Prod_Sub_Category', 'Prod_Decision_Date',\n",
       "       'Source', 'Type_Of_Residence', 'Nb_Of_Products', 'Prod_Closed_Date',\n",
       "       'Prod_Category', 'Unnamed: 19', 'Unnamed: 20', 'Unnamed: 21'],\n",
       "      dtype='object')"
      ]
     },
     "execution_count": 4,
     "metadata": {},
     "output_type": "execute_result"
    }
   ],
   "source": [
    "df.columns"
   ]
  },
  {
   "cell_type": "markdown",
   "metadata": {},
   "source": [
    "**Remarque**. Il y a des colonnes qui semblent vides à la fin. Elles n'apparraisent sur la description des données."
   ]
  },
  {
   "cell_type": "code",
   "execution_count": 5,
   "metadata": {
    "ExecuteTime": {
     "end_time": "2020-10-09T14:04:02.337287Z",
     "start_time": "2020-10-09T14:04:02.332402Z"
    }
   },
   "outputs": [
    {
     "name": "stdout",
     "output_type": "stream",
     "text": [
      "<class 'pandas.core.frame.DataFrame'>\n",
      "RangeIndex: 6725 entries, 0 to 6724\n",
      "Data columns (total 22 columns):\n",
      " #   Column               Non-Null Count  Dtype  \n",
      "---  ------               --------------  -----  \n",
      " 0   Id_Customer          6725 non-null   int64  \n",
      " 1   Y                    6725 non-null   int64  \n",
      " 2   Customer_Type        6725 non-null   object \n",
      " 3   BirthDate            6725 non-null   object \n",
      " 4   Customer_Open_Date   6725 non-null   object \n",
      " 5   P_Client             6725 non-null   object \n",
      " 6   Educational_Level    6725 non-null   object \n",
      " 7   Marital_Status       6725 non-null   object \n",
      " 8   Number_Of_Dependant  6723 non-null   float64\n",
      " 9   Years_At_Residence   6725 non-null   int64  \n",
      " 10  Net_Annual_Income    6722 non-null   object \n",
      " 11  Years_At_Business    6721 non-null   float64\n",
      " 12  Prod_Sub_Category    6725 non-null   object \n",
      " 13  Prod_Decision_Date   6725 non-null   object \n",
      " 14  Source               6725 non-null   object \n",
      " 15  Type_Of_Residence    6725 non-null   object \n",
      " 16  Nb_Of_Products       6725 non-null   int64  \n",
      " 17  Prod_Closed_Date     1434 non-null   object \n",
      " 18  Prod_Category        6725 non-null   object \n",
      " 19  Unnamed: 19          0 non-null      float64\n",
      " 20  Unnamed: 20          0 non-null      float64\n",
      " 21  Unnamed: 21          0 non-null      float64\n",
      "dtypes: float64(5), int64(4), object(13)\n",
      "memory usage: 1.1+ MB\n"
     ]
    }
   ],
   "source": [
    "df.info()"
   ]
  },
  {
   "cell_type": "code",
   "execution_count": 6,
   "metadata": {
    "ExecuteTime": {
     "end_time": "2020-10-09T14:04:02.465193Z",
     "start_time": "2020-10-09T14:04:02.460895Z"
    }
   },
   "outputs": [
    {
     "data": {
      "text/plain": [
       "0    02/09/1971\n",
       "1    07/08/1977\n",
       "2    13/06/1974\n",
       "3    07/11/1973\n",
       "4    08/07/1982\n",
       "Name: BirthDate, dtype: object"
      ]
     },
     "execution_count": 6,
     "metadata": {},
     "output_type": "execute_result"
    }
   ],
   "source": [
    "df[\"BirthDate\"].head()"
   ]
  },
  {
   "cell_type": "code",
   "execution_count": 7,
   "metadata": {
    "ExecuteTime": {
     "end_time": "2020-10-09T14:04:02.598317Z",
     "start_time": "2020-10-09T14:04:02.593783Z"
    }
   },
   "outputs": [
    {
     "data": {
      "text/plain": [
       "str"
      ]
     },
     "execution_count": 7,
     "metadata": {},
     "output_type": "execute_result"
    }
   ],
   "source": [
    "type(df.loc[0, 'BirthDate'])"
   ]
  },
  {
   "cell_type": "markdown",
   "metadata": {},
   "source": [
    "Cela signifie que les dates ont été importées comme des chaînes de caractère..."
   ]
  },
  {
   "cell_type": "code",
   "execution_count": 8,
   "metadata": {
    "ExecuteTime": {
     "end_time": "2020-10-09T14:04:03.061117Z",
     "start_time": "2020-10-09T14:04:03.056980Z"
    }
   },
   "outputs": [
    {
     "data": {
      "text/plain": [
       "0    C\n",
       "1    C\n",
       "2    C\n",
       "3    C\n",
       "4    C\n",
       "Name: Prod_Sub_Category, dtype: object"
      ]
     },
     "execution_count": 8,
     "metadata": {},
     "output_type": "execute_result"
    }
   ],
   "source": [
    "df['Prod_Sub_Category'].head()"
   ]
  },
  {
   "cell_type": "code",
   "execution_count": 9,
   "metadata": {
    "ExecuteTime": {
     "end_time": "2020-10-09T14:04:03.192327Z",
     "start_time": "2020-10-09T14:04:03.188478Z"
    },
    "scrolled": true
   },
   "outputs": [
    {
     "data": {
      "text/plain": [
       "str"
      ]
     },
     "execution_count": 9,
     "metadata": {},
     "output_type": "execute_result"
    }
   ],
   "source": [
    "type(df.loc[0, 'Prod_Sub_Category'])"
   ]
  },
  {
   "cell_type": "markdown",
   "metadata": {},
   "source": [
    "Même chose pour les colonnes catégorielles."
   ]
  },
  {
   "cell_type": "code",
   "execution_count": 10,
   "metadata": {
    "ExecuteTime": {
     "end_time": "2020-10-09T14:04:03.352176Z",
     "start_time": "2020-10-09T14:04:03.347370Z"
    }
   },
   "outputs": [
    {
     "data": {
      "text/plain": [
       "0        36\n",
       "1        36\n",
       "2        18\n",
       "3        36\n",
       "4        36\n",
       "5    59,916\n",
       "6        36\n",
       "7        60\n",
       "8        36\n",
       "9        36\n",
       "Name: Net_Annual_Income, dtype: object"
      ]
     },
     "execution_count": 10,
     "metadata": {},
     "output_type": "execute_result"
    }
   ],
   "source": [
    "df['Net_Annual_Income'].head(n=10)"
   ]
  },
  {
   "cell_type": "code",
   "execution_count": 11,
   "metadata": {
    "ExecuteTime": {
     "end_time": "2020-10-09T14:04:03.478173Z",
     "start_time": "2020-10-09T14:04:03.475103Z"
    },
    "scrolled": true
   },
   "outputs": [
    {
     "data": {
      "text/plain": [
       "str"
      ]
     },
     "execution_count": 11,
     "metadata": {},
     "output_type": "execute_result"
    }
   ],
   "source": [
    "type(df.loc[0, 'Net_Annual_Income'])"
   ]
  },
  {
   "cell_type": "markdown",
   "metadata": {},
   "source": [
    "Le revenu net réel (Net actual income) a également été importé comme une chaîne de caractère"
   ]
  },
  {
   "cell_type": "code",
   "execution_count": 12,
   "metadata": {
    "ExecuteTime": {
     "end_time": "2020-10-09T14:04:03.934047Z",
     "start_time": "2020-10-09T14:04:03.867813Z"
    }
   },
   "outputs": [
    {
     "data": {
      "text/html": [
       "<div>\n",
       "<style scoped>\n",
       "    .dataframe tbody tr th:only-of-type {\n",
       "        vertical-align: middle;\n",
       "    }\n",
       "\n",
       "    .dataframe tbody tr th {\n",
       "        vertical-align: top;\n",
       "    }\n",
       "\n",
       "    .dataframe thead th {\n",
       "        text-align: right;\n",
       "    }\n",
       "</style>\n",
       "<table border=\"1\" class=\"dataframe\">\n",
       "  <thead>\n",
       "    <tr style=\"text-align: right;\">\n",
       "      <th></th>\n",
       "      <th>Id_Customer</th>\n",
       "      <th>Y</th>\n",
       "      <th>Customer_Type</th>\n",
       "      <th>BirthDate</th>\n",
       "      <th>Customer_Open_Date</th>\n",
       "      <th>P_Client</th>\n",
       "      <th>Educational_Level</th>\n",
       "      <th>Marital_Status</th>\n",
       "      <th>Number_Of_Dependant</th>\n",
       "      <th>Years_At_Residence</th>\n",
       "      <th>...</th>\n",
       "      <th>Prod_Sub_Category</th>\n",
       "      <th>Prod_Decision_Date</th>\n",
       "      <th>Source</th>\n",
       "      <th>Type_Of_Residence</th>\n",
       "      <th>Nb_Of_Products</th>\n",
       "      <th>Prod_Closed_Date</th>\n",
       "      <th>Prod_Category</th>\n",
       "      <th>Unnamed: 19</th>\n",
       "      <th>Unnamed: 20</th>\n",
       "      <th>Unnamed: 21</th>\n",
       "    </tr>\n",
       "  </thead>\n",
       "  <tbody>\n",
       "    <tr>\n",
       "      <th>count</th>\n",
       "      <td>6725.000000</td>\n",
       "      <td>6725.000000</td>\n",
       "      <td>6725</td>\n",
       "      <td>6725</td>\n",
       "      <td>6725</td>\n",
       "      <td>6725</td>\n",
       "      <td>6725</td>\n",
       "      <td>6725</td>\n",
       "      <td>6723.000000</td>\n",
       "      <td>6725.000000</td>\n",
       "      <td>...</td>\n",
       "      <td>6725</td>\n",
       "      <td>6725</td>\n",
       "      <td>6725</td>\n",
       "      <td>6725</td>\n",
       "      <td>6725.000000</td>\n",
       "      <td>1434</td>\n",
       "      <td>6725</td>\n",
       "      <td>0.0</td>\n",
       "      <td>0.0</td>\n",
       "      <td>0.0</td>\n",
       "    </tr>\n",
       "    <tr>\n",
       "      <th>unique</th>\n",
       "      <td>NaN</td>\n",
       "      <td>NaN</td>\n",
       "      <td>2</td>\n",
       "      <td>5224</td>\n",
       "      <td>1371</td>\n",
       "      <td>2</td>\n",
       "      <td>4</td>\n",
       "      <td>5</td>\n",
       "      <td>NaN</td>\n",
       "      <td>NaN</td>\n",
       "      <td>...</td>\n",
       "      <td>3</td>\n",
       "      <td>278</td>\n",
       "      <td>2</td>\n",
       "      <td>5</td>\n",
       "      <td>NaN</td>\n",
       "      <td>349</td>\n",
       "      <td>13</td>\n",
       "      <td>NaN</td>\n",
       "      <td>NaN</td>\n",
       "      <td>NaN</td>\n",
       "    </tr>\n",
       "    <tr>\n",
       "      <th>top</th>\n",
       "      <td>NaN</td>\n",
       "      <td>NaN</td>\n",
       "      <td>Non Existing Client</td>\n",
       "      <td>01/10/1984</td>\n",
       "      <td>12/12/2011</td>\n",
       "      <td>NP_Client</td>\n",
       "      <td>University</td>\n",
       "      <td>Married</td>\n",
       "      <td>NaN</td>\n",
       "      <td>NaN</td>\n",
       "      <td>...</td>\n",
       "      <td>C</td>\n",
       "      <td>06/12/2011</td>\n",
       "      <td>Sales</td>\n",
       "      <td>Owned</td>\n",
       "      <td>NaN</td>\n",
       "      <td>30/05/2013</td>\n",
       "      <td>B</td>\n",
       "      <td>NaN</td>\n",
       "      <td>NaN</td>\n",
       "      <td>NaN</td>\n",
       "    </tr>\n",
       "    <tr>\n",
       "      <th>freq</th>\n",
       "      <td>NaN</td>\n",
       "      <td>NaN</td>\n",
       "      <td>4214</td>\n",
       "      <td>8</td>\n",
       "      <td>50</td>\n",
       "      <td>6213</td>\n",
       "      <td>5981</td>\n",
       "      <td>5268</td>\n",
       "      <td>NaN</td>\n",
       "      <td>NaN</td>\n",
       "      <td>...</td>\n",
       "      <td>5783</td>\n",
       "      <td>58</td>\n",
       "      <td>5149</td>\n",
       "      <td>5986</td>\n",
       "      <td>NaN</td>\n",
       "      <td>116</td>\n",
       "      <td>3979</td>\n",
       "      <td>NaN</td>\n",
       "      <td>NaN</td>\n",
       "      <td>NaN</td>\n",
       "    </tr>\n",
       "    <tr>\n",
       "      <th>mean</th>\n",
       "      <td>4821.029740</td>\n",
       "      <td>0.072862</td>\n",
       "      <td>NaN</td>\n",
       "      <td>NaN</td>\n",
       "      <td>NaN</td>\n",
       "      <td>NaN</td>\n",
       "      <td>NaN</td>\n",
       "      <td>NaN</td>\n",
       "      <td>1.051614</td>\n",
       "      <td>12.564758</td>\n",
       "      <td>...</td>\n",
       "      <td>NaN</td>\n",
       "      <td>NaN</td>\n",
       "      <td>NaN</td>\n",
       "      <td>NaN</td>\n",
       "      <td>1.086840</td>\n",
       "      <td>NaN</td>\n",
       "      <td>NaN</td>\n",
       "      <td>NaN</td>\n",
       "      <td>NaN</td>\n",
       "      <td>NaN</td>\n",
       "    </tr>\n",
       "    <tr>\n",
       "      <th>std</th>\n",
       "      <td>2775.505395</td>\n",
       "      <td>0.259930</td>\n",
       "      <td>NaN</td>\n",
       "      <td>NaN</td>\n",
       "      <td>NaN</td>\n",
       "      <td>NaN</td>\n",
       "      <td>NaN</td>\n",
       "      <td>NaN</td>\n",
       "      <td>1.332712</td>\n",
       "      <td>9.986257</td>\n",
       "      <td>...</td>\n",
       "      <td>NaN</td>\n",
       "      <td>NaN</td>\n",
       "      <td>NaN</td>\n",
       "      <td>NaN</td>\n",
       "      <td>0.295033</td>\n",
       "      <td>NaN</td>\n",
       "      <td>NaN</td>\n",
       "      <td>NaN</td>\n",
       "      <td>NaN</td>\n",
       "      <td>NaN</td>\n",
       "    </tr>\n",
       "    <tr>\n",
       "      <th>min</th>\n",
       "      <td>1.000000</td>\n",
       "      <td>0.000000</td>\n",
       "      <td>NaN</td>\n",
       "      <td>NaN</td>\n",
       "      <td>NaN</td>\n",
       "      <td>NaN</td>\n",
       "      <td>NaN</td>\n",
       "      <td>NaN</td>\n",
       "      <td>0.000000</td>\n",
       "      <td>0.000000</td>\n",
       "      <td>...</td>\n",
       "      <td>NaN</td>\n",
       "      <td>NaN</td>\n",
       "      <td>NaN</td>\n",
       "      <td>NaN</td>\n",
       "      <td>1.000000</td>\n",
       "      <td>NaN</td>\n",
       "      <td>NaN</td>\n",
       "      <td>NaN</td>\n",
       "      <td>NaN</td>\n",
       "      <td>NaN</td>\n",
       "    </tr>\n",
       "    <tr>\n",
       "      <th>25%</th>\n",
       "      <td>2399.000000</td>\n",
       "      <td>0.000000</td>\n",
       "      <td>NaN</td>\n",
       "      <td>NaN</td>\n",
       "      <td>NaN</td>\n",
       "      <td>NaN</td>\n",
       "      <td>NaN</td>\n",
       "      <td>NaN</td>\n",
       "      <td>0.000000</td>\n",
       "      <td>4.000000</td>\n",
       "      <td>...</td>\n",
       "      <td>NaN</td>\n",
       "      <td>NaN</td>\n",
       "      <td>NaN</td>\n",
       "      <td>NaN</td>\n",
       "      <td>1.000000</td>\n",
       "      <td>NaN</td>\n",
       "      <td>NaN</td>\n",
       "      <td>NaN</td>\n",
       "      <td>NaN</td>\n",
       "      <td>NaN</td>\n",
       "    </tr>\n",
       "    <tr>\n",
       "      <th>50%</th>\n",
       "      <td>4822.000000</td>\n",
       "      <td>0.000000</td>\n",
       "      <td>NaN</td>\n",
       "      <td>NaN</td>\n",
       "      <td>NaN</td>\n",
       "      <td>NaN</td>\n",
       "      <td>NaN</td>\n",
       "      <td>NaN</td>\n",
       "      <td>0.000000</td>\n",
       "      <td>10.000000</td>\n",
       "      <td>...</td>\n",
       "      <td>NaN</td>\n",
       "      <td>NaN</td>\n",
       "      <td>NaN</td>\n",
       "      <td>NaN</td>\n",
       "      <td>1.000000</td>\n",
       "      <td>NaN</td>\n",
       "      <td>NaN</td>\n",
       "      <td>NaN</td>\n",
       "      <td>NaN</td>\n",
       "      <td>NaN</td>\n",
       "    </tr>\n",
       "    <tr>\n",
       "      <th>75%</th>\n",
       "      <td>7209.000000</td>\n",
       "      <td>0.000000</td>\n",
       "      <td>NaN</td>\n",
       "      <td>NaN</td>\n",
       "      <td>NaN</td>\n",
       "      <td>NaN</td>\n",
       "      <td>NaN</td>\n",
       "      <td>NaN</td>\n",
       "      <td>2.000000</td>\n",
       "      <td>17.000000</td>\n",
       "      <td>...</td>\n",
       "      <td>NaN</td>\n",
       "      <td>NaN</td>\n",
       "      <td>NaN</td>\n",
       "      <td>NaN</td>\n",
       "      <td>1.000000</td>\n",
       "      <td>NaN</td>\n",
       "      <td>NaN</td>\n",
       "      <td>NaN</td>\n",
       "      <td>NaN</td>\n",
       "      <td>NaN</td>\n",
       "    </tr>\n",
       "    <tr>\n",
       "      <th>max</th>\n",
       "      <td>9605.000000</td>\n",
       "      <td>1.000000</td>\n",
       "      <td>NaN</td>\n",
       "      <td>NaN</td>\n",
       "      <td>NaN</td>\n",
       "      <td>NaN</td>\n",
       "      <td>NaN</td>\n",
       "      <td>NaN</td>\n",
       "      <td>20.000000</td>\n",
       "      <td>73.000000</td>\n",
       "      <td>...</td>\n",
       "      <td>NaN</td>\n",
       "      <td>NaN</td>\n",
       "      <td>NaN</td>\n",
       "      <td>NaN</td>\n",
       "      <td>3.000000</td>\n",
       "      <td>NaN</td>\n",
       "      <td>NaN</td>\n",
       "      <td>NaN</td>\n",
       "      <td>NaN</td>\n",
       "      <td>NaN</td>\n",
       "    </tr>\n",
       "  </tbody>\n",
       "</table>\n",
       "<p>11 rows × 22 columns</p>\n",
       "</div>"
      ],
      "text/plain": [
       "        Id_Customer            Y        Customer_Type   BirthDate  \\\n",
       "count   6725.000000  6725.000000                 6725        6725   \n",
       "unique          NaN          NaN                    2        5224   \n",
       "top             NaN          NaN  Non Existing Client  01/10/1984   \n",
       "freq            NaN          NaN                 4214           8   \n",
       "mean    4821.029740     0.072862                  NaN         NaN   \n",
       "std     2775.505395     0.259930                  NaN         NaN   \n",
       "min        1.000000     0.000000                  NaN         NaN   \n",
       "25%     2399.000000     0.000000                  NaN         NaN   \n",
       "50%     4822.000000     0.000000                  NaN         NaN   \n",
       "75%     7209.000000     0.000000                  NaN         NaN   \n",
       "max     9605.000000     1.000000                  NaN         NaN   \n",
       "\n",
       "       Customer_Open_Date   P_Client Educational_Level Marital_Status  \\\n",
       "count                6725       6725              6725           6725   \n",
       "unique               1371          2                 4              5   \n",
       "top            12/12/2011  NP_Client        University        Married   \n",
       "freq                   50       6213              5981           5268   \n",
       "mean                  NaN        NaN               NaN            NaN   \n",
       "std                   NaN        NaN               NaN            NaN   \n",
       "min                   NaN        NaN               NaN            NaN   \n",
       "25%                   NaN        NaN               NaN            NaN   \n",
       "50%                   NaN        NaN               NaN            NaN   \n",
       "75%                   NaN        NaN               NaN            NaN   \n",
       "max                   NaN        NaN               NaN            NaN   \n",
       "\n",
       "        Number_Of_Dependant  Years_At_Residence  ... Prod_Sub_Category  \\\n",
       "count           6723.000000         6725.000000  ...              6725   \n",
       "unique                  NaN                 NaN  ...                 3   \n",
       "top                     NaN                 NaN  ...                 C   \n",
       "freq                    NaN                 NaN  ...              5783   \n",
       "mean               1.051614           12.564758  ...               NaN   \n",
       "std                1.332712            9.986257  ...               NaN   \n",
       "min                0.000000            0.000000  ...               NaN   \n",
       "25%                0.000000            4.000000  ...               NaN   \n",
       "50%                0.000000           10.000000  ...               NaN   \n",
       "75%                2.000000           17.000000  ...               NaN   \n",
       "max               20.000000           73.000000  ...               NaN   \n",
       "\n",
       "        Prod_Decision_Date Source Type_Of_Residence Nb_Of_Products  \\\n",
       "count                 6725   6725              6725    6725.000000   \n",
       "unique                 278      2                 5            NaN   \n",
       "top             06/12/2011  Sales             Owned            NaN   \n",
       "freq                    58   5149              5986            NaN   \n",
       "mean                   NaN    NaN               NaN       1.086840   \n",
       "std                    NaN    NaN               NaN       0.295033   \n",
       "min                    NaN    NaN               NaN       1.000000   \n",
       "25%                    NaN    NaN               NaN       1.000000   \n",
       "50%                    NaN    NaN               NaN       1.000000   \n",
       "75%                    NaN    NaN               NaN       1.000000   \n",
       "max                    NaN    NaN               NaN       3.000000   \n",
       "\n",
       "       Prod_Closed_Date  Prod_Category Unnamed: 19 Unnamed: 20  Unnamed: 21  \n",
       "count              1434           6725         0.0         0.0          0.0  \n",
       "unique              349             13         NaN         NaN          NaN  \n",
       "top          30/05/2013              B         NaN         NaN          NaN  \n",
       "freq                116           3979         NaN         NaN          NaN  \n",
       "mean                NaN            NaN         NaN         NaN          NaN  \n",
       "std                 NaN            NaN         NaN         NaN          NaN  \n",
       "min                 NaN            NaN         NaN         NaN          NaN  \n",
       "25%                 NaN            NaN         NaN         NaN          NaN  \n",
       "50%                 NaN            NaN         NaN         NaN          NaN  \n",
       "75%                 NaN            NaN         NaN         NaN          NaN  \n",
       "max                 NaN            NaN         NaN         NaN          NaN  \n",
       "\n",
       "[11 rows x 22 columns]"
      ]
     },
     "execution_count": 12,
     "metadata": {},
     "output_type": "execute_result"
    }
   ],
   "source": [
    "df.describe(include='all')"
   ]
  },
  {
   "cell_type": "markdown",
   "metadata": {},
   "source": [
    "### Conclusion de cette première importation\n",
    "\n",
    "Il va donc falloir travailler un peu plus pour corriger les problèmes suivants :\n",
    "- Les trois dernières colonnes sont vides\n",
    "- Les dates sont des `str` (type python pour les chaînes de caractère)\n",
    "- Il y a de nombreuses valeurs manquantes\n",
    "- Les colonnes catégorielles sont des `str`\n",
    "- De même pour la colonne `Net_Annual_Income` \n",
    "\n",
    "En regardant la définition des colonnes, on peut inférer les types corrects de presque toutes les variables :\n",
    "\n",
    "**Features continues**\n",
    "- `Years_At_Residence`\n",
    "- `Net_Annual_Income`\n",
    "- `Years_At_Business`\n",
    "\n",
    "**Features catégorielles*\n",
    "\n",
    "- `Customer_Type`\n",
    "- `P_Client`\n",
    "- `Educational_Level`\n",
    "- `Marital_Status`\n",
    "- `Prod_Sub_Category`\n",
    "- `Source`\n",
    "- `Type_Of_Residence`\n",
    "- `Prod_Category`\n",
    "\n",
    "**Features dates**\n",
    "\n",
    "- `BirthDate`\n",
    "- `Customer_Open_Date`\n",
    "- `Prod_Decision_Date`\n",
    "- `Prod_Closed_Date`\n",
    "\n",
    "**Features à étudier encore**\n",
    "\n",
    "- `Number_Of_Dependant`\n",
    "- `Nb_Of_Products`"
   ]
  },
  {
   "cell_type": "markdown",
   "metadata": {},
   "source": [
    "# 2. Identification des problèmes et présentation des résultats\n",
    "\n",
    "Il faut trouver une solution pour tous ces points\n",
    "\n",
    "#### 2.1 Problème des 3 dernières colonnes\n",
    "\n",
    "Il y a plusieurs `;` à la fin de chaque ligne`';'`. On va utiliser l'option `usecols` de `read_csv`."
   ]
  },
  {
   "cell_type": "markdown",
   "metadata": {},
   "source": [
    "#### 2.2 Problèmes avec les Dates\n",
    "\n",
    "On va utiliser l'option `parse_dates` de `read_csv`."
   ]
  },
  {
   "cell_type": "code",
   "execution_count": 13,
   "metadata": {
    "ExecuteTime": {
     "end_time": "2020-10-09T14:04:05.301181Z",
     "start_time": "2020-10-09T14:04:05.296487Z"
    },
    "scrolled": true
   },
   "outputs": [
    {
     "data": {
      "text/plain": [
       "str"
      ]
     },
     "execution_count": 13,
     "metadata": {},
     "output_type": "execute_result"
    }
   ],
   "source": [
    "type(df.loc[0, 'BirthDate'])"
   ]
  },
  {
   "cell_type": "markdown",
   "metadata": {},
   "source": [
    "#### 2.3 Les données manquantes\n",
    "\n",
    "On repère dans quelles colonnes sont les valeurs maquantes."
   ]
  },
  {
   "cell_type": "code",
   "execution_count": 14,
   "metadata": {
    "ExecuteTime": {
     "end_time": "2020-10-09T14:04:05.631032Z",
     "start_time": "2020-10-09T14:04:05.622705Z"
    }
   },
   "outputs": [
    {
     "data": {
      "text/plain": [
       "Id_Customer               0\n",
       "Y                         0\n",
       "Customer_Type             0\n",
       "BirthDate                 0\n",
       "Customer_Open_Date        0\n",
       "P_Client                  0\n",
       "Educational_Level         0\n",
       "Marital_Status            0\n",
       "Number_Of_Dependant       2\n",
       "Years_At_Residence        0\n",
       "Net_Annual_Income         3\n",
       "Years_At_Business         4\n",
       "Prod_Sub_Category         0\n",
       "Prod_Decision_Date        0\n",
       "Source                    0\n",
       "Type_Of_Residence         0\n",
       "Nb_Of_Products            0\n",
       "Prod_Closed_Date       5291\n",
       "Prod_Category             0\n",
       "Unnamed: 19            6725\n",
       "Unnamed: 20            6725\n",
       "Unnamed: 21            6725\n",
       "dtype: int64"
      ]
     },
     "execution_count": 14,
     "metadata": {},
     "output_type": "execute_result"
    }
   ],
   "source": [
    "df.isnull().sum()"
   ]
  },
  {
   "cell_type": "markdown",
   "metadata": {},
   "source": [
    "C'est sur la colonne `Prod_Closed_Date` que se trouvent le plus grand nombre de valeurs manquantes, une solution est de la retirer"
   ]
  },
  {
   "cell_type": "code",
   "execution_count": 15,
   "metadata": {
    "ExecuteTime": {
     "end_time": "2020-10-09T14:04:05.824951Z",
     "start_time": "2020-10-09T14:04:05.812024Z"
    }
   },
   "outputs": [
    {
     "data": {
      "text/html": [
       "<div>\n",
       "<style scoped>\n",
       "    .dataframe tbody tr th:only-of-type {\n",
       "        vertical-align: middle;\n",
       "    }\n",
       "\n",
       "    .dataframe tbody tr th {\n",
       "        vertical-align: top;\n",
       "    }\n",
       "\n",
       "    .dataframe thead th {\n",
       "        text-align: right;\n",
       "    }\n",
       "</style>\n",
       "<table border=\"1\" class=\"dataframe\">\n",
       "  <thead>\n",
       "    <tr style=\"text-align: right;\">\n",
       "      <th></th>\n",
       "      <th>Prod_Closed_Date</th>\n",
       "    </tr>\n",
       "  </thead>\n",
       "  <tbody>\n",
       "    <tr>\n",
       "      <th>0</th>\n",
       "      <td>NaN</td>\n",
       "    </tr>\n",
       "    <tr>\n",
       "      <th>1</th>\n",
       "      <td>NaN</td>\n",
       "    </tr>\n",
       "    <tr>\n",
       "      <th>2</th>\n",
       "      <td>NaN</td>\n",
       "    </tr>\n",
       "    <tr>\n",
       "      <th>3</th>\n",
       "      <td>NaN</td>\n",
       "    </tr>\n",
       "    <tr>\n",
       "      <th>4</th>\n",
       "      <td>31/12/2012</td>\n",
       "    </tr>\n",
       "  </tbody>\n",
       "</table>\n",
       "</div>"
      ],
      "text/plain": [
       "  Prod_Closed_Date\n",
       "0              NaN\n",
       "1              NaN\n",
       "2              NaN\n",
       "3              NaN\n",
       "4       31/12/2012"
      ]
     },
     "execution_count": 15,
     "metadata": {},
     "output_type": "execute_result"
    }
   ],
   "source": [
    "df[['Prod_Closed_Date']].head(5)"
   ]
  },
  {
   "cell_type": "code",
   "execution_count": 16,
   "metadata": {},
   "outputs": [],
   "source": [
    "df.drop(['Prod_Closed_Date', 'Unnamed: 19', \n",
    "         'Unnamed: 20', 'Unnamed: 21'], axis=\"columns\", inplace=True)"
   ]
  },
  {
   "cell_type": "code",
   "execution_count": 17,
   "metadata": {
    "ExecuteTime": {
     "end_time": "2020-10-09T14:04:10.991036Z",
     "start_time": "2020-10-09T14:04:10.977436Z"
    },
    "scrolled": true
   },
   "outputs": [
    {
     "data": {
      "text/html": [
       "<div>\n",
       "<style scoped>\n",
       "    .dataframe tbody tr th:only-of-type {\n",
       "        vertical-align: middle;\n",
       "    }\n",
       "\n",
       "    .dataframe tbody tr th {\n",
       "        vertical-align: top;\n",
       "    }\n",
       "\n",
       "    .dataframe thead th {\n",
       "        text-align: right;\n",
       "    }\n",
       "</style>\n",
       "<table border=\"1\" class=\"dataframe\">\n",
       "  <thead>\n",
       "    <tr style=\"text-align: right;\">\n",
       "      <th></th>\n",
       "      <th>Id_Customer</th>\n",
       "      <th>Y</th>\n",
       "      <th>Customer_Type</th>\n",
       "      <th>BirthDate</th>\n",
       "      <th>Customer_Open_Date</th>\n",
       "      <th>P_Client</th>\n",
       "      <th>Educational_Level</th>\n",
       "      <th>Marital_Status</th>\n",
       "      <th>Number_Of_Dependant</th>\n",
       "      <th>Years_At_Residence</th>\n",
       "      <th>Net_Annual_Income</th>\n",
       "      <th>Years_At_Business</th>\n",
       "      <th>Prod_Sub_Category</th>\n",
       "      <th>Prod_Decision_Date</th>\n",
       "      <th>Source</th>\n",
       "      <th>Type_Of_Residence</th>\n",
       "      <th>Nb_Of_Products</th>\n",
       "      <th>Prod_Category</th>\n",
       "    </tr>\n",
       "  </thead>\n",
       "  <tbody>\n",
       "    <tr>\n",
       "      <th>0</th>\n",
       "      <td>6714</td>\n",
       "      <td>0</td>\n",
       "      <td>Non Existing Client</td>\n",
       "      <td>02/09/1971</td>\n",
       "      <td>18/01/2012</td>\n",
       "      <td>NP_Client</td>\n",
       "      <td>University</td>\n",
       "      <td>Married</td>\n",
       "      <td>3.0</td>\n",
       "      <td>10</td>\n",
       "      <td>36</td>\n",
       "      <td>3.0</td>\n",
       "      <td>C</td>\n",
       "      <td>23/01/2012</td>\n",
       "      <td>Sales</td>\n",
       "      <td>Owned</td>\n",
       "      <td>1</td>\n",
       "      <td>B</td>\n",
       "    </tr>\n",
       "    <tr>\n",
       "      <th>1</th>\n",
       "      <td>7440</td>\n",
       "      <td>0</td>\n",
       "      <td>Non Existing Client</td>\n",
       "      <td>07/08/1977</td>\n",
       "      <td>13/02/2012</td>\n",
       "      <td>NP_Client</td>\n",
       "      <td>University</td>\n",
       "      <td>Married</td>\n",
       "      <td>3.0</td>\n",
       "      <td>1</td>\n",
       "      <td>36</td>\n",
       "      <td>1.0</td>\n",
       "      <td>C</td>\n",
       "      <td>14/02/2012</td>\n",
       "      <td>Sales</td>\n",
       "      <td>Owned</td>\n",
       "      <td>1</td>\n",
       "      <td>B</td>\n",
       "    </tr>\n",
       "    <tr>\n",
       "      <th>2</th>\n",
       "      <td>573</td>\n",
       "      <td>0</td>\n",
       "      <td>Existing Client</td>\n",
       "      <td>13/06/1974</td>\n",
       "      <td>04/02/2009</td>\n",
       "      <td>P_Client</td>\n",
       "      <td>University</td>\n",
       "      <td>Married</td>\n",
       "      <td>0.0</td>\n",
       "      <td>12</td>\n",
       "      <td>18</td>\n",
       "      <td>2.0</td>\n",
       "      <td>C</td>\n",
       "      <td>30/06/2011</td>\n",
       "      <td>Sales</td>\n",
       "      <td>Parents</td>\n",
       "      <td>1</td>\n",
       "      <td>G</td>\n",
       "    </tr>\n",
       "    <tr>\n",
       "      <th>3</th>\n",
       "      <td>9194</td>\n",
       "      <td>0</td>\n",
       "      <td>Non Existing Client</td>\n",
       "      <td>07/11/1973</td>\n",
       "      <td>03/04/2012</td>\n",
       "      <td>NP_Client</td>\n",
       "      <td>University</td>\n",
       "      <td>Married</td>\n",
       "      <td>2.0</td>\n",
       "      <td>10</td>\n",
       "      <td>36</td>\n",
       "      <td>1.0</td>\n",
       "      <td>C</td>\n",
       "      <td>04/04/2012</td>\n",
       "      <td>Sales</td>\n",
       "      <td>Owned</td>\n",
       "      <td>1</td>\n",
       "      <td>B</td>\n",
       "    </tr>\n",
       "    <tr>\n",
       "      <th>4</th>\n",
       "      <td>3016</td>\n",
       "      <td>1</td>\n",
       "      <td>Existing Client</td>\n",
       "      <td>08/07/1982</td>\n",
       "      <td>25/08/2011</td>\n",
       "      <td>NP_Client</td>\n",
       "      <td>University</td>\n",
       "      <td>Married</td>\n",
       "      <td>3.0</td>\n",
       "      <td>3</td>\n",
       "      <td>36</td>\n",
       "      <td>1.0</td>\n",
       "      <td>C</td>\n",
       "      <td>07/09/2011</td>\n",
       "      <td>Sales</td>\n",
       "      <td>New rent</td>\n",
       "      <td>1</td>\n",
       "      <td>L</td>\n",
       "    </tr>\n",
       "  </tbody>\n",
       "</table>\n",
       "</div>"
      ],
      "text/plain": [
       "   Id_Customer  Y        Customer_Type   BirthDate Customer_Open_Date  \\\n",
       "0         6714  0  Non Existing Client  02/09/1971         18/01/2012   \n",
       "1         7440  0  Non Existing Client  07/08/1977         13/02/2012   \n",
       "2          573  0      Existing Client  13/06/1974         04/02/2009   \n",
       "3         9194  0  Non Existing Client  07/11/1973         03/04/2012   \n",
       "4         3016  1      Existing Client  08/07/1982         25/08/2011   \n",
       "\n",
       "    P_Client Educational_Level Marital_Status  Number_Of_Dependant  \\\n",
       "0  NP_Client        University        Married                  3.0   \n",
       "1  NP_Client        University        Married                  3.0   \n",
       "2   P_Client        University        Married                  0.0   \n",
       "3  NP_Client        University        Married                  2.0   \n",
       "4  NP_Client        University        Married                  3.0   \n",
       "\n",
       "   Years_At_Residence Net_Annual_Income  Years_At_Business Prod_Sub_Category  \\\n",
       "0                  10                36                3.0                 C   \n",
       "1                   1                36                1.0                 C   \n",
       "2                  12                18                2.0                 C   \n",
       "3                  10                36                1.0                 C   \n",
       "4                   3                36                1.0                 C   \n",
       "\n",
       "  Prod_Decision_Date Source Type_Of_Residence  Nb_Of_Products Prod_Category  \n",
       "0         23/01/2012  Sales             Owned               1             B  \n",
       "1         14/02/2012  Sales             Owned               1             B  \n",
       "2         30/06/2011  Sales           Parents               1             G  \n",
       "3         04/04/2012  Sales             Owned               1             B  \n",
       "4         07/09/2011  Sales          New rent               1             L  "
      ]
     },
     "execution_count": 17,
     "metadata": {},
     "output_type": "execute_result"
    }
   ],
   "source": [
    "df.head()"
   ]
  },
  {
   "cell_type": "markdown",
   "metadata": {},
   "source": [
    "On regarde où les données contiennent encore des valeurs manquantes"
   ]
  },
  {
   "cell_type": "code",
   "execution_count": 18,
   "metadata": {
    "ExecuteTime": {
     "end_time": "2020-10-09T13:42:49.857691Z",
     "start_time": "2020-10-09T13:42:49.845166Z"
    }
   },
   "outputs": [
    {
     "data": {
      "text/html": [
       "<style  type=\"text/css\" >\n",
       "#T_c27ad1e2_4ea0_11eb_94d1_367dda846d75row0_col11,#T_c27ad1e2_4ea0_11eb_94d1_367dda846d75row1_col8,#T_c27ad1e2_4ea0_11eb_94d1_367dda846d75row2_col10,#T_c27ad1e2_4ea0_11eb_94d1_367dda846d75row3_col10,#T_c27ad1e2_4ea0_11eb_94d1_367dda846d75row4_col11,#T_c27ad1e2_4ea0_11eb_94d1_367dda846d75row5_col11,#T_c27ad1e2_4ea0_11eb_94d1_367dda846d75row6_col8,#T_c27ad1e2_4ea0_11eb_94d1_367dda846d75row7_col11,#T_c27ad1e2_4ea0_11eb_94d1_367dda846d75row8_col10{\n",
       "            background-color:  red;\n",
       "        }</style><table id=\"T_c27ad1e2_4ea0_11eb_94d1_367dda846d75\" ><thead>    <tr>        <th class=\"blank level0\" ></th>        <th class=\"col_heading level0 col0\" >Id_Customer</th>        <th class=\"col_heading level0 col1\" >Y</th>        <th class=\"col_heading level0 col2\" >Customer_Type</th>        <th class=\"col_heading level0 col3\" >BirthDate</th>        <th class=\"col_heading level0 col4\" >Customer_Open_Date</th>        <th class=\"col_heading level0 col5\" >P_Client</th>        <th class=\"col_heading level0 col6\" >Educational_Level</th>        <th class=\"col_heading level0 col7\" >Marital_Status</th>        <th class=\"col_heading level0 col8\" >Number_Of_Dependant</th>        <th class=\"col_heading level0 col9\" >Years_At_Residence</th>        <th class=\"col_heading level0 col10\" >Net_Annual_Income</th>        <th class=\"col_heading level0 col11\" >Years_At_Business</th>        <th class=\"col_heading level0 col12\" >Prod_Sub_Category</th>        <th class=\"col_heading level0 col13\" >Prod_Decision_Date</th>        <th class=\"col_heading level0 col14\" >Source</th>        <th class=\"col_heading level0 col15\" >Type_Of_Residence</th>        <th class=\"col_heading level0 col16\" >Nb_Of_Products</th>        <th class=\"col_heading level0 col17\" >Prod_Category</th>    </tr></thead><tbody>\n",
       "                <tr>\n",
       "                        <th id=\"T_c27ad1e2_4ea0_11eb_94d1_367dda846d75level0_row0\" class=\"row_heading level0 row0\" >105</th>\n",
       "                        <td id=\"T_c27ad1e2_4ea0_11eb_94d1_367dda846d75row0_col0\" class=\"data row0 col0\" >9407</td>\n",
       "                        <td id=\"T_c27ad1e2_4ea0_11eb_94d1_367dda846d75row0_col1\" class=\"data row0 col1\" >0</td>\n",
       "                        <td id=\"T_c27ad1e2_4ea0_11eb_94d1_367dda846d75row0_col2\" class=\"data row0 col2\" >Non Existing Client</td>\n",
       "                        <td id=\"T_c27ad1e2_4ea0_11eb_94d1_367dda846d75row0_col3\" class=\"data row0 col3\" >17/05/1956</td>\n",
       "                        <td id=\"T_c27ad1e2_4ea0_11eb_94d1_367dda846d75row0_col4\" class=\"data row0 col4\" >17/04/2012</td>\n",
       "                        <td id=\"T_c27ad1e2_4ea0_11eb_94d1_367dda846d75row0_col5\" class=\"data row0 col5\" >NP_Client</td>\n",
       "                        <td id=\"T_c27ad1e2_4ea0_11eb_94d1_367dda846d75row0_col6\" class=\"data row0 col6\" >University</td>\n",
       "                        <td id=\"T_c27ad1e2_4ea0_11eb_94d1_367dda846d75row0_col7\" class=\"data row0 col7\" >Married</td>\n",
       "                        <td id=\"T_c27ad1e2_4ea0_11eb_94d1_367dda846d75row0_col8\" class=\"data row0 col8\" >0.000000</td>\n",
       "                        <td id=\"T_c27ad1e2_4ea0_11eb_94d1_367dda846d75row0_col9\" class=\"data row0 col9\" >1</td>\n",
       "                        <td id=\"T_c27ad1e2_4ea0_11eb_94d1_367dda846d75row0_col10\" class=\"data row0 col10\" >36</td>\n",
       "                        <td id=\"T_c27ad1e2_4ea0_11eb_94d1_367dda846d75row0_col11\" class=\"data row0 col11\" >nan</td>\n",
       "                        <td id=\"T_c27ad1e2_4ea0_11eb_94d1_367dda846d75row0_col12\" class=\"data row0 col12\" >C</td>\n",
       "                        <td id=\"T_c27ad1e2_4ea0_11eb_94d1_367dda846d75row0_col13\" class=\"data row0 col13\" >18/04/2012</td>\n",
       "                        <td id=\"T_c27ad1e2_4ea0_11eb_94d1_367dda846d75row0_col14\" class=\"data row0 col14\" >Sales</td>\n",
       "                        <td id=\"T_c27ad1e2_4ea0_11eb_94d1_367dda846d75row0_col15\" class=\"data row0 col15\" >Owned</td>\n",
       "                        <td id=\"T_c27ad1e2_4ea0_11eb_94d1_367dda846d75row0_col16\" class=\"data row0 col16\" >1</td>\n",
       "                        <td id=\"T_c27ad1e2_4ea0_11eb_94d1_367dda846d75row0_col17\" class=\"data row0 col17\" >D</td>\n",
       "            </tr>\n",
       "            <tr>\n",
       "                        <th id=\"T_c27ad1e2_4ea0_11eb_94d1_367dda846d75level0_row1\" class=\"row_heading level0 row1\" >793</th>\n",
       "                        <td id=\"T_c27ad1e2_4ea0_11eb_94d1_367dda846d75row1_col0\" class=\"data row1 col0\" >8953</td>\n",
       "                        <td id=\"T_c27ad1e2_4ea0_11eb_94d1_367dda846d75row1_col1\" class=\"data row1 col1\" >1</td>\n",
       "                        <td id=\"T_c27ad1e2_4ea0_11eb_94d1_367dda846d75row1_col2\" class=\"data row1 col2\" >Existing Client</td>\n",
       "                        <td id=\"T_c27ad1e2_4ea0_11eb_94d1_367dda846d75row1_col3\" class=\"data row1 col3\" >07/06/1990</td>\n",
       "                        <td id=\"T_c27ad1e2_4ea0_11eb_94d1_367dda846d75row1_col4\" class=\"data row1 col4\" >20/09/2010</td>\n",
       "                        <td id=\"T_c27ad1e2_4ea0_11eb_94d1_367dda846d75row1_col5\" class=\"data row1 col5\" >P_Client</td>\n",
       "                        <td id=\"T_c27ad1e2_4ea0_11eb_94d1_367dda846d75row1_col6\" class=\"data row1 col6\" >University</td>\n",
       "                        <td id=\"T_c27ad1e2_4ea0_11eb_94d1_367dda846d75row1_col7\" class=\"data row1 col7\" >Single</td>\n",
       "                        <td id=\"T_c27ad1e2_4ea0_11eb_94d1_367dda846d75row1_col8\" class=\"data row1 col8\" >nan</td>\n",
       "                        <td id=\"T_c27ad1e2_4ea0_11eb_94d1_367dda846d75row1_col9\" class=\"data row1 col9\" >21</td>\n",
       "                        <td id=\"T_c27ad1e2_4ea0_11eb_94d1_367dda846d75row1_col10\" class=\"data row1 col10\" >33,6</td>\n",
       "                        <td id=\"T_c27ad1e2_4ea0_11eb_94d1_367dda846d75row1_col11\" class=\"data row1 col11\" >1.000000</td>\n",
       "                        <td id=\"T_c27ad1e2_4ea0_11eb_94d1_367dda846d75row1_col12\" class=\"data row1 col12\" >C</td>\n",
       "                        <td id=\"T_c27ad1e2_4ea0_11eb_94d1_367dda846d75row1_col13\" class=\"data row1 col13\" >18/04/2012</td>\n",
       "                        <td id=\"T_c27ad1e2_4ea0_11eb_94d1_367dda846d75row1_col14\" class=\"data row1 col14\" >Branch</td>\n",
       "                        <td id=\"T_c27ad1e2_4ea0_11eb_94d1_367dda846d75row1_col15\" class=\"data row1 col15\" >Owned</td>\n",
       "                        <td id=\"T_c27ad1e2_4ea0_11eb_94d1_367dda846d75row1_col16\" class=\"data row1 col16\" >2</td>\n",
       "                        <td id=\"T_c27ad1e2_4ea0_11eb_94d1_367dda846d75row1_col17\" class=\"data row1 col17\" >G</td>\n",
       "            </tr>\n",
       "            <tr>\n",
       "                        <th id=\"T_c27ad1e2_4ea0_11eb_94d1_367dda846d75level0_row2\" class=\"row_heading level0 row2\" >2349</th>\n",
       "                        <td id=\"T_c27ad1e2_4ea0_11eb_94d1_367dda846d75row2_col0\" class=\"data row2 col0\" >9399</td>\n",
       "                        <td id=\"T_c27ad1e2_4ea0_11eb_94d1_367dda846d75row2_col1\" class=\"data row2 col1\" >0</td>\n",
       "                        <td id=\"T_c27ad1e2_4ea0_11eb_94d1_367dda846d75row2_col2\" class=\"data row2 col2\" >Non Existing Client</td>\n",
       "                        <td id=\"T_c27ad1e2_4ea0_11eb_94d1_367dda846d75row2_col3\" class=\"data row2 col3\" >16/04/1968</td>\n",
       "                        <td id=\"T_c27ad1e2_4ea0_11eb_94d1_367dda846d75row2_col4\" class=\"data row2 col4\" >17/04/2012</td>\n",
       "                        <td id=\"T_c27ad1e2_4ea0_11eb_94d1_367dda846d75row2_col5\" class=\"data row2 col5\" >NP_Client</td>\n",
       "                        <td id=\"T_c27ad1e2_4ea0_11eb_94d1_367dda846d75row2_col6\" class=\"data row2 col6\" >University</td>\n",
       "                        <td id=\"T_c27ad1e2_4ea0_11eb_94d1_367dda846d75row2_col7\" class=\"data row2 col7\" >Married</td>\n",
       "                        <td id=\"T_c27ad1e2_4ea0_11eb_94d1_367dda846d75row2_col8\" class=\"data row2 col8\" >0.000000</td>\n",
       "                        <td id=\"T_c27ad1e2_4ea0_11eb_94d1_367dda846d75row2_col9\" class=\"data row2 col9\" >10</td>\n",
       "                        <td id=\"T_c27ad1e2_4ea0_11eb_94d1_367dda846d75row2_col10\" class=\"data row2 col10\" >nan</td>\n",
       "                        <td id=\"T_c27ad1e2_4ea0_11eb_94d1_367dda846d75row2_col11\" class=\"data row2 col11\" >10.000000</td>\n",
       "                        <td id=\"T_c27ad1e2_4ea0_11eb_94d1_367dda846d75row2_col12\" class=\"data row2 col12\" >C</td>\n",
       "                        <td id=\"T_c27ad1e2_4ea0_11eb_94d1_367dda846d75row2_col13\" class=\"data row2 col13\" >18/04/2012</td>\n",
       "                        <td id=\"T_c27ad1e2_4ea0_11eb_94d1_367dda846d75row2_col14\" class=\"data row2 col14\" >Sales</td>\n",
       "                        <td id=\"T_c27ad1e2_4ea0_11eb_94d1_367dda846d75row2_col15\" class=\"data row2 col15\" >Owned</td>\n",
       "                        <td id=\"T_c27ad1e2_4ea0_11eb_94d1_367dda846d75row2_col16\" class=\"data row2 col16\" >1</td>\n",
       "                        <td id=\"T_c27ad1e2_4ea0_11eb_94d1_367dda846d75row2_col17\" class=\"data row2 col17\" >B</td>\n",
       "            </tr>\n",
       "            <tr>\n",
       "                        <th id=\"T_c27ad1e2_4ea0_11eb_94d1_367dda846d75level0_row3\" class=\"row_heading level0 row3\" >2400</th>\n",
       "                        <td id=\"T_c27ad1e2_4ea0_11eb_94d1_367dda846d75row3_col0\" class=\"data row3 col0\" >8826</td>\n",
       "                        <td id=\"T_c27ad1e2_4ea0_11eb_94d1_367dda846d75row3_col1\" class=\"data row3 col1\" >0</td>\n",
       "                        <td id=\"T_c27ad1e2_4ea0_11eb_94d1_367dda846d75row3_col2\" class=\"data row3 col2\" >Existing Client</td>\n",
       "                        <td id=\"T_c27ad1e2_4ea0_11eb_94d1_367dda846d75row3_col3\" class=\"data row3 col3\" >03/01/1980</td>\n",
       "                        <td id=\"T_c27ad1e2_4ea0_11eb_94d1_367dda846d75row3_col4\" class=\"data row3 col4\" >20/03/2005</td>\n",
       "                        <td id=\"T_c27ad1e2_4ea0_11eb_94d1_367dda846d75row3_col5\" class=\"data row3 col5\" >NP_Client</td>\n",
       "                        <td id=\"T_c27ad1e2_4ea0_11eb_94d1_367dda846d75row3_col6\" class=\"data row3 col6\" >University</td>\n",
       "                        <td id=\"T_c27ad1e2_4ea0_11eb_94d1_367dda846d75row3_col7\" class=\"data row3 col7\" >Married</td>\n",
       "                        <td id=\"T_c27ad1e2_4ea0_11eb_94d1_367dda846d75row3_col8\" class=\"data row3 col8\" >1.000000</td>\n",
       "                        <td id=\"T_c27ad1e2_4ea0_11eb_94d1_367dda846d75row3_col9\" class=\"data row3 col9\" >8</td>\n",
       "                        <td id=\"T_c27ad1e2_4ea0_11eb_94d1_367dda846d75row3_col10\" class=\"data row3 col10\" >nan</td>\n",
       "                        <td id=\"T_c27ad1e2_4ea0_11eb_94d1_367dda846d75row3_col11\" class=\"data row3 col11\" >9.000000</td>\n",
       "                        <td id=\"T_c27ad1e2_4ea0_11eb_94d1_367dda846d75row3_col12\" class=\"data row3 col12\" >C</td>\n",
       "                        <td id=\"T_c27ad1e2_4ea0_11eb_94d1_367dda846d75row3_col13\" class=\"data row3 col13\" >17/04/2012</td>\n",
       "                        <td id=\"T_c27ad1e2_4ea0_11eb_94d1_367dda846d75row3_col14\" class=\"data row3 col14\" >Branch</td>\n",
       "                        <td id=\"T_c27ad1e2_4ea0_11eb_94d1_367dda846d75row3_col15\" class=\"data row3 col15\" >Owned</td>\n",
       "                        <td id=\"T_c27ad1e2_4ea0_11eb_94d1_367dda846d75row3_col16\" class=\"data row3 col16\" >1</td>\n",
       "                        <td id=\"T_c27ad1e2_4ea0_11eb_94d1_367dda846d75row3_col17\" class=\"data row3 col17\" >B</td>\n",
       "            </tr>\n",
       "            <tr>\n",
       "                        <th id=\"T_c27ad1e2_4ea0_11eb_94d1_367dda846d75level0_row4\" class=\"row_heading level0 row4\" >2484</th>\n",
       "                        <td id=\"T_c27ad1e2_4ea0_11eb_94d1_367dda846d75row4_col0\" class=\"data row4 col0\" >398</td>\n",
       "                        <td id=\"T_c27ad1e2_4ea0_11eb_94d1_367dda846d75row4_col1\" class=\"data row4 col1\" >0</td>\n",
       "                        <td id=\"T_c27ad1e2_4ea0_11eb_94d1_367dda846d75row4_col2\" class=\"data row4 col2\" >Non Existing Client</td>\n",
       "                        <td id=\"T_c27ad1e2_4ea0_11eb_94d1_367dda846d75row4_col3\" class=\"data row4 col3\" >14/05/1984</td>\n",
       "                        <td id=\"T_c27ad1e2_4ea0_11eb_94d1_367dda846d75row4_col4\" class=\"data row4 col4\" >19/05/2011</td>\n",
       "                        <td id=\"T_c27ad1e2_4ea0_11eb_94d1_367dda846d75row4_col5\" class=\"data row4 col5\" >NP_Client</td>\n",
       "                        <td id=\"T_c27ad1e2_4ea0_11eb_94d1_367dda846d75row4_col6\" class=\"data row4 col6\" >Master/PhD</td>\n",
       "                        <td id=\"T_c27ad1e2_4ea0_11eb_94d1_367dda846d75row4_col7\" class=\"data row4 col7\" >Single</td>\n",
       "                        <td id=\"T_c27ad1e2_4ea0_11eb_94d1_367dda846d75row4_col8\" class=\"data row4 col8\" >0.000000</td>\n",
       "                        <td id=\"T_c27ad1e2_4ea0_11eb_94d1_367dda846d75row4_col9\" class=\"data row4 col9\" >10</td>\n",
       "                        <td id=\"T_c27ad1e2_4ea0_11eb_94d1_367dda846d75row4_col10\" class=\"data row4 col10\" >25</td>\n",
       "                        <td id=\"T_c27ad1e2_4ea0_11eb_94d1_367dda846d75row4_col11\" class=\"data row4 col11\" >nan</td>\n",
       "                        <td id=\"T_c27ad1e2_4ea0_11eb_94d1_367dda846d75row4_col12\" class=\"data row4 col12\" >C</td>\n",
       "                        <td id=\"T_c27ad1e2_4ea0_11eb_94d1_367dda846d75row4_col13\" class=\"data row4 col13\" >26/05/2011</td>\n",
       "                        <td id=\"T_c27ad1e2_4ea0_11eb_94d1_367dda846d75row4_col14\" class=\"data row4 col14\" >Branch</td>\n",
       "                        <td id=\"T_c27ad1e2_4ea0_11eb_94d1_367dda846d75row4_col15\" class=\"data row4 col15\" >Owned</td>\n",
       "                        <td id=\"T_c27ad1e2_4ea0_11eb_94d1_367dda846d75row4_col16\" class=\"data row4 col16\" >2</td>\n",
       "                        <td id=\"T_c27ad1e2_4ea0_11eb_94d1_367dda846d75row4_col17\" class=\"data row4 col17\" >D</td>\n",
       "            </tr>\n",
       "            <tr>\n",
       "                        <th id=\"T_c27ad1e2_4ea0_11eb_94d1_367dda846d75level0_row5\" class=\"row_heading level0 row5\" >3438</th>\n",
       "                        <td id=\"T_c27ad1e2_4ea0_11eb_94d1_367dda846d75row5_col0\" class=\"data row5 col0\" >5882</td>\n",
       "                        <td id=\"T_c27ad1e2_4ea0_11eb_94d1_367dda846d75row5_col1\" class=\"data row5 col1\" >0</td>\n",
       "                        <td id=\"T_c27ad1e2_4ea0_11eb_94d1_367dda846d75row5_col2\" class=\"data row5 col2\" >Non Existing Client</td>\n",
       "                        <td id=\"T_c27ad1e2_4ea0_11eb_94d1_367dda846d75row5_col3\" class=\"data row5 col3\" >08/08/1981</td>\n",
       "                        <td id=\"T_c27ad1e2_4ea0_11eb_94d1_367dda846d75row5_col4\" class=\"data row5 col4\" >14/12/2011</td>\n",
       "                        <td id=\"T_c27ad1e2_4ea0_11eb_94d1_367dda846d75row5_col5\" class=\"data row5 col5\" >NP_Client</td>\n",
       "                        <td id=\"T_c27ad1e2_4ea0_11eb_94d1_367dda846d75row5_col6\" class=\"data row5 col6\" >University</td>\n",
       "                        <td id=\"T_c27ad1e2_4ea0_11eb_94d1_367dda846d75row5_col7\" class=\"data row5 col7\" >Married</td>\n",
       "                        <td id=\"T_c27ad1e2_4ea0_11eb_94d1_367dda846d75row5_col8\" class=\"data row5 col8\" >0.000000</td>\n",
       "                        <td id=\"T_c27ad1e2_4ea0_11eb_94d1_367dda846d75row5_col9\" class=\"data row5 col9\" >2</td>\n",
       "                        <td id=\"T_c27ad1e2_4ea0_11eb_94d1_367dda846d75row5_col10\" class=\"data row5 col10\" >108</td>\n",
       "                        <td id=\"T_c27ad1e2_4ea0_11eb_94d1_367dda846d75row5_col11\" class=\"data row5 col11\" >nan</td>\n",
       "                        <td id=\"T_c27ad1e2_4ea0_11eb_94d1_367dda846d75row5_col12\" class=\"data row5 col12\" >C</td>\n",
       "                        <td id=\"T_c27ad1e2_4ea0_11eb_94d1_367dda846d75row5_col13\" class=\"data row5 col13\" >27/12/2011</td>\n",
       "                        <td id=\"T_c27ad1e2_4ea0_11eb_94d1_367dda846d75row5_col14\" class=\"data row5 col14\" >Branch</td>\n",
       "                        <td id=\"T_c27ad1e2_4ea0_11eb_94d1_367dda846d75row5_col15\" class=\"data row5 col15\" >Owned</td>\n",
       "                        <td id=\"T_c27ad1e2_4ea0_11eb_94d1_367dda846d75row5_col16\" class=\"data row5 col16\" >1</td>\n",
       "                        <td id=\"T_c27ad1e2_4ea0_11eb_94d1_367dda846d75row5_col17\" class=\"data row5 col17\" >B</td>\n",
       "            </tr>\n",
       "            <tr>\n",
       "                        <th id=\"T_c27ad1e2_4ea0_11eb_94d1_367dda846d75level0_row6\" class=\"row_heading level0 row6\" >6307</th>\n",
       "                        <td id=\"T_c27ad1e2_4ea0_11eb_94d1_367dda846d75row6_col0\" class=\"data row6 col0\" >9588</td>\n",
       "                        <td id=\"T_c27ad1e2_4ea0_11eb_94d1_367dda846d75row6_col1\" class=\"data row6 col1\" >0</td>\n",
       "                        <td id=\"T_c27ad1e2_4ea0_11eb_94d1_367dda846d75row6_col2\" class=\"data row6 col2\" >Existing Client</td>\n",
       "                        <td id=\"T_c27ad1e2_4ea0_11eb_94d1_367dda846d75row6_col3\" class=\"data row6 col3\" >05/07/1950</td>\n",
       "                        <td id=\"T_c27ad1e2_4ea0_11eb_94d1_367dda846d75row6_col4\" class=\"data row6 col4\" >18/09/2004</td>\n",
       "                        <td id=\"T_c27ad1e2_4ea0_11eb_94d1_367dda846d75row6_col5\" class=\"data row6 col5\" >NP_Client</td>\n",
       "                        <td id=\"T_c27ad1e2_4ea0_11eb_94d1_367dda846d75row6_col6\" class=\"data row6 col6\" >Master/PhD</td>\n",
       "                        <td id=\"T_c27ad1e2_4ea0_11eb_94d1_367dda846d75row6_col7\" class=\"data row6 col7\" >Married</td>\n",
       "                        <td id=\"T_c27ad1e2_4ea0_11eb_94d1_367dda846d75row6_col8\" class=\"data row6 col8\" >nan</td>\n",
       "                        <td id=\"T_c27ad1e2_4ea0_11eb_94d1_367dda846d75row6_col9\" class=\"data row6 col9\" >10</td>\n",
       "                        <td id=\"T_c27ad1e2_4ea0_11eb_94d1_367dda846d75row6_col10\" class=\"data row6 col10\" >50</td>\n",
       "                        <td id=\"T_c27ad1e2_4ea0_11eb_94d1_367dda846d75row6_col11\" class=\"data row6 col11\" >10.000000</td>\n",
       "                        <td id=\"T_c27ad1e2_4ea0_11eb_94d1_367dda846d75row6_col12\" class=\"data row6 col12\" >C</td>\n",
       "                        <td id=\"T_c27ad1e2_4ea0_11eb_94d1_367dda846d75row6_col13\" class=\"data row6 col13\" >26/04/2012</td>\n",
       "                        <td id=\"T_c27ad1e2_4ea0_11eb_94d1_367dda846d75row6_col14\" class=\"data row6 col14\" >Sales</td>\n",
       "                        <td id=\"T_c27ad1e2_4ea0_11eb_94d1_367dda846d75row6_col15\" class=\"data row6 col15\" >Owned</td>\n",
       "                        <td id=\"T_c27ad1e2_4ea0_11eb_94d1_367dda846d75row6_col16\" class=\"data row6 col16\" >1</td>\n",
       "                        <td id=\"T_c27ad1e2_4ea0_11eb_94d1_367dda846d75row6_col17\" class=\"data row6 col17\" >B</td>\n",
       "            </tr>\n",
       "            <tr>\n",
       "                        <th id=\"T_c27ad1e2_4ea0_11eb_94d1_367dda846d75level0_row7\" class=\"row_heading level0 row7\" >6355</th>\n",
       "                        <td id=\"T_c27ad1e2_4ea0_11eb_94d1_367dda846d75row7_col0\" class=\"data row7 col0\" >8777</td>\n",
       "                        <td id=\"T_c27ad1e2_4ea0_11eb_94d1_367dda846d75row7_col1\" class=\"data row7 col1\" >0</td>\n",
       "                        <td id=\"T_c27ad1e2_4ea0_11eb_94d1_367dda846d75row7_col2\" class=\"data row7 col2\" >Existing Client</td>\n",
       "                        <td id=\"T_c27ad1e2_4ea0_11eb_94d1_367dda846d75row7_col3\" class=\"data row7 col3\" >10/09/1985</td>\n",
       "                        <td id=\"T_c27ad1e2_4ea0_11eb_94d1_367dda846d75row7_col4\" class=\"data row7 col4\" >18/09/2003</td>\n",
       "                        <td id=\"T_c27ad1e2_4ea0_11eb_94d1_367dda846d75row7_col5\" class=\"data row7 col5\" >NP_Client</td>\n",
       "                        <td id=\"T_c27ad1e2_4ea0_11eb_94d1_367dda846d75row7_col6\" class=\"data row7 col6\" >Master/PhD</td>\n",
       "                        <td id=\"T_c27ad1e2_4ea0_11eb_94d1_367dda846d75row7_col7\" class=\"data row7 col7\" >Single</td>\n",
       "                        <td id=\"T_c27ad1e2_4ea0_11eb_94d1_367dda846d75row7_col8\" class=\"data row7 col8\" >0.000000</td>\n",
       "                        <td id=\"T_c27ad1e2_4ea0_11eb_94d1_367dda846d75row7_col9\" class=\"data row7 col9\" >26</td>\n",
       "                        <td id=\"T_c27ad1e2_4ea0_11eb_94d1_367dda846d75row7_col10\" class=\"data row7 col10\" >36</td>\n",
       "                        <td id=\"T_c27ad1e2_4ea0_11eb_94d1_367dda846d75row7_col11\" class=\"data row7 col11\" >nan</td>\n",
       "                        <td id=\"T_c27ad1e2_4ea0_11eb_94d1_367dda846d75row7_col12\" class=\"data row7 col12\" >C</td>\n",
       "                        <td id=\"T_c27ad1e2_4ea0_11eb_94d1_367dda846d75row7_col13\" class=\"data row7 col13\" >19/03/2012</td>\n",
       "                        <td id=\"T_c27ad1e2_4ea0_11eb_94d1_367dda846d75row7_col14\" class=\"data row7 col14\" >Branch</td>\n",
       "                        <td id=\"T_c27ad1e2_4ea0_11eb_94d1_367dda846d75row7_col15\" class=\"data row7 col15\" >Owned</td>\n",
       "                        <td id=\"T_c27ad1e2_4ea0_11eb_94d1_367dda846d75row7_col16\" class=\"data row7 col16\" >1</td>\n",
       "                        <td id=\"T_c27ad1e2_4ea0_11eb_94d1_367dda846d75row7_col17\" class=\"data row7 col17\" >D</td>\n",
       "            </tr>\n",
       "            <tr>\n",
       "                        <th id=\"T_c27ad1e2_4ea0_11eb_94d1_367dda846d75level0_row8\" class=\"row_heading level0 row8\" >6431</th>\n",
       "                        <td id=\"T_c27ad1e2_4ea0_11eb_94d1_367dda846d75row8_col0\" class=\"data row8 col0\" >9555</td>\n",
       "                        <td id=\"T_c27ad1e2_4ea0_11eb_94d1_367dda846d75row8_col1\" class=\"data row8 col1\" >0</td>\n",
       "                        <td id=\"T_c27ad1e2_4ea0_11eb_94d1_367dda846d75row8_col2\" class=\"data row8 col2\" >Non Existing Client</td>\n",
       "                        <td id=\"T_c27ad1e2_4ea0_11eb_94d1_367dda846d75row8_col3\" class=\"data row8 col3\" >15/01/1951</td>\n",
       "                        <td id=\"T_c27ad1e2_4ea0_11eb_94d1_367dda846d75row8_col4\" class=\"data row8 col4\" >23/04/2012</td>\n",
       "                        <td id=\"T_c27ad1e2_4ea0_11eb_94d1_367dda846d75row8_col5\" class=\"data row8 col5\" >NP_Client</td>\n",
       "                        <td id=\"T_c27ad1e2_4ea0_11eb_94d1_367dda846d75row8_col6\" class=\"data row8 col6\" >University</td>\n",
       "                        <td id=\"T_c27ad1e2_4ea0_11eb_94d1_367dda846d75row8_col7\" class=\"data row8 col7\" >Married</td>\n",
       "                        <td id=\"T_c27ad1e2_4ea0_11eb_94d1_367dda846d75row8_col8\" class=\"data row8 col8\" >0.000000</td>\n",
       "                        <td id=\"T_c27ad1e2_4ea0_11eb_94d1_367dda846d75row8_col9\" class=\"data row8 col9\" >11</td>\n",
       "                        <td id=\"T_c27ad1e2_4ea0_11eb_94d1_367dda846d75row8_col10\" class=\"data row8 col10\" >nan</td>\n",
       "                        <td id=\"T_c27ad1e2_4ea0_11eb_94d1_367dda846d75row8_col11\" class=\"data row8 col11\" >0.000000</td>\n",
       "                        <td id=\"T_c27ad1e2_4ea0_11eb_94d1_367dda846d75row8_col12\" class=\"data row8 col12\" >C</td>\n",
       "                        <td id=\"T_c27ad1e2_4ea0_11eb_94d1_367dda846d75row8_col13\" class=\"data row8 col13\" >26/04/2012</td>\n",
       "                        <td id=\"T_c27ad1e2_4ea0_11eb_94d1_367dda846d75row8_col14\" class=\"data row8 col14\" >Branch</td>\n",
       "                        <td id=\"T_c27ad1e2_4ea0_11eb_94d1_367dda846d75row8_col15\" class=\"data row8 col15\" >Old rent</td>\n",
       "                        <td id=\"T_c27ad1e2_4ea0_11eb_94d1_367dda846d75row8_col16\" class=\"data row8 col16\" >2</td>\n",
       "                        <td id=\"T_c27ad1e2_4ea0_11eb_94d1_367dda846d75row8_col17\" class=\"data row8 col17\" >B</td>\n",
       "            </tr>\n",
       "    </tbody></table>"
      ],
      "text/plain": [
       "<pandas.io.formats.style.Styler at 0x7fef14f265b0>"
      ]
     },
     "execution_count": 18,
     "metadata": {},
     "output_type": "execute_result"
    }
   ],
   "source": [
    "df[df.isnull().any(axis=\"columns\")].style.highlight_null()"
   ]
  },
  {
   "cell_type": "markdown",
   "metadata": {},
   "source": [
    "#### 2.4 Les features catégorielles sont des `str`\n",
    "\n",
    "Il faut indiquer à pandas le type des variables via l'option `dtype` de `read_csv`."
   ]
  },
  {
   "cell_type": "code",
   "execution_count": 19,
   "metadata": {
    "ExecuteTime": {
     "end_time": "2020-10-09T14:04:14.858588Z",
     "start_time": "2020-10-09T14:04:14.854193Z"
    },
    "scrolled": true
   },
   "outputs": [
    {
     "data": {
      "text/plain": [
       "str"
      ]
     },
     "execution_count": 19,
     "metadata": {},
     "output_type": "execute_result"
    }
   ],
   "source": [
    "type(df.loc[0, 'Prod_Sub_Category'])"
   ]
  },
  {
   "cell_type": "code",
   "execution_count": 20,
   "metadata": {
    "ExecuteTime": {
     "end_time": "2020-10-09T14:04:14.993166Z",
     "start_time": "2020-10-09T14:04:14.989726Z"
    }
   },
   "outputs": [
    {
     "data": {
      "text/plain": [
       "array(['C', 'G', 'P'], dtype=object)"
      ]
     },
     "execution_count": 20,
     "metadata": {},
     "output_type": "execute_result"
    }
   ],
   "source": [
    "df['Prod_Sub_Category'].unique()"
   ]
  },
  {
   "cell_type": "markdown",
   "metadata": {},
   "source": [
    "#### 2.5 Le revenu net importé comme une chaîne de caractère\n",
    "\n",
    "Le problème est dû au fait que le séparateur décimal est en notation européenne (`,`). Il faut le spécifier à pandas en utilisant l'option `decimal` de `read_csv`. "
   ]
  },
  {
   "cell_type": "code",
   "execution_count": 21,
   "metadata": {
    "ExecuteTime": {
     "end_time": "2020-10-09T14:04:16.675624Z",
     "start_time": "2020-10-09T14:04:16.671428Z"
    },
    "scrolled": true
   },
   "outputs": [
    {
     "data": {
      "text/plain": [
       "str"
      ]
     },
     "execution_count": 21,
     "metadata": {},
     "output_type": "execute_result"
    }
   ],
   "source": [
    "type(df.loc[0, 'Net_Annual_Income'])"
   ]
  },
  {
   "cell_type": "code",
   "execution_count": 22,
   "metadata": {
    "ExecuteTime": {
     "end_time": "2020-10-09T14:04:16.807493Z",
     "start_time": "2020-10-09T14:04:16.802850Z"
    }
   },
   "outputs": [
    {
     "data": {
      "text/plain": [
       "0        36\n",
       "1        36\n",
       "2        18\n",
       "3        36\n",
       "4        36\n",
       "5    59,916\n",
       "6        36\n",
       "7        60\n",
       "8        36\n",
       "9        36\n",
       "Name: Net_Annual_Income, dtype: object"
      ]
     },
     "execution_count": 22,
     "metadata": {},
     "output_type": "execute_result"
    }
   ],
   "source": [
    "df['Net_Annual_Income'].head(n=10)"
   ]
  },
  {
   "cell_type": "markdown",
   "metadata": {},
   "source": [
    "# 3 Une importation correcte des données\n",
    "\n",
    "**Remarque : sur les colonnes contenant des entiers** Il faudrait les définir comme `int` malheureusement (pour l'instant) `pandas` ne supporte pas de colonnes quand elles contiennent des valeurs manquantes"
   ]
  },
  {
   "cell_type": "markdown",
   "metadata": {},
   "source": [
    "Pour utiliser l'option `dtype` de `read_csv`, il faut définir un dictionnaire avec le type de chaque feature"
   ]
  },
  {
   "cell_type": "code",
   "execution_count": 23,
   "metadata": {
    "ExecuteTime": {
     "end_time": "2020-10-09T14:04:22.604388Z",
     "start_time": "2020-10-09T14:04:22.587684Z"
    }
   },
   "outputs": [],
   "source": [
    "gro_dtypes = {\n",
    "    'Years_At_Residence': np.int,\n",
    "    'Net_Annual_Income' : np.float,\n",
    "    'Years_At_Business': np.float,\n",
    "    'Number_Of_Dependant': np.float,\n",
    "    'Nb_Of_Products': np.int,\n",
    "    'Customer_Type': 'category',\n",
    "    'P_Client': 'category',\n",
    "    'Educational_Level': 'category',\n",
    "    'Marital_Status': 'category',\n",
    "    'Prod_Sub_Category': 'category',\n",
    "    'Source': 'category',\n",
    "    'Type_Of_Residence': 'category',\n",
    "    'Prod_Category': 'category',\n",
    "}\n",
    "\n",
    "df = pd.read_csv(\n",
    "    # Filename\n",
    "    \"gro.csv\",\n",
    "    # Column separator\n",
    "    sep=';',\n",
    "    # Decimal separator\n",
    "    decimal=',',\n",
    "    # Range of the columns to keep (remove the last three ones)\n",
    "    usecols=range(19),\n",
    "    # Which columns should be parsed as dates\n",
    "    parse_dates=['BirthDate', 'Customer_Open_Date', 'Prod_Decision_Date', \n",
    "                 'Prod_Closed_Date'],\n",
    "    # Specify some dtypes\n",
    "    dtype=gro_dtypes\n",
    ")"
   ]
  },
  {
   "cell_type": "code",
   "execution_count": 24,
   "metadata": {
    "ExecuteTime": {
     "end_time": "2020-10-09T14:04:22.784765Z",
     "start_time": "2020-10-09T14:04:22.780486Z"
    }
   },
   "outputs": [
    {
     "name": "stdout",
     "output_type": "stream",
     "text": [
      "<class 'pandas.core.frame.DataFrame'>\n",
      "RangeIndex: 6725 entries, 0 to 6724\n",
      "Data columns (total 19 columns):\n",
      " #   Column               Non-Null Count  Dtype         \n",
      "---  ------               --------------  -----         \n",
      " 0   Id_Customer          6725 non-null   int64         \n",
      " 1   Y                    6725 non-null   int64         \n",
      " 2   Customer_Type        6725 non-null   category      \n",
      " 3   BirthDate            6725 non-null   datetime64[ns]\n",
      " 4   Customer_Open_Date   6725 non-null   datetime64[ns]\n",
      " 5   P_Client             6725 non-null   category      \n",
      " 6   Educational_Level    6725 non-null   category      \n",
      " 7   Marital_Status       6725 non-null   category      \n",
      " 8   Number_Of_Dependant  6723 non-null   float64       \n",
      " 9   Years_At_Residence   6725 non-null   int64         \n",
      " 10  Net_Annual_Income    6722 non-null   float64       \n",
      " 11  Years_At_Business    6721 non-null   float64       \n",
      " 12  Prod_Sub_Category    6725 non-null   category      \n",
      " 13  Prod_Decision_Date   6725 non-null   datetime64[ns]\n",
      " 14  Source               6725 non-null   category      \n",
      " 15  Type_Of_Residence    6725 non-null   category      \n",
      " 16  Nb_Of_Products       6725 non-null   int64         \n",
      " 17  Prod_Closed_Date     1434 non-null   datetime64[ns]\n",
      " 18  Prod_Category        6725 non-null   category      \n",
      "dtypes: category(8), datetime64[ns](4), float64(3), int64(4)\n",
      "memory usage: 632.1 KB\n"
     ]
    }
   ],
   "source": [
    "df.info()"
   ]
  },
  {
   "cell_type": "code",
   "execution_count": 25,
   "metadata": {
    "ExecuteTime": {
     "end_time": "2020-10-09T14:04:22.934221Z",
     "start_time": "2020-10-09T14:04:22.930458Z"
    }
   },
   "outputs": [
    {
     "data": {
      "text/plain": [
       "0    C\n",
       "1    C\n",
       "2    C\n",
       "3    C\n",
       "4    C\n",
       "Name: Prod_Sub_Category, dtype: category\n",
       "Categories (3, object): ['C', 'G', 'P']"
      ]
     },
     "execution_count": 25,
     "metadata": {},
     "output_type": "execute_result"
    }
   ],
   "source": [
    "df['Prod_Sub_Category'].head()"
   ]
  },
  {
   "cell_type": "code",
   "execution_count": 26,
   "metadata": {
    "ExecuteTime": {
     "end_time": "2020-10-09T14:04:23.100398Z",
     "start_time": "2020-10-09T14:04:23.096031Z"
    }
   },
   "outputs": [
    {
     "data": {
      "text/plain": [
       "0   1971-02-09\n",
       "1   1977-07-08\n",
       "2   1974-06-13\n",
       "3   1973-07-11\n",
       "4   1982-08-07\n",
       "Name: BirthDate, dtype: datetime64[ns]"
      ]
     },
     "execution_count": 26,
     "metadata": {},
     "output_type": "execute_result"
    }
   ],
   "source": [
    "df['BirthDate'].head()"
   ]
  },
  {
   "cell_type": "code",
   "execution_count": 27,
   "metadata": {
    "ExecuteTime": {
     "end_time": "2020-10-09T14:04:23.534707Z",
     "start_time": "2020-10-09T14:04:23.531699Z"
    }
   },
   "outputs": [
    {
     "data": {
      "text/plain": [
       "Timestamp('1971-02-09 00:00:00')"
      ]
     },
     "execution_count": 27,
     "metadata": {},
     "output_type": "execute_result"
    }
   ],
   "source": [
    "df.loc[0, 'BirthDate']"
   ]
  },
  {
   "cell_type": "markdown",
   "metadata": {},
   "source": [
    "On enlève (pour l'instant) `Prod_Closed_Date` (qui contient trop de valeurs manquantes)"
   ]
  },
  {
   "cell_type": "code",
   "execution_count": 28,
   "metadata": {
    "ExecuteTime": {
     "end_time": "2020-10-09T14:04:23.752343Z",
     "start_time": "2020-10-09T14:04:23.712963Z"
    }
   },
   "outputs": [
    {
     "data": {
      "text/plain": [
       "(6725, 18)"
      ]
     },
     "execution_count": 28,
     "metadata": {},
     "output_type": "execute_result"
    }
   ],
   "source": [
    "prod_closed_date = df.pop('Prod_Closed_Date')\n",
    "df.shape"
   ]
  },
  {
   "cell_type": "markdown",
   "metadata": {},
   "source": [
    "On finit par enlever (pour l'instant) les lignes qui contiennent des valeurs manquantes"
   ]
  },
  {
   "cell_type": "code",
   "execution_count": 29,
   "metadata": {
    "ExecuteTime": {
     "end_time": "2020-10-09T14:04:23.879605Z",
     "start_time": "2020-10-09T14:04:23.870022Z"
    },
    "scrolled": true
   },
   "outputs": [
    {
     "name": "stdout",
     "output_type": "stream",
     "text": [
      "(6725, 18)\n",
      "(6716, 18)\n"
     ]
    }
   ],
   "source": [
    "print(df.shape)\n",
    "df = df.dropna()\n",
    "print(df.shape)"
   ]
  },
  {
   "cell_type": "code",
   "execution_count": 30,
   "metadata": {
    "ExecuteTime": {
     "end_time": "2020-10-09T14:04:28.151745Z",
     "start_time": "2020-10-09T14:04:28.094994Z"
    }
   },
   "outputs": [],
   "source": [
    "# Now we save the cleaned dataset into a CSV file\n",
    "df.to_csv(\"gro_cleaned.csv\")"
   ]
  },
  {
   "cell_type": "code",
   "execution_count": 31,
   "metadata": {},
   "outputs": [
    {
     "name": "stdout",
     "output_type": "stream",
     "text": [
      "-rw-r--r--@ 1 genevieverobin  staff   850609  4 jan 16:23 gro_cleaned.csv\n",
      "-rw-r--r--@ 1 genevieverobin  staff   648273  9 déc 10:27 gro_cleaned.pkl\n",
      "-rw-r--r--@ 1 genevieverobin  staff  1864385  9 déc 10:27 gro_prep_array.pkl\n",
      "-rw-r--r--@ 1 genevieverobin  staff  1917679  9 déc 10:27 gro_prep_df.pkl\n"
     ]
    }
   ],
   "source": [
    "ls -al gro_*"
   ]
  },
  {
   "cell_type": "markdown",
   "metadata": {},
   "source": [
    "### Commentaire sur les formats des fichiers de sauvegarde de données\n",
    "\n",
    "\n",
    "- `csv` est utilisé pour les \"petits\" de données (qqes MB)\n",
    "- `pickle` crée des fichiers plus compressé et plus rapide (jusqu'à 4GB). C'est la méthode standard en `Python`\n",
    "- d'autres solutions existent : `feather`, `parquet`, etc"
   ]
  },
  {
   "cell_type": "code",
   "execution_count": 32,
   "metadata": {},
   "outputs": [],
   "source": [
    "df.to_pickle(\"gro_cleaned.pkl\")"
   ]
  },
  {
   "cell_type": "code",
   "execution_count": 33,
   "metadata": {},
   "outputs": [
    {
     "data": {
      "text/plain": [
       "Int64Index([   0,    1,    2,    3,    4,    5,    6,    7,    8,    9,\n",
       "            ...\n",
       "            6715, 6716, 6717, 6718, 6719, 6720, 6721, 6722, 6723, 6724],\n",
       "           dtype='int64', length=6716)"
      ]
     },
     "execution_count": 33,
     "metadata": {},
     "output_type": "execute_result"
    }
   ],
   "source": [
    "df.index"
   ]
  },
  {
   "cell_type": "markdown",
   "metadata": {},
   "source": [
    "Vous pouvez ensuite charger les données avec la fonction `read_pickle`"
   ]
  },
  {
   "cell_type": "code",
   "execution_count": 34,
   "metadata": {},
   "outputs": [
    {
     "data": {
      "text/html": [
       "<div>\n",
       "<style scoped>\n",
       "    .dataframe tbody tr th:only-of-type {\n",
       "        vertical-align: middle;\n",
       "    }\n",
       "\n",
       "    .dataframe tbody tr th {\n",
       "        vertical-align: top;\n",
       "    }\n",
       "\n",
       "    .dataframe thead th {\n",
       "        text-align: right;\n",
       "    }\n",
       "</style>\n",
       "<table border=\"1\" class=\"dataframe\">\n",
       "  <thead>\n",
       "    <tr style=\"text-align: right;\">\n",
       "      <th></th>\n",
       "      <th>Id_Customer</th>\n",
       "      <th>Y</th>\n",
       "      <th>Customer_Type</th>\n",
       "      <th>BirthDate</th>\n",
       "      <th>Customer_Open_Date</th>\n",
       "      <th>P_Client</th>\n",
       "      <th>Educational_Level</th>\n",
       "      <th>Marital_Status</th>\n",
       "      <th>Number_Of_Dependant</th>\n",
       "      <th>Years_At_Residence</th>\n",
       "      <th>Net_Annual_Income</th>\n",
       "      <th>Years_At_Business</th>\n",
       "      <th>Prod_Sub_Category</th>\n",
       "      <th>Prod_Decision_Date</th>\n",
       "      <th>Source</th>\n",
       "      <th>Type_Of_Residence</th>\n",
       "      <th>Nb_Of_Products</th>\n",
       "      <th>Prod_Category</th>\n",
       "    </tr>\n",
       "  </thead>\n",
       "  <tbody>\n",
       "    <tr>\n",
       "      <th>0</th>\n",
       "      <td>6714</td>\n",
       "      <td>0</td>\n",
       "      <td>Non Existing Client</td>\n",
       "      <td>1971-02-09</td>\n",
       "      <td>2012-01-18</td>\n",
       "      <td>NP_Client</td>\n",
       "      <td>University</td>\n",
       "      <td>Married</td>\n",
       "      <td>3.0</td>\n",
       "      <td>10</td>\n",
       "      <td>36.0</td>\n",
       "      <td>3.0</td>\n",
       "      <td>C</td>\n",
       "      <td>2012-01-23</td>\n",
       "      <td>Sales</td>\n",
       "      <td>Owned</td>\n",
       "      <td>1</td>\n",
       "      <td>B</td>\n",
       "    </tr>\n",
       "    <tr>\n",
       "      <th>1</th>\n",
       "      <td>7440</td>\n",
       "      <td>0</td>\n",
       "      <td>Non Existing Client</td>\n",
       "      <td>1977-07-08</td>\n",
       "      <td>2012-02-13</td>\n",
       "      <td>NP_Client</td>\n",
       "      <td>University</td>\n",
       "      <td>Married</td>\n",
       "      <td>3.0</td>\n",
       "      <td>1</td>\n",
       "      <td>36.0</td>\n",
       "      <td>1.0</td>\n",
       "      <td>C</td>\n",
       "      <td>2012-02-14</td>\n",
       "      <td>Sales</td>\n",
       "      <td>Owned</td>\n",
       "      <td>1</td>\n",
       "      <td>B</td>\n",
       "    </tr>\n",
       "    <tr>\n",
       "      <th>2</th>\n",
       "      <td>573</td>\n",
       "      <td>0</td>\n",
       "      <td>Existing Client</td>\n",
       "      <td>1974-06-13</td>\n",
       "      <td>2009-04-02</td>\n",
       "      <td>P_Client</td>\n",
       "      <td>University</td>\n",
       "      <td>Married</td>\n",
       "      <td>0.0</td>\n",
       "      <td>12</td>\n",
       "      <td>18.0</td>\n",
       "      <td>2.0</td>\n",
       "      <td>C</td>\n",
       "      <td>2011-06-30</td>\n",
       "      <td>Sales</td>\n",
       "      <td>Parents</td>\n",
       "      <td>1</td>\n",
       "      <td>G</td>\n",
       "    </tr>\n",
       "    <tr>\n",
       "      <th>3</th>\n",
       "      <td>9194</td>\n",
       "      <td>0</td>\n",
       "      <td>Non Existing Client</td>\n",
       "      <td>1973-07-11</td>\n",
       "      <td>2012-03-04</td>\n",
       "      <td>NP_Client</td>\n",
       "      <td>University</td>\n",
       "      <td>Married</td>\n",
       "      <td>2.0</td>\n",
       "      <td>10</td>\n",
       "      <td>36.0</td>\n",
       "      <td>1.0</td>\n",
       "      <td>C</td>\n",
       "      <td>2012-04-04</td>\n",
       "      <td>Sales</td>\n",
       "      <td>Owned</td>\n",
       "      <td>1</td>\n",
       "      <td>B</td>\n",
       "    </tr>\n",
       "    <tr>\n",
       "      <th>4</th>\n",
       "      <td>3016</td>\n",
       "      <td>1</td>\n",
       "      <td>Existing Client</td>\n",
       "      <td>1982-08-07</td>\n",
       "      <td>2011-08-25</td>\n",
       "      <td>NP_Client</td>\n",
       "      <td>University</td>\n",
       "      <td>Married</td>\n",
       "      <td>3.0</td>\n",
       "      <td>3</td>\n",
       "      <td>36.0</td>\n",
       "      <td>1.0</td>\n",
       "      <td>C</td>\n",
       "      <td>2011-07-09</td>\n",
       "      <td>Sales</td>\n",
       "      <td>New rent</td>\n",
       "      <td>1</td>\n",
       "      <td>L</td>\n",
       "    </tr>\n",
       "  </tbody>\n",
       "</table>\n",
       "</div>"
      ],
      "text/plain": [
       "   Id_Customer  Y        Customer_Type  BirthDate Customer_Open_Date  \\\n",
       "0         6714  0  Non Existing Client 1971-02-09         2012-01-18   \n",
       "1         7440  0  Non Existing Client 1977-07-08         2012-02-13   \n",
       "2          573  0      Existing Client 1974-06-13         2009-04-02   \n",
       "3         9194  0  Non Existing Client 1973-07-11         2012-03-04   \n",
       "4         3016  1      Existing Client 1982-08-07         2011-08-25   \n",
       "\n",
       "    P_Client Educational_Level Marital_Status  Number_Of_Dependant  \\\n",
       "0  NP_Client        University        Married                  3.0   \n",
       "1  NP_Client        University        Married                  3.0   \n",
       "2   P_Client        University        Married                  0.0   \n",
       "3  NP_Client        University        Married                  2.0   \n",
       "4  NP_Client        University        Married                  3.0   \n",
       "\n",
       "   Years_At_Residence  Net_Annual_Income  Years_At_Business Prod_Sub_Category  \\\n",
       "0                  10               36.0                3.0                 C   \n",
       "1                   1               36.0                1.0                 C   \n",
       "2                  12               18.0                2.0                 C   \n",
       "3                  10               36.0                1.0                 C   \n",
       "4                   3               36.0                1.0                 C   \n",
       "\n",
       "  Prod_Decision_Date Source Type_Of_Residence  Nb_Of_Products Prod_Category  \n",
       "0         2012-01-23  Sales             Owned               1             B  \n",
       "1         2012-02-14  Sales             Owned               1             B  \n",
       "2         2011-06-30  Sales           Parents               1             G  \n",
       "3         2012-04-04  Sales             Owned               1             B  \n",
       "4         2011-07-09  Sales          New rent               1             L  "
      ]
     },
     "execution_count": 34,
     "metadata": {},
     "output_type": "execute_result"
    }
   ],
   "source": [
    "df = pd.read_pickle(\"gro_cleaned.pkl\")\n",
    "df.head()"
   ]
  },
  {
   "cell_type": "code",
   "execution_count": 35,
   "metadata": {},
   "outputs": [
    {
     "name": "stdout",
     "output_type": "stream",
     "text": [
      "-rw-r--r--@ 1 genevieverobin  staff   831K  4 jan 16:23 gro_cleaned.csv\n",
      "-rw-r--r--@ 1 genevieverobin  staff   633K  4 jan 16:23 gro_cleaned.pkl\n"
     ]
    }
   ],
   "source": [
    "ls -alh gro_cleaned*"
   ]
  },
  {
   "cell_type": "markdown",
   "metadata": {},
   "source": [
    "## La colonne du revenu net est \"bizarre\""
   ]
  },
  {
   "cell_type": "code",
   "execution_count": 42,
   "metadata": {},
   "outputs": [
    {
     "data": {
      "text/plain": [
       "<seaborn.axisgrid.FacetGrid at 0x7fef16a1ebb0>"
      ]
     },
     "execution_count": 42,
     "metadata": {},
     "output_type": "execute_result"
    },
    {
     "data": {
      "text/plain": [
       "<Figure size 864x432 with 0 Axes>"
      ]
     },
     "metadata": {},
     "output_type": "display_data"
    },
    {
     "data": {
      "image/png": "[encoded data removed]",
      "text/plain": [
       "<Figure size 360x360 with 1 Axes>"
      ]
     },
     "metadata": {
      "needs_background": "light"
     },
     "output_type": "display_data"
    }
   ],
   "source": [
    "plt.figure(figsize=(12, 6))\n",
    "sns.displot(df['Net_Annual_Income'])\n"
   ]
  },
  {
   "cell_type": "code",
   "execution_count": 43,
   "metadata": {
    "ExecuteTime": {
     "end_time": "2020-10-09T14:04:28.544750Z",
     "start_time": "2020-10-09T14:04:28.538671Z"
    },
    "scrolled": true
   },
   "outputs": [
    {
     "data": {
      "text/plain": [
       "count     6716.000000\n",
       "mean        60.954422\n",
       "std        235.973454\n",
       "min          0.001000\n",
       "25%         20.000000\n",
       "50%         36.000000\n",
       "75%         36.000000\n",
       "max      10000.000000\n",
       "Name: Net_Annual_Income, dtype: float64"
      ]
     },
     "execution_count": 43,
     "metadata": {},
     "output_type": "execute_result"
    }
   ],
   "source": [
    "income = df['Net_Annual_Income']\n",
    "income.describe()"
   ]
  },
  {
   "cell_type": "code",
   "execution_count": 44,
   "metadata": {},
   "outputs": [
    {
     "data": {
      "text/plain": [
       "(6687, 29)"
      ]
     },
     "execution_count": 44,
     "metadata": {},
     "output_type": "execute_result"
    }
   ],
   "source": [
    "(income <= 1000).sum(), (income > 1000).sum()"
   ]
  },
  {
   "cell_type": "markdown",
   "metadata": {},
   "source": [
    "La plupart des valeurs sont plus petites que 1000 mais certaines sont beaucoup plus grandes..."
   ]
  },
  {
   "cell_type": "markdown",
   "metadata": {},
   "source": [
    "Regardons pour les revenus inférieurs à 100k"
   ]
  },
  {
   "cell_type": "code",
   "execution_count": 45,
   "metadata": {},
   "outputs": [
    {
     "data": {
      "text/plain": [
       "<seaborn.axisgrid.FacetGrid at 0x7fef11e3e970>"
      ]
     },
     "execution_count": 45,
     "metadata": {},
     "output_type": "execute_result"
    },
    {
     "data": {
      "text/plain": [
       "<Figure size 864x432 with 0 Axes>"
      ]
     },
     "metadata": {},
     "output_type": "display_data"
    },
    {
     "data": {
      "image/png": "[encoded data removed]",
      "text/plain": [
       "<Figure size 360x360 with 1 Axes>"
      ]
     },
     "metadata": {
      "needs_background": "light"
     },
     "output_type": "display_data"
    }
   ],
   "source": [
    "plt.figure(figsize=(12, 6))\n",
    "sns.displot(df.loc[df['Net_Annual_Income']<=1000.]['Net_Annual_Income'])\n",
    "\n"
   ]
  },
  {
   "cell_type": "markdown",
   "metadata": {},
   "source": [
    "On choisit de ne conserver que les données pour lesquelles le revenu est dans [10, 200]. On pourrait également remplacer les valeurs dépassant 200 par 200."
   ]
  },
  {
   "cell_type": "code",
   "execution_count": 47,
   "metadata": {
    "ExecuteTime": {
     "end_time": "2020-10-08T17:12:30.954883Z",
     "start_time": "2020-10-08T17:12:30.784397Z"
    }
   },
   "outputs": [
    {
     "data": {
      "text/plain": [
       "<seaborn.axisgrid.FacetGrid at 0x7fef006b6d00>"
      ]
     },
     "execution_count": 47,
     "metadata": {},
     "output_type": "execute_result"
    },
    {
     "data": {
      "image/png": "[encoded data removed]",
      "text/plain": [
       "<Figure size 360x360 with 1 Axes>"
      ]
     },
     "metadata": {
      "needs_background": "light"
     },
     "output_type": "display_data"
    }
   ],
   "source": [
    "df = df[(df['Net_Annual_Income'] >= 10) & (df['Net_Annual_Income'] <= 200)]\n",
    "\n",
    "sns.displot(df['Net_Annual_Income'])"
   ]
  },
  {
   "cell_type": "markdown",
   "metadata": {},
   "source": [
    "# Un peu de visualisation avec `pandas` + `seaborn`"
   ]
  },
  {
   "cell_type": "code",
   "execution_count": 48,
   "metadata": {
    "ExecuteTime": {
     "end_time": "2020-10-08T17:12:31.413639Z",
     "start_time": "2020-10-08T17:12:30.964819Z"
    }
   },
   "outputs": [
    {
     "data": {
      "text/plain": [
       "<AxesSubplot:xlabel='Educational_Level', ylabel='Net_Annual_Income'>"
      ]
     },
     "execution_count": 48,
     "metadata": {},
     "output_type": "execute_result"
    },
    {
     "data": {
      "image/png": "[encoded data removed]",
      "text/plain": [
       "<Figure size 576x360 with 1 Axes>"
      ]
     },
     "metadata": {
      "needs_background": "light"
     },
     "output_type": "display_data"
    }
   ],
   "source": [
    "plt.figure(figsize=(8, 5))\n",
    "sns.stripplot(x='Educational_Level', y='Net_Annual_Income', hue='Y', \n",
    "              jitter=True, data=df)"
   ]
  },
  {
   "cell_type": "code",
   "execution_count": 49,
   "metadata": {
    "ExecuteTime": {
     "end_time": "2020-10-08T17:12:31.684640Z",
     "start_time": "2020-10-08T17:12:31.415359Z"
    }
   },
   "outputs": [
    {
     "data": {
      "text/plain": [
       "<AxesSubplot:xlabel='Educational_Level', ylabel='Net_Annual_Income'>"
      ]
     },
     "execution_count": 49,
     "metadata": {},
     "output_type": "execute_result"
    },
    {
     "data": {
      "image/png": "[encoded data removed]",
      "text/plain": [
       "<Figure size 864x432 with 1 Axes>"
      ]
     },
     "metadata": {
      "needs_background": "light"
     },
     "output_type": "display_data"
    }
   ],
   "source": [
    "plt.figure(figsize=(12, 6))\n",
    "sns.boxplot(x='Educational_Level', y='Net_Annual_Income', \n",
    "            hue='Y', data=df)"
   ]
  },
  {
   "cell_type": "code",
   "execution_count": 50,
   "metadata": {
    "ExecuteTime": {
     "end_time": "2020-10-08T17:12:31.902779Z",
     "start_time": "2020-10-08T17:12:31.686197Z"
    }
   },
   "outputs": [
    {
     "data": {
      "text/plain": [
       "<AxesSubplot:xlabel='Marital_Status', ylabel='Net_Annual_Income'>"
      ]
     },
     "execution_count": 50,
     "metadata": {},
     "output_type": "execute_result"
    },
    {
     "data": {
      "image/png": "[encoded data removed]",
      "text/plain": [
       "<Figure size 864x432 with 1 Axes>"
      ]
     },
     "metadata": {
      "needs_background": "light"
     },
     "output_type": "display_data"
    }
   ],
   "source": [
    "plt.figure(figsize=(12, 6))\n",
    "sns.violinplot(x='Marital_Status', y='Net_Annual_Income', \n",
    "               hue='Y', split=True, data=df)"
   ]
  },
  {
   "cell_type": "code",
   "execution_count": 51,
   "metadata": {
    "ExecuteTime": {
     "end_time": "2020-10-08T17:12:32.036124Z",
     "start_time": "2020-10-08T17:12:31.904932Z"
    }
   },
   "outputs": [
    {
     "data": {
      "text/plain": [
       "<AxesSubplot:xlabel='Marital_Status', ylabel='count'>"
      ]
     },
     "execution_count": 51,
     "metadata": {},
     "output_type": "execute_result"
    },
    {
     "data": {
      "image/png": "[encoded data removed]",
      "text/plain": [
       "<Figure size 720x360 with 1 Axes>"
      ]
     },
     "metadata": {
      "needs_background": "light"
     },
     "output_type": "display_data"
    }
   ],
   "source": [
    "plt.figure(figsize=(10, 5))\n",
    "sns.countplot(x='Marital_Status', hue='Y', data=df)"
   ]
  },
  {
   "cell_type": "code",
   "execution_count": 52,
   "metadata": {
    "ExecuteTime": {
     "end_time": "2020-10-08T17:12:33.282003Z",
     "start_time": "2020-10-08T17:12:32.037786Z"
    }
   },
   "outputs": [
    {
     "data": {
      "image/png": "[encoded data removed]",
      "text/plain": [
       "<Figure size 1152x1152 with 12 Axes>"
      ]
     },
     "metadata": {
      "needs_background": "light"
     },
     "output_type": "display_data"
    }
   ],
   "source": [
    "fig, axes = plt.subplots(nrows=4, ncols=3, figsize=(16, 16))\n",
    "columns = ['Customer_Type', 'P_Client', 'Educational_Level', \n",
    "           'Number_Of_Dependant', 'Marital_Status', 'Prod_Sub_Category',\n",
    "           'Source', 'Type_Of_Residence', 'Nb_Of_Products', \n",
    "           'Prod_Category', 'Y']\n",
    "\n",
    "for i, colname in enumerate(columns):\n",
    "    sns.countplot(x=colname, data=df, ax=fig.axes[i])\n",
    "plt.tight_layout()"
   ]
  },
  {
   "cell_type": "markdown",
   "metadata": {},
   "source": [
    "# Préparation finale des données"
   ]
  },
  {
   "cell_type": "markdown",
   "metadata": {},
   "source": [
    "On prépare des listes avec les noms des features catégorielles, dates, et continues"
   ]
  },
  {
   "cell_type": "code",
   "execution_count": 53,
   "metadata": {
    "ExecuteTime": {
     "end_time": "2020-10-08T17:12:33.287735Z",
     "start_time": "2020-10-08T17:12:33.283804Z"
    }
   },
   "outputs": [],
   "source": [
    "\n",
    "cnt_featnames = [\n",
    "    'Years_At_Residence',\n",
    "    'Net_Annual_Income',\n",
    "    'Years_At_Business',\n",
    "    'Number_Of_Dependant'\n",
    "]\n",
    "\n",
    "cat_featnames = [\n",
    "    'Customer_Type',\n",
    "    'P_Client',\n",
    "    'Educational_Level',\n",
    "    'Marital_Status',\n",
    "    'Prod_Sub_Category',\n",
    "    'Source',\n",
    "    'Type_Of_Residence',\n",
    "    'Prod_Category',\n",
    "    'Nb_Of_Products'\n",
    "]\n",
    "\n",
    "date_featnames = [\n",
    "    'BirthDate',\n",
    "    'Customer_Open_Date',\n",
    "    'Prod_Decision_Date'\n",
    "    #'Prod_Closed_Date'\n",
    "]"
   ]
  },
  {
   "cell_type": "markdown",
   "metadata": {},
   "source": [
    "## On crée la matrice de design avec sklearn"
   ]
  },
  {
   "cell_type": "markdown",
   "metadata": {},
   "source": [
    "Il faut \n",
    "- transformer les données date en âge, \n",
    "- transformer les features catégorielles en tableaux disjonctifs et \n",
    "- standardiser les features continues."
   ]
  },
  {
   "cell_type": "markdown",
   "metadata": {},
   "source": [
    "Attention à bien comprendre le code qui suit, c'est la bonne pratique pour préparer la matrice de design"
   ]
  },
  {
   "cell_type": "code",
   "execution_count": 55,
   "metadata": {
    "ExecuteTime": {
     "end_time": "2020-10-08T17:12:33.555686Z",
     "start_time": "2020-10-08T17:12:33.425495Z"
    },
    "scrolled": true
   },
   "outputs": [],
   "source": [
    "from sklearn.base import TransformerMixin, BaseEstimator\n",
    "from sklearn.preprocessing import StandardScaler, OneHotEncoder\n",
    "from sklearn.compose import ColumnTransformer\n",
    "from sklearn.pipeline import Pipeline\n",
    "from pandas import Timestamp\n",
    "\n",
    "# First we create a scikit-learn encoder that computes \n",
    "#  the age in days of columns containing dates\n",
    "class AgeEncoder(TransformerMixin, BaseEstimator):\n",
    "    def fit(self, X, y=None):\n",
    "        self.today = Timestamp.today()\n",
    "        return self\n",
    "\n",
    "    def transform(self, X):\n",
    "        return X.apply(lambda x: (x - self.today).dt.days, axis=0)\n",
    "\n",
    "# Centers and reduces (variance=1) columns\n",
    "standard_scaler = StandardScaler()\n",
    "\n",
    "# One-hot encode, similar to pd.get_dummies\n",
    "one_hot_encoder = OneHotEncoder(drop='first', sparse=False)\n",
    "\n",
    "# A pipeline that first computes age, and standardizes it\n",
    "scaled_age_encoder = Pipeline([\n",
    "    ('age', AgeEncoder()),\n",
    "    ('scaling', StandardScaler())\n",
    "])\n",
    "\n",
    "# Let's combine all these transformations\n",
    "transformer = ColumnTransformer([\n",
    "    ('standard_scaling', standard_scaler, cnt_featnames),\n",
    "    ('one_hot_encoding', one_hot_encoder, cat_featnames),\n",
    "    ('dates_age_scaled', scaled_age_encoder, date_featnames)\n",
    "])\n",
    "\n",
    "gro_prep = transformer.fit_transform(df)"
   ]
  },
  {
   "cell_type": "code",
   "execution_count": 56,
   "metadata": {
    "ExecuteTime": {
     "end_time": "2020-10-08T17:12:33.420913Z",
     "start_time": "2020-10-08T17:12:33.415996Z"
    }
   },
   "outputs": [],
   "source": [
    "with open(\"gro_prep_array.pkl\", 'wb') as f:\n",
    "    pkl.dump(gro_prep, f)"
   ]
  },
  {
   "cell_type": "markdown",
   "metadata": {},
   "source": [
    "Nous avons perdu le nom des variables, ce n'est pas grave pour de l'apprentissage pur. C'est une chose qui manque sur sklearn, on peut s'en sortir avec pandas mais ce n'est pas très élégant."
   ]
  },
  {
   "cell_type": "code",
   "execution_count": 57,
   "metadata": {},
   "outputs": [],
   "source": [
    "df_gro_prep = pd.DataFrame(gro_prep)"
   ]
  },
  {
   "cell_type": "code",
   "execution_count": 58,
   "metadata": {},
   "outputs": [
    {
     "name": "stdout",
     "output_type": "stream",
     "text": [
      "(6473, 36)\n"
     ]
    },
    {
     "data": {
      "text/html": [
       "<div>\n",
       "<style scoped>\n",
       "    .dataframe tbody tr th:only-of-type {\n",
       "        vertical-align: middle;\n",
       "    }\n",
       "\n",
       "    .dataframe tbody tr th {\n",
       "        vertical-align: top;\n",
       "    }\n",
       "\n",
       "    .dataframe thead th {\n",
       "        text-align: right;\n",
       "    }\n",
       "</style>\n",
       "<table border=\"1\" class=\"dataframe\">\n",
       "  <thead>\n",
       "    <tr style=\"text-align: right;\">\n",
       "      <th></th>\n",
       "      <th>0</th>\n",
       "      <th>1</th>\n",
       "      <th>2</th>\n",
       "      <th>3</th>\n",
       "      <th>4</th>\n",
       "      <th>5</th>\n",
       "      <th>6</th>\n",
       "      <th>7</th>\n",
       "      <th>8</th>\n",
       "      <th>9</th>\n",
       "      <th>...</th>\n",
       "      <th>26</th>\n",
       "      <th>27</th>\n",
       "      <th>28</th>\n",
       "      <th>29</th>\n",
       "      <th>30</th>\n",
       "      <th>31</th>\n",
       "      <th>32</th>\n",
       "      <th>33</th>\n",
       "      <th>34</th>\n",
       "      <th>35</th>\n",
       "    </tr>\n",
       "  </thead>\n",
       "  <tbody>\n",
       "    <tr>\n",
       "      <th>0</th>\n",
       "      <td>-0.251937</td>\n",
       "      <td>-0.070473</td>\n",
       "      <td>-0.148677</td>\n",
       "      <td>1.483162</td>\n",
       "      <td>1.0</td>\n",
       "      <td>0.0</td>\n",
       "      <td>0.0</td>\n",
       "      <td>0.0</td>\n",
       "      <td>1.0</td>\n",
       "      <td>1.0</td>\n",
       "      <td>...</td>\n",
       "      <td>0.0</td>\n",
       "      <td>0.0</td>\n",
       "      <td>0.0</td>\n",
       "      <td>0.0</td>\n",
       "      <td>0.0</td>\n",
       "      <td>0.0</td>\n",
       "      <td>0.0</td>\n",
       "      <td>-0.116527</td>\n",
       "      <td>0.452913</td>\n",
       "      <td>0.459772</td>\n",
       "    </tr>\n",
       "    <tr>\n",
       "      <th>1</th>\n",
       "      <td>-1.155534</td>\n",
       "      <td>-0.070473</td>\n",
       "      <td>-0.445207</td>\n",
       "      <td>1.483162</td>\n",
       "      <td>1.0</td>\n",
       "      <td>0.0</td>\n",
       "      <td>0.0</td>\n",
       "      <td>0.0</td>\n",
       "      <td>1.0</td>\n",
       "      <td>1.0</td>\n",
       "      <td>...</td>\n",
       "      <td>0.0</td>\n",
       "      <td>0.0</td>\n",
       "      <td>0.0</td>\n",
       "      <td>0.0</td>\n",
       "      <td>0.0</td>\n",
       "      <td>0.0</td>\n",
       "      <td>0.0</td>\n",
       "      <td>0.469771</td>\n",
       "      <td>0.477949</td>\n",
       "      <td>0.611862</td>\n",
       "    </tr>\n",
       "    <tr>\n",
       "      <th>2</th>\n",
       "      <td>-0.051138</td>\n",
       "      <td>-0.758766</td>\n",
       "      <td>-0.296942</td>\n",
       "      <td>-0.777377</td>\n",
       "      <td>0.0</td>\n",
       "      <td>1.0</td>\n",
       "      <td>0.0</td>\n",
       "      <td>0.0</td>\n",
       "      <td>1.0</td>\n",
       "      <td>1.0</td>\n",
       "      <td>...</td>\n",
       "      <td>0.0</td>\n",
       "      <td>0.0</td>\n",
       "      <td>0.0</td>\n",
       "      <td>0.0</td>\n",
       "      <td>0.0</td>\n",
       "      <td>0.0</td>\n",
       "      <td>0.0</td>\n",
       "      <td>0.189019</td>\n",
       "      <td>-0.530214</td>\n",
       "      <td>-0.971257</td>\n",
       "    </tr>\n",
       "    <tr>\n",
       "      <th>3</th>\n",
       "      <td>-0.251937</td>\n",
       "      <td>-0.070473</td>\n",
       "      <td>-0.445207</td>\n",
       "      <td>0.729649</td>\n",
       "      <td>1.0</td>\n",
       "      <td>0.0</td>\n",
       "      <td>0.0</td>\n",
       "      <td>0.0</td>\n",
       "      <td>1.0</td>\n",
       "      <td>1.0</td>\n",
       "      <td>...</td>\n",
       "      <td>0.0</td>\n",
       "      <td>0.0</td>\n",
       "      <td>0.0</td>\n",
       "      <td>0.0</td>\n",
       "      <td>0.0</td>\n",
       "      <td>0.0</td>\n",
       "      <td>0.0</td>\n",
       "      <td>0.104618</td>\n",
       "      <td>0.497207</td>\n",
       "      <td>0.957521</td>\n",
       "    </tr>\n",
       "    <tr>\n",
       "      <th>4</th>\n",
       "      <td>-0.954735</td>\n",
       "      <td>-0.070473</td>\n",
       "      <td>-0.445207</td>\n",
       "      <td>1.483162</td>\n",
       "      <td>0.0</td>\n",
       "      <td>0.0</td>\n",
       "      <td>0.0</td>\n",
       "      <td>0.0</td>\n",
       "      <td>1.0</td>\n",
       "      <td>1.0</td>\n",
       "      <td>...</td>\n",
       "      <td>0.0</td>\n",
       "      <td>0.0</td>\n",
       "      <td>0.0</td>\n",
       "      <td>1.0</td>\n",
       "      <td>0.0</td>\n",
       "      <td>0.0</td>\n",
       "      <td>0.0</td>\n",
       "      <td>0.934602</td>\n",
       "      <td>0.312329</td>\n",
       "      <td>-0.909038</td>\n",
       "    </tr>\n",
       "  </tbody>\n",
       "</table>\n",
       "<p>5 rows × 36 columns</p>\n",
       "</div>"
      ],
      "text/plain": [
       "         0         1         2         3    4    5    6    7    8    9   ...  \\\n",
       "0 -0.251937 -0.070473 -0.148677  1.483162  1.0  0.0  0.0  0.0  1.0  1.0  ...   \n",
       "1 -1.155534 -0.070473 -0.445207  1.483162  1.0  0.0  0.0  0.0  1.0  1.0  ...   \n",
       "2 -0.051138 -0.758766 -0.296942 -0.777377  0.0  1.0  0.0  0.0  1.0  1.0  ...   \n",
       "3 -0.251937 -0.070473 -0.445207  0.729649  1.0  0.0  0.0  0.0  1.0  1.0  ...   \n",
       "4 -0.954735 -0.070473 -0.445207  1.483162  0.0  0.0  0.0  0.0  1.0  1.0  ...   \n",
       "\n",
       "    26   27   28   29   30   31   32        33        34        35  \n",
       "0  0.0  0.0  0.0  0.0  0.0  0.0  0.0 -0.116527  0.452913  0.459772  \n",
       "1  0.0  0.0  0.0  0.0  0.0  0.0  0.0  0.469771  0.477949  0.611862  \n",
       "2  0.0  0.0  0.0  0.0  0.0  0.0  0.0  0.189019 -0.530214 -0.971257  \n",
       "3  0.0  0.0  0.0  0.0  0.0  0.0  0.0  0.104618  0.497207  0.957521  \n",
       "4  0.0  0.0  0.0  1.0  0.0  0.0  0.0  0.934602  0.312329 -0.909038  \n",
       "\n",
       "[5 rows x 36 columns]"
      ]
     },
     "execution_count": 58,
     "metadata": {},
     "output_type": "execute_result"
    }
   ],
   "source": [
    "print(gro_prep.shape)\n",
    "df_gro_prep.head()"
   ]
  },
  {
   "cell_type": "markdown",
   "metadata": {},
   "source": [
    "Les colonnes numériques ont été mise en premier, ensuite les tableaux disjonctifs des colonnes catégorielles, puis les dates transformées en âge"
   ]
  },
  {
   "cell_type": "markdown",
   "metadata": {},
   "source": [
    "Je récupère les noms des tableaux disjonctifs via pandas (c'est là que ce n'est pas élégant)"
   ]
  },
  {
   "cell_type": "code",
   "execution_count": 59,
   "metadata": {},
   "outputs": [
    {
     "data": {
      "text/plain": [
       "['Nb_Of_Products',\n",
       " 'Customer_Type#Non Existing Client',\n",
       " 'P_Client#P_Client',\n",
       " 'Educational_Level#Master/PhD',\n",
       " 'Educational_Level#Secondary or Less',\n",
       " 'Educational_Level#University',\n",
       " 'Marital_Status#Married',\n",
       " 'Marital_Status#Separated',\n",
       " 'Marital_Status#Single',\n",
       " 'Marital_Status#Widowed',\n",
       " 'Prod_Sub_Category#G',\n",
       " 'Prod_Sub_Category#P',\n",
       " 'Source#Sales',\n",
       " 'Type_Of_Residence#New rent',\n",
       " 'Type_Of_Residence#Old rent',\n",
       " 'Type_Of_Residence#Owned',\n",
       " 'Type_Of_Residence#Parents',\n",
       " 'Prod_Category#B',\n",
       " 'Prod_Category#C',\n",
       " 'Prod_Category#D',\n",
       " 'Prod_Category#E',\n",
       " 'Prod_Category#F',\n",
       " 'Prod_Category#G',\n",
       " 'Prod_Category#H',\n",
       " 'Prod_Category#I',\n",
       " 'Prod_Category#J',\n",
       " 'Prod_Category#K',\n",
       " 'Prod_Category#L',\n",
       " 'Prod_Category#M']"
      ]
     },
     "execution_count": 59,
     "metadata": {},
     "output_type": "execute_result"
    }
   ],
   "source": [
    "noms_cat = pd.get_dummies(df[cat_featnames],prefix_sep='#', drop_first=True).columns\n",
    "noms_cat.to_list()"
   ]
  },
  {
   "cell_type": "code",
   "execution_count": 60,
   "metadata": {},
   "outputs": [],
   "source": [
    "df_gro_prep.columns = cnt_featnames + noms_cat.to_list() + date_featnames"
   ]
  },
  {
   "cell_type": "code",
   "execution_count": 61,
   "metadata": {},
   "outputs": [],
   "source": [
    "df_gro_prep['Y'] = df['Y']\n",
    "df_gro_prep.to_pickle(\"gro_prep_df.pkl\")"
   ]
  },
  {
   "cell_type": "markdown",
   "metadata": {},
   "source": [
    "# A faire\n",
    "- pour les variables avec données manquantes (sauf `Prod_Closed_Date`), elles sont toutes numériques, on peut essayer d'imputer les valeurs manquantes en remplaçant les valeurs manquantes par la médiane (il y a d'autres solutions dans les variables sont catégorielles ou autre)\n",
    "- pour la variable `Prod_Closed_Date`, créer une nouvelle variable qui indique si elle est manquante ou non\n",
    "- ensuite faire les transformations des données comme dans préparation finale"
   ]
  },
  {
   "cell_type": "code",
   "execution_count": null,
   "metadata": {},
   "outputs": [],
   "source": []
  }
 ],
 "metadata": {
  "kernelspec": {
   "display_name": "Python 3 (ipykernel)",
   "language": "python",
   "name": "python3"
  },
  "language_info": {
   "codemirror_mode": {
    "name": "ipython",
    "version": 3
   },
   "file_extension": ".py",
   "mimetype": "text/x-python",
   "name": "python",
   "nbconvert_exporter": "python",
   "pygments_lexer": "ipython3",
   "version": "3.9.12"
  },
  "toc": {
   "base_numbering": 1,
   "nav_menu": {},
   "number_sections": true,
   "sideBar": true,
   "skip_h1_title": false,
   "title_cell": "Table of Contents",
   "title_sidebar": "Contents",
   "toc_cell": false,
   "toc_position": {},
   "toc_section_display": true,
   "toc_window_display": false
  }
 },
 "nbformat": 4,
 "nbformat_minor": 4
}
